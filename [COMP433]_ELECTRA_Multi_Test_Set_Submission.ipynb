{
 "cells": [
  {
   "cell_type": "code",
   "execution_count": 1,
   "id": "8222cb2e",
   "metadata": {
    "execution": {
     "iopub.execute_input": "2024-11-24T23:49:39.231662Z",
     "iopub.status.busy": "2024-11-24T23:49:39.230845Z",
     "iopub.status.idle": "2024-11-24T23:49:52.865524Z",
     "shell.execute_reply": "2024-11-24T23:49:52.864480Z"
    },
    "executionInfo": {
     "elapsed": 52355,
     "status": "ok",
     "timestamp": 1732226895891,
     "user": {
      "displayName": "Nico Cook",
      "userId": "08492859191137620434"
     },
     "user_tz": 300
    },
    "id": "GRSvsCrW5jyG",
    "outputId": "538b447e-01aa-415f-b058-b938a134a857",
    "papermill": {
     "duration": 13.642739,
     "end_time": "2024-11-24T23:49:52.867863",
     "exception": false,
     "start_time": "2024-11-24T23:49:39.225124",
     "status": "completed"
    },
    "tags": []
   },
   "outputs": [],
   "source": [
    "!pip install -q keras-nlp --upgrade"
   ]
  },
  {
   "cell_type": "code",
   "execution_count": 2,
   "id": "1967b738",
   "metadata": {
    "execution": {
     "iopub.execute_input": "2024-11-24T23:49:52.876387Z",
     "iopub.status.busy": "2024-11-24T23:49:52.876077Z",
     "iopub.status.idle": "2024-11-24T23:50:14.088497Z",
     "shell.execute_reply": "2024-11-24T23:50:14.087739Z"
    },
    "id": "lRbFd-C55tgL",
    "papermill": {
     "duration": 21.218998,
     "end_time": "2024-11-24T23:50:14.090499",
     "exception": false,
     "start_time": "2024-11-24T23:49:52.871501",
     "status": "completed"
    },
    "tags": []
   },
   "outputs": [],
   "source": [
    "import matplotlib.pyplot as plt\n",
    "import pandas as pd\n",
    "import numpy\n",
    "import keras_nlp\n",
    "import keras\n",
    "import tensorflow as tf\n",
    "import os\n",
    "import gc\n",
    "\n",
    "keras.mixed_precision.set_global_policy(\"mixed_float16\")"
   ]
  },
  {
   "cell_type": "code",
   "execution_count": 3,
   "id": "81bda6d4",
   "metadata": {
    "execution": {
     "iopub.execute_input": "2024-11-24T23:50:14.099234Z",
     "iopub.status.busy": "2024-11-24T23:50:14.098746Z",
     "iopub.status.idle": "2024-11-24T23:50:14.105234Z",
     "shell.execute_reply": "2024-11-24T23:50:14.104320Z"
    },
    "id": "kxZ2FlVzt--I",
    "outputId": "af3ff114-7ba8-4031-f689-024848298cf7",
    "papermill": {
     "duration": 0.012456,
     "end_time": "2024-11-24T23:50:14.106810",
     "exception": false,
     "start_time": "2024-11-24T23:50:14.094354",
     "status": "completed"
    },
    "tags": []
   },
   "outputs": [
    {
     "name": "stdout",
     "output_type": "stream",
     "text": [
      "/kaggle/input/contradictory-my-dear-watson/sample_submission.csv\n",
      "/kaggle/input/contradictory-my-dear-watson/train.csv\n",
      "/kaggle/input/contradictory-my-dear-watson/test.csv\n"
     ]
    }
   ],
   "source": [
    "DATA_DIR = '/kaggle/input/contradictory-my-dear-watson/'\n",
    "for dirname, _, filenames in os.walk(DATA_DIR):\n",
    "    for filename in filenames:\n",
    "        print(os.path.join(dirname, filename))"
   ]
  },
  {
   "cell_type": "code",
   "execution_count": 4,
   "id": "237e799b",
   "metadata": {
    "execution": {
     "iopub.execute_input": "2024-11-24T23:50:14.115074Z",
     "iopub.status.busy": "2024-11-24T23:50:14.114796Z",
     "iopub.status.idle": "2024-11-24T23:50:14.377914Z",
     "shell.execute_reply": "2024-11-24T23:50:14.376852Z"
    },
    "executionInfo": {
     "elapsed": 7,
     "status": "ok",
     "timestamp": 1732226899678,
     "user": {
      "displayName": "Nico Cook",
      "userId": "08492859191137620434"
     },
     "user_tz": 300
    },
    "id": "3JL4mqEl56EI",
    "outputId": "6e3114df-aa0a-4e10-c41b-6aac5bbbac43",
    "papermill": {
     "duration": 0.269467,
     "end_time": "2024-11-24T23:50:14.379828",
     "exception": false,
     "start_time": "2024-11-24T23:50:14.110361",
     "status": "completed"
    },
    "tags": []
   },
   "outputs": [
    {
     "data": {
      "text/html": [
       "<div>\n",
       "<style scoped>\n",
       "    .dataframe tbody tr th:only-of-type {\n",
       "        vertical-align: middle;\n",
       "    }\n",
       "\n",
       "    .dataframe tbody tr th {\n",
       "        vertical-align: top;\n",
       "    }\n",
       "\n",
       "    .dataframe thead th {\n",
       "        text-align: right;\n",
       "    }\n",
       "</style>\n",
       "<table border=\"1\" class=\"dataframe\">\n",
       "  <thead>\n",
       "    <tr style=\"text-align: right;\">\n",
       "      <th></th>\n",
       "      <th>id</th>\n",
       "      <th>premise</th>\n",
       "      <th>hypothesis</th>\n",
       "      <th>lang_abv</th>\n",
       "      <th>language</th>\n",
       "      <th>label</th>\n",
       "    </tr>\n",
       "  </thead>\n",
       "  <tbody>\n",
       "    <tr>\n",
       "      <th>0</th>\n",
       "      <td>5130fd2cb5</td>\n",
       "      <td>and these comments were considered in formulat...</td>\n",
       "      <td>the rules developed in the interim were put to...</td>\n",
       "      <td>en</td>\n",
       "      <td>English</td>\n",
       "      <td>0</td>\n",
       "    </tr>\n",
       "    <tr>\n",
       "      <th>1</th>\n",
       "      <td>5b72532a0b</td>\n",
       "      <td>these are issues that we wrestle with in pract...</td>\n",
       "      <td>practice groups are not permitted to work on t...</td>\n",
       "      <td>en</td>\n",
       "      <td>English</td>\n",
       "      <td>2</td>\n",
       "    </tr>\n",
       "    <tr>\n",
       "      <th>2</th>\n",
       "      <td>3931fbe82a</td>\n",
       "      <td>des petites choses comme celles-là font une di...</td>\n",
       "      <td>j'essayais d'accomplir quelque chose</td>\n",
       "      <td>fr</td>\n",
       "      <td>French</td>\n",
       "      <td>0</td>\n",
       "    </tr>\n",
       "    <tr>\n",
       "      <th>3</th>\n",
       "      <td>5622f0c60b</td>\n",
       "      <td>you know they can't really defend themselves l...</td>\n",
       "      <td>they can't defend themselves because of their age</td>\n",
       "      <td>en</td>\n",
       "      <td>English</td>\n",
       "      <td>0</td>\n",
       "    </tr>\n",
       "    <tr>\n",
       "      <th>4</th>\n",
       "      <td>86aaa48b45</td>\n",
       "      <td>ในการเล่นบทบาทสมมุติก็เช่นกัน โอกาสที่จะได้แสด...</td>\n",
       "      <td>เด็กสามารถเห็นได้ว่าชาติพันธุ์แตกต่างกันอย่างไร</td>\n",
       "      <td>th</td>\n",
       "      <td>Thai</td>\n",
       "      <td>1</td>\n",
       "    </tr>\n",
       "  </tbody>\n",
       "</table>\n",
       "</div>"
      ],
      "text/plain": [
       "           id                                            premise  \\\n",
       "0  5130fd2cb5  and these comments were considered in formulat...   \n",
       "1  5b72532a0b  these are issues that we wrestle with in pract...   \n",
       "2  3931fbe82a  des petites choses comme celles-là font une di...   \n",
       "3  5622f0c60b  you know they can't really defend themselves l...   \n",
       "4  86aaa48b45  ในการเล่นบทบาทสมมุติก็เช่นกัน โอกาสที่จะได้แสด...   \n",
       "\n",
       "                                          hypothesis lang_abv language  label  \n",
       "0  the rules developed in the interim were put to...       en  English      0  \n",
       "1  practice groups are not permitted to work on t...       en  English      2  \n",
       "2               j'essayais d'accomplir quelque chose       fr   French      0  \n",
       "3  they can't defend themselves because of their age       en  English      0  \n",
       "4    เด็กสามารถเห็นได้ว่าชาติพันธุ์แตกต่างกันอย่างไร       th     Thai      1  "
      ]
     },
     "execution_count": 4,
     "metadata": {},
     "output_type": "execute_result"
    }
   ],
   "source": [
    "df_train = pd.read_csv(DATA_DIR + \"train.csv\")\n",
    "\n",
    "df_train[\"premise\"] = df_train[\"premise\"].apply(lambda x: x.lower())\n",
    "\n",
    "df_train[\"hypothesis\"] = df_train[\"hypothesis\"].apply(lambda x: x.lower())\n",
    "\n",
    "spec_char_regex = r\"[.!?,:;\\\"{}\\[\\]\\(\\)\\~<>|\\\\/+*/@#$%^]+\"\n",
    "df_train[\"premise\"] = df_train[\"premise\"].replace(to_replace=spec_char_regex, value=\"\", regex=True)\n",
    "\n",
    "df_train[\"hypothesis\"] = df_train[\"hypothesis\"].replace(to_replace=spec_char_regex, value=\"\", regex=True)\n",
    "\n",
    "numbers_regex = r\"[0-9]+\"\n",
    "df_train[\"premise\"] = df_train[\"premise\"].replace(to_replace=numbers_regex, value=\"\", regex=True)\n",
    "\n",
    "df_train[\"hypothesis\"] = df_train[\"hypothesis\"].replace(to_replace=numbers_regex, value=\"\", regex=True)\n",
    "\n",
    "df_train.head()\n"
   ]
  },
  {
   "cell_type": "code",
   "execution_count": 5,
   "id": "03e2046f",
   "metadata": {
    "execution": {
     "iopub.execute_input": "2024-11-24T23:50:14.389652Z",
     "iopub.status.busy": "2024-11-24T23:50:14.389180Z",
     "iopub.status.idle": "2024-11-24T23:50:14.393213Z",
     "shell.execute_reply": "2024-11-24T23:50:14.392351Z"
    },
    "id": "pdMmww5_7K3G",
    "papermill": {
     "duration": 0.010311,
     "end_time": "2024-11-24T23:50:14.395097",
     "exception": false,
     "start_time": "2024-11-24T23:50:14.384786",
     "status": "completed"
    },
    "tags": []
   },
   "outputs": [],
   "source": [
    "def split_labels(x, y):\n",
    "    return (x[0], x[1]), y\n",
    "    "
   ]
  },
  {
   "cell_type": "markdown",
   "id": "b1e02445",
   "metadata": {
    "id": "lkFK-BYX9h6S",
    "papermill": {
     "duration": 0.003224,
     "end_time": "2024-11-24T23:50:14.402047",
     "exception": false,
     "start_time": "2024-11-24T23:50:14.398823",
     "status": "completed"
    },
    "tags": []
   },
   "source": [
    "- Use this block if the preprocessor used for the model is changed from bert base multi"
   ]
  },
  {
   "cell_type": "code",
   "execution_count": 6,
   "id": "15dc19e3",
   "metadata": {
    "execution": {
     "iopub.execute_input": "2024-11-24T23:50:14.410294Z",
     "iopub.status.busy": "2024-11-24T23:50:14.410042Z",
     "iopub.status.idle": "2024-11-24T23:50:15.831030Z",
     "shell.execute_reply": "2024-11-24T23:50:15.830228Z"
    },
    "executionInfo": {
     "elapsed": 422,
     "status": "ok",
     "timestamp": 1732226983828,
     "user": {
      "displayName": "Nico Cook",
      "userId": "08492859191137620434"
     },
     "user_tz": 300
    },
    "id": "C-2VfM52-bPb",
    "outputId": "5306f093-4f37-4ae9-d89a-809cf2fc20b8",
    "papermill": {
     "duration": 1.427722,
     "end_time": "2024-11-24T23:50:15.833414",
     "exception": false,
     "start_time": "2024-11-24T23:50:14.405692",
     "status": "completed"
    },
    "tags": []
   },
   "outputs": [
    {
     "name": "stdout",
     "output_type": "stream",
     "text": [
      "Size of the train dataset: 12120\n"
     ]
    }
   ],
   "source": [
    "batch_size = 28\n",
    "buffer_size = batch_size * 10\n",
    "\n",
    "training_dataset = (\n",
    "    tf.data.Dataset.from_tensor_slices(\n",
    "        (\n",
    "            df_train[[\"hypothesis\", \"premise\"]].values,\n",
    "            df_train[\"label\"].values\n",
    "        )\n",
    "    )\n",
    ")\n",
    "\n",
    "print(f\"Size of the train dataset: {len(training_dataset)}\")\n",
    "\n",
    "train_preprocessed = training_dataset.shuffle(buffer_size=buffer_size).map(split_labels, tf.data.AUTOTUNE).batch(batch_size, drop_remainder=True).prefetch(tf.data.AUTOTUNE)\n"
   ]
  },
  {
   "cell_type": "code",
   "execution_count": 7,
   "id": "6cac00dd",
   "metadata": {
    "execution": {
     "iopub.execute_input": "2024-11-24T23:50:15.842876Z",
     "iopub.status.busy": "2024-11-24T23:50:15.842064Z",
     "iopub.status.idle": "2024-11-25T00:04:51.154470Z",
     "shell.execute_reply": "2024-11-25T00:04:51.153727Z"
    },
    "executionInfo": {
     "elapsed": 219150,
     "status": "ok",
     "timestamp": 1732228334084,
     "user": {
      "displayName": "Nico Cook",
      "userId": "08492859191137620434"
     },
     "user_tz": 300
    },
    "id": "M7orcv2auR3v",
    "outputId": "09dcb5e5-dd59-47a6-f82d-cb010fdcdd2e",
    "papermill": {
     "duration": 875.318966,
     "end_time": "2024-11-25T00:04:51.156197",
     "exception": false,
     "start_time": "2024-11-24T23:50:15.837231",
     "status": "completed"
    },
    "tags": []
   },
   "outputs": [
    {
     "name": "stdout",
     "output_type": "stream",
     "text": [
      "Epoch 1/5\n"
     ]
    },
    {
     "name": "stderr",
     "output_type": "stream",
     "text": [
      "WARNING: All log messages before absl::InitializeLog() is called are written to STDERR\n",
      "I0000 00:00:1732492260.478681      70 service.cc:145] XLA service 0x792f0802fb50 initialized for platform CUDA (this does not guarantee that XLA will be used). Devices:\n",
      "I0000 00:00:1732492260.478776      70 service.cc:153]   StreamExecutor device (0): Tesla T4, Compute Capability 7.5\n",
      "I0000 00:00:1732492260.478782      70 service.cc:153]   StreamExecutor device (1): Tesla T4, Compute Capability 7.5\n",
      "I0000 00:00:1732492357.445281      70 device_compiler.h:188] Compiled cluster using XLA!  This line is logged at most once for the lifetime of the process.\n"
     ]
    },
    {
     "name": "stdout",
     "output_type": "stream",
     "text": [
      "\u001b[1m432/432\u001b[0m \u001b[32m━━━━━━━━━━━━━━━━━━━━\u001b[0m\u001b[37m\u001b[0m \u001b[1m276s\u001b[0m 334ms/step - loss: 1.0453 - sparse_categorical_accuracy: 0.4139\n",
      "Epoch 2/5\n",
      "\u001b[1m432/432\u001b[0m \u001b[32m━━━━━━━━━━━━━━━━━━━━\u001b[0m\u001b[37m\u001b[0m \u001b[1m148s\u001b[0m 342ms/step - loss: 0.8148 - sparse_categorical_accuracy: 0.5759\n",
      "Epoch 3/5\n",
      "\u001b[1m432/432\u001b[0m \u001b[32m━━━━━━━━━━━━━━━━━━━━\u001b[0m\u001b[37m\u001b[0m \u001b[1m147s\u001b[0m 341ms/step - loss: 0.6709 - sparse_categorical_accuracy: 0.6398\n",
      "Epoch 4/5\n",
      "\u001b[1m432/432\u001b[0m \u001b[32m━━━━━━━━━━━━━━━━━━━━\u001b[0m\u001b[37m\u001b[0m \u001b[1m147s\u001b[0m 341ms/step - loss: 0.6016 - sparse_categorical_accuracy: 0.6695\n",
      "Epoch 5/5\n",
      "\u001b[1m432/432\u001b[0m \u001b[32m━━━━━━━━━━━━━━━━━━━━\u001b[0m\u001b[37m\u001b[0m \u001b[1m147s\u001b[0m 340ms/step - loss: 0.5627 - sparse_categorical_accuracy: 0.6808\n"
     ]
    }
   ],
   "source": [
    "electra_discriminator_token = keras_nlp.models.Tokenizer.from_preset(\"electra_base_discriminator_uncased_en\")\n",
    "bert_preprocessor = keras_nlp.models.BertTextClassifierPreprocessor(electra_discriminator_token, sequence_length=240)\n",
    "train_set = (\n",
    "    train_preprocessed.map(bert_preprocessor, tf.data.AUTOTUNE).cache().prefetch(tf.data.AUTOTUNE)\n",
    ")\n",
    "\n",
    "electra_discriminator_back = keras_nlp.models.Backbone.from_preset(\"electra_base_discriminator_uncased_en\")\n",
    "classifier = keras_nlp.models.BertClassifier(electra_discriminator_back, 3, preprocessor=None)\n",
    "classifier_history = classifier.fit(train_set, epochs=5)\n",
    "training_losses = classifier_history.history[\"loss\"]\n"
   ]
  },
  {
   "cell_type": "markdown",
   "id": "b6e82bc7",
   "metadata": {
    "id": "oIjfatkr-4Ej",
    "papermill": {
     "duration": 0.109132,
     "end_time": "2024-11-25T00:04:51.375173",
     "exception": false,
     "start_time": "2024-11-25T00:04:51.266041",
     "status": "completed"
    },
    "tags": []
   },
   "source": [
    "### Predictions on test data for submission"
   ]
  },
  {
   "cell_type": "code",
   "execution_count": 8,
   "id": "e890bbc0",
   "metadata": {
    "execution": {
     "iopub.execute_input": "2024-11-25T00:04:51.593912Z",
     "iopub.status.busy": "2024-11-25T00:04:51.593539Z",
     "iopub.status.idle": "2024-11-25T00:04:51.656568Z",
     "shell.execute_reply": "2024-11-25T00:04:51.655575Z"
    },
    "executionInfo": {
     "elapsed": 324,
     "status": "ok",
     "timestamp": 1732228340480,
     "user": {
      "displayName": "Nico Cook",
      "userId": "08492859191137620434"
     },
     "user_tz": 300
    },
    "id": "gG-k9sXPC2B7",
    "outputId": "b3869347-bbcb-4a5b-a1aa-4a410b41a1ea",
    "papermill": {
     "duration": 0.174046,
     "end_time": "2024-11-25T00:04:51.658408",
     "exception": false,
     "start_time": "2024-11-25T00:04:51.484362",
     "status": "completed"
    },
    "tags": []
   },
   "outputs": [
    {
     "name": "stdout",
     "output_type": "stream",
     "text": [
      "           id                                            premise  \\\n",
      "0  c6d58c3f69  بکس، کیسی، راہیل، یسعیاہ، کیلی، کیلی، اور کولم...   \n",
      "1  cefcc82292                             هذا هو ما تم نصحنا به.   \n",
      "2  e98005252c  et cela est en grande partie dû au fait que le...   \n",
      "3  58518c10ba                   与城市及其他公民及社区组织代表就IMA的艺术发展进行对话&amp   \n",
      "4  c32b0d16df                              Она все еще была там.   \n",
      "\n",
      "                                          hypothesis lang_abv language  \n",
      "0  کیسی کے لئے کوئی یادگار نہیں ہوگا, کولمین ہائی...       ur     Urdu  \n",
      "1  عندما يتم إخبارهم بما يجب عليهم فعله ، فشلت ال...       ar   Arabic  \n",
      "2                             Les mères se droguent.       fr   French  \n",
      "3                            IMA与其他组织合作，因为它们都依靠共享资金。       zh  Chinese  \n",
      "4     Мы думали, что она ушла, однако, она осталась.       ru  Russian  \n"
     ]
    }
   ],
   "source": [
    "df_test = pd.read_csv(DATA_DIR + \"test.csv\")\n",
    "print(df_test.head())\n",
    "df_test[\"label\"] = [0] * len(df_test)\n"
   ]
  },
  {
   "cell_type": "code",
   "execution_count": 9,
   "id": "880dd4a3",
   "metadata": {
    "execution": {
     "iopub.execute_input": "2024-11-25T00:04:51.874445Z",
     "iopub.status.busy": "2024-11-25T00:04:51.873657Z",
     "iopub.status.idle": "2024-11-25T00:04:53.077051Z",
     "shell.execute_reply": "2024-11-25T00:04:53.076372Z"
    },
    "executionInfo": {
     "elapsed": 10384,
     "status": "ok",
     "timestamp": 1732228352615,
     "user": {
      "displayName": "Nico Cook",
      "userId": "08492859191137620434"
     },
     "user_tz": 300
    },
    "id": "bnXb9cztDIfp",
    "outputId": "1af4e859-4d37-4654-d79d-b6317c27c829",
    "papermill": {
     "duration": 1.312505,
     "end_time": "2024-11-25T00:04:53.079069",
     "exception": false,
     "start_time": "2024-11-25T00:04:51.766564",
     "status": "completed"
    },
    "tags": []
   },
   "outputs": [
    {
     "name": "stdout",
     "output_type": "stream",
     "text": [
      "5195\n"
     ]
    }
   ],
   "source": [
    "def split_labels(x, y):\n",
    "    return (x[0], x[1]), y\n",
    "\n",
    "testing_dataset = (\n",
    "    tf.data.Dataset.from_tensor_slices(\n",
    "        (\n",
    "            df_test[[\"hypothesis\", \"premise\"]].values,\n",
    "            df_test[\"label\"].values\n",
    "        )\n",
    "    )\n",
    ")\n",
    "\n",
    "print(len(testing_dataset))\n",
    "\n",
    "test_preprocessed = testing_dataset.map(split_labels, tf.data.AUTOTUNE).batch(1, drop_remainder=True).cache().prefetch(tf.data.AUTOTUNE)\n",
    "bert_test_set = (test_preprocessed.map(bert_preprocessor, tf.data.AUTOTUNE).cache().prefetch(tf.data.AUTOTUNE))\n"
   ]
  },
  {
   "cell_type": "code",
   "execution_count": 10,
   "id": "6cc8d9e1",
   "metadata": {
    "execution": {
     "iopub.execute_input": "2024-11-25T00:04:53.291503Z",
     "iopub.status.busy": "2024-11-25T00:04:53.291157Z",
     "iopub.status.idle": "2024-11-25T00:05:41.006544Z",
     "shell.execute_reply": "2024-11-25T00:05:41.005741Z"
    },
    "executionInfo": {
     "elapsed": 24269,
     "status": "ok",
     "timestamp": 1732228380776,
     "user": {
      "displayName": "Nico Cook",
      "userId": "08492859191137620434"
     },
     "user_tz": 300
    },
    "id": "qwJVqtbME1k5",
    "outputId": "e3f6054f-ac09-4e04-a864-41ce5202b421",
    "papermill": {
     "duration": 47.822718,
     "end_time": "2024-11-25T00:05:41.008636",
     "exception": false,
     "start_time": "2024-11-25T00:04:53.185918",
     "status": "completed"
    },
    "tags": []
   },
   "outputs": [
    {
     "name": "stderr",
     "output_type": "stream",
     "text": [
      "WARNING: All log messages before absl::InitializeLog() is called are written to STDERR\n",
      "I0000 00:00:1732493098.669720     169 asm_compiler.cc:369] ptxas warning : Registers are spilled to local memory in function 'triton_gemm_dot_99', 88 bytes spill stores, 88 bytes spill loads\n",
      "\n"
     ]
    },
    {
     "name": "stdout",
     "output_type": "stream",
     "text": [
      "\u001b[1m5195/5195\u001b[0m \u001b[32m━━━━━━━━━━━━━━━━━━━━\u001b[0m\u001b[37m\u001b[0m \u001b[1m45s\u001b[0m 7ms/step\n"
     ]
    }
   ],
   "source": [
    "predictions = classifier.predict(bert_test_set)"
   ]
  },
  {
   "cell_type": "code",
   "execution_count": 11,
   "id": "65820337",
   "metadata": {
    "execution": {
     "iopub.execute_input": "2024-11-25T00:05:41.301585Z",
     "iopub.status.busy": "2024-11-25T00:05:41.301222Z",
     "iopub.status.idle": "2024-11-25T00:05:41.336761Z",
     "shell.execute_reply": "2024-11-25T00:05:41.335628Z"
    },
    "executionInfo": {
     "elapsed": 306,
     "status": "ok",
     "timestamp": 1732228393579,
     "user": {
      "displayName": "Nico Cook",
      "userId": "08492859191137620434"
     },
     "user_tz": 300
    },
    "id": "Ow8ARld3HPFb",
    "outputId": "29c6a1d2-8484-4c39-e6ef-6d66cb3a26d9",
    "papermill": {
     "duration": 0.184223,
     "end_time": "2024-11-25T00:05:41.338838",
     "exception": false,
     "start_time": "2024-11-25T00:05:41.154615",
     "status": "completed"
    },
    "tags": []
   },
   "outputs": [
    {
     "name": "stdout",
     "output_type": "stream",
     "text": [
      "[0 0 0 ... 0 0 2]\n"
     ]
    }
   ],
   "source": [
    "predicted_classes = tf.argmax(predictions, axis=1)\n",
    "predicted_classes_np = predicted_classes.numpy()\n",
    "print(predicted_classes_np)"
   ]
  },
  {
   "cell_type": "code",
   "execution_count": 12,
   "id": "64fb3204",
   "metadata": {
    "execution": {
     "iopub.execute_input": "2024-11-25T00:05:41.673021Z",
     "iopub.status.busy": "2024-11-25T00:05:41.672616Z",
     "iopub.status.idle": "2024-11-25T00:05:41.702894Z",
     "shell.execute_reply": "2024-11-25T00:05:41.701953Z"
    },
    "executionInfo": {
     "elapsed": 349,
     "status": "ok",
     "timestamp": 1732228397478,
     "user": {
      "displayName": "Nico Cook",
      "userId": "08492859191137620434"
     },
     "user_tz": 300
    },
    "id": "QWRUCfyTIGAF",
    "outputId": "6d59ac11-d8cd-47d5-c359-9c9ccbfc5a6d",
    "papermill": {
     "duration": 0.219184,
     "end_time": "2024-11-25T00:05:41.704985",
     "exception": false,
     "start_time": "2024-11-25T00:05:41.485801",
     "status": "completed"
    },
    "tags": []
   },
   "outputs": [
    {
     "data": {
      "text/html": [
       "<div>\n",
       "<style scoped>\n",
       "    .dataframe tbody tr th:only-of-type {\n",
       "        vertical-align: middle;\n",
       "    }\n",
       "\n",
       "    .dataframe tbody tr th {\n",
       "        vertical-align: top;\n",
       "    }\n",
       "\n",
       "    .dataframe thead th {\n",
       "        text-align: right;\n",
       "    }\n",
       "</style>\n",
       "<table border=\"1\" class=\"dataframe\">\n",
       "  <thead>\n",
       "    <tr style=\"text-align: right;\">\n",
       "      <th></th>\n",
       "      <th>id</th>\n",
       "      <th>prediction</th>\n",
       "    </tr>\n",
       "  </thead>\n",
       "  <tbody>\n",
       "    <tr>\n",
       "      <th>0</th>\n",
       "      <td>c6d58c3f69</td>\n",
       "      <td>0</td>\n",
       "    </tr>\n",
       "    <tr>\n",
       "      <th>1</th>\n",
       "      <td>cefcc82292</td>\n",
       "      <td>0</td>\n",
       "    </tr>\n",
       "    <tr>\n",
       "      <th>2</th>\n",
       "      <td>e98005252c</td>\n",
       "      <td>0</td>\n",
       "    </tr>\n",
       "    <tr>\n",
       "      <th>3</th>\n",
       "      <td>58518c10ba</td>\n",
       "      <td>0</td>\n",
       "    </tr>\n",
       "    <tr>\n",
       "      <th>4</th>\n",
       "      <td>c32b0d16df</td>\n",
       "      <td>0</td>\n",
       "    </tr>\n",
       "    <tr>\n",
       "      <th>...</th>\n",
       "      <td>...</td>\n",
       "      <td>...</td>\n",
       "    </tr>\n",
       "    <tr>\n",
       "      <th>5190</th>\n",
       "      <td>5f90dd59b0</td>\n",
       "      <td>0</td>\n",
       "    </tr>\n",
       "    <tr>\n",
       "      <th>5191</th>\n",
       "      <td>f357a04e86</td>\n",
       "      <td>2</td>\n",
       "    </tr>\n",
       "    <tr>\n",
       "      <th>5192</th>\n",
       "      <td>1f0ea92118</td>\n",
       "      <td>0</td>\n",
       "    </tr>\n",
       "    <tr>\n",
       "      <th>5193</th>\n",
       "      <td>0407b48afb</td>\n",
       "      <td>0</td>\n",
       "    </tr>\n",
       "    <tr>\n",
       "      <th>5194</th>\n",
       "      <td>16c2f2ab89</td>\n",
       "      <td>2</td>\n",
       "    </tr>\n",
       "  </tbody>\n",
       "</table>\n",
       "<p>5195 rows × 2 columns</p>\n",
       "</div>"
      ],
      "text/plain": [
       "              id  prediction\n",
       "0     c6d58c3f69           0\n",
       "1     cefcc82292           0\n",
       "2     e98005252c           0\n",
       "3     58518c10ba           0\n",
       "4     c32b0d16df           0\n",
       "...          ...         ...\n",
       "5190  5f90dd59b0           0\n",
       "5191  f357a04e86           2\n",
       "5192  1f0ea92118           0\n",
       "5193  0407b48afb           0\n",
       "5194  16c2f2ab89           2\n",
       "\n",
       "[5195 rows x 2 columns]"
      ]
     },
     "execution_count": 12,
     "metadata": {},
     "output_type": "execute_result"
    }
   ],
   "source": [
    "submission = df_test.id.copy().to_frame()\n",
    "submission[\"prediction\"] = predicted_classes_np\n",
    "submission.to_csv(\"submission.csv\", index=False)\n",
    "\n",
    "submission"
   ]
  }
 ],
 "metadata": {
  "accelerator": "GPU",
  "colab": {
   "gpuType": "A100",
   "machine_shape": "hm",
   "provenance": []
  },
  "kaggle": {
   "accelerator": "nvidiaTeslaT4",
   "dataSources": [
    {
     "databundleVersionId": 1408234,
     "sourceId": 21733,
     "sourceType": "competition"
    },
    {
     "modelId": 2819,
     "modelInstanceId": 4681,
     "sourceId": 6060,
     "sourceType": "modelInstanceVersion"
    },
    {
     "modelId": 24452,
     "modelInstanceId": 16965,
     "sourceId": 20459,
     "sourceType": "modelInstanceVersion"
    }
   ],
   "dockerImageVersionId": 30787,
   "isGpuEnabled": true,
   "isInternetEnabled": true,
   "language": "python",
   "sourceType": "notebook"
  },
  "kernelspec": {
   "display_name": "Python 3",
   "language": "python",
   "name": "python3"
  },
  "language_info": {
   "codemirror_mode": {
    "name": "ipython",
    "version": 3
   },
   "file_extension": ".py",
   "mimetype": "text/x-python",
   "name": "python",
   "nbconvert_exporter": "python",
   "pygments_lexer": "ipython3",
   "version": "3.10.14"
  },
  "papermill": {
   "default_parameters": {},
   "duration": 969.64511,
   "end_time": "2024-11-25T00:05:44.989254",
   "environment_variables": {},
   "exception": null,
   "input_path": "__notebook__.ipynb",
   "output_path": "__notebook__.ipynb",
   "parameters": {},
   "start_time": "2024-11-24T23:49:35.344144",
   "version": "2.6.0"
  }
 },
 "nbformat": 4,
 "nbformat_minor": 5
}
