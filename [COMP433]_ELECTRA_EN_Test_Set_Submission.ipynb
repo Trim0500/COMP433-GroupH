{
 "cells": [
  {
   "cell_type": "code",
   "execution_count": 1,
   "id": "951eefaa",
   "metadata": {
    "_cell_guid": "b1076dfc-b9ad-4769-8c92-a6c4dae69d19",
    "_uuid": "8f2839f25d086af736a60e9eeb907d3b93b6e0e5",
    "execution": {
     "iopub.execute_input": "2024-12-01T23:22:23.325612Z",
     "iopub.status.busy": "2024-12-01T23:22:23.325229Z",
     "iopub.status.idle": "2024-12-01T23:22:35.374138Z",
     "shell.execute_reply": "2024-12-01T23:22:35.373038Z"
    },
    "papermill": {
     "duration": 12.059146,
     "end_time": "2024-12-01T23:22:35.376370",
     "exception": false,
     "start_time": "2024-12-01T23:22:23.317224",
     "status": "completed"
    },
    "tags": []
   },
   "outputs": [],
   "source": [
    "!pip install -q keras-nlp --upgrade"
   ]
  },
  {
   "cell_type": "code",
   "execution_count": 2,
   "id": "a5d1bcbf",
   "metadata": {
    "execution": {
     "iopub.execute_input": "2024-12-01T23:22:35.385071Z",
     "iopub.status.busy": "2024-12-01T23:22:35.384345Z",
     "iopub.status.idle": "2024-12-01T23:22:58.376977Z",
     "shell.execute_reply": "2024-12-01T23:22:58.375782Z"
    },
    "papermill": {
     "duration": 22.999317,
     "end_time": "2024-12-01T23:22:58.379312",
     "exception": false,
     "start_time": "2024-12-01T23:22:35.379995",
     "status": "completed"
    },
    "tags": []
   },
   "outputs": [
    {
     "name": "stdout",
     "output_type": "stream",
     "text": [
      "Collecting gdown\r\n",
      "  Downloading gdown-5.2.0-py3-none-any.whl.metadata (5.8 kB)\r\n",
      "Requirement already satisfied: beautifulsoup4 in /opt/conda/lib/python3.10/site-packages (from gdown) (4.12.3)\r\n",
      "Requirement already satisfied: filelock in /opt/conda/lib/python3.10/site-packages (from gdown) (3.15.1)\r\n",
      "Requirement already satisfied: requests[socks] in /opt/conda/lib/python3.10/site-packages (from gdown) (2.32.3)\r\n",
      "Requirement already satisfied: tqdm in /opt/conda/lib/python3.10/site-packages (from gdown) (4.66.4)\r\n",
      "Requirement already satisfied: soupsieve>1.2 in /opt/conda/lib/python3.10/site-packages (from beautifulsoup4->gdown) (2.5)\r\n",
      "Requirement already satisfied: charset-normalizer<4,>=2 in /opt/conda/lib/python3.10/site-packages (from requests[socks]->gdown) (3.3.2)\r\n",
      "Requirement already satisfied: idna<4,>=2.5 in /opt/conda/lib/python3.10/site-packages (from requests[socks]->gdown) (3.7)\r\n",
      "Requirement already satisfied: urllib3<3,>=1.21.1 in /opt/conda/lib/python3.10/site-packages (from requests[socks]->gdown) (1.26.18)\r\n",
      "Requirement already satisfied: certifi>=2017.4.17 in /opt/conda/lib/python3.10/site-packages (from requests[socks]->gdown) (2024.8.30)\r\n",
      "Requirement already satisfied: PySocks!=1.5.7,>=1.5.6 in /opt/conda/lib/python3.10/site-packages (from requests[socks]->gdown) (1.7.1)\r\n",
      "Downloading gdown-5.2.0-py3-none-any.whl (18 kB)\r\n",
      "Installing collected packages: gdown\r\n",
      "Successfully installed gdown-5.2.0\r\n",
      "/opt/conda/lib/python3.10/site-packages/gdown/__main__.py:140: FutureWarning: Option `--id` was deprecated in version 4.3.1 and will be removed in 5.0. You don't need to pass it anymore to use a file ID.\r\n",
      "  warnings.warn(\r\n",
      "Downloading...\r\n",
      "From (original): https://drive.google.com/uc?id=1pVx4zlZEnpeU5ioAifpQ6PdR1WSJ_dkA\r\n",
      "From (redirected): https://drive.google.com/uc?id=1pVx4zlZEnpeU5ioAifpQ6PdR1WSJ_dkA&confirm=t&uuid=56f927af-fe79-4e37-bcdb-e6219626bf51\r\n",
      "To: /kaggle/working/ELECTRA_EN.weights.h5\r\n",
      "100%|█████████████████████████████████████████| 272M/272M [00:02<00:00, 123MB/s]\r\n",
      "/opt/conda/lib/python3.10/site-packages/gdown/__main__.py:140: FutureWarning: Option `--id` was deprecated in version 4.3.1 and will be removed in 5.0. You don't need to pass it anymore to use a file ID.\r\n",
      "  warnings.warn(\r\n",
      "Downloading...\r\n",
      "From (original): https://drive.google.com/uc?id=1T5lZ4AeaCo-puDxDR3CANeZyG7MEmN3I\r\n",
      "From (redirected): https://drive.google.com/uc?id=1T5lZ4AeaCo-puDxDR3CANeZyG7MEmN3I&confirm=t&uuid=a6715442-f3ad-49f7-b730-9ae459987d31\r\n",
      "To: /kaggle/working/Tuned_ELECTRA_EN.weights.h5\r\n",
      "100%|█████████████████████████████████████████| 272M/272M [00:01<00:00, 202MB/s]\r\n"
     ]
    }
   ],
   "source": [
    "!pip install gdown;\n",
    "!gdown --id 1pVx4zlZEnpeU5ioAifpQ6PdR1WSJ_dkA;\n",
    "!gdown --id 1T5lZ4AeaCo-puDxDR3CANeZyG7MEmN3I;"
   ]
  },
  {
   "cell_type": "code",
   "execution_count": 3,
   "id": "cbb60883",
   "metadata": {
    "execution": {
     "iopub.execute_input": "2024-12-01T23:22:58.391501Z",
     "iopub.status.busy": "2024-12-01T23:22:58.391076Z",
     "iopub.status.idle": "2024-12-01T23:23:13.369711Z",
     "shell.execute_reply": "2024-12-01T23:23:13.368692Z"
    },
    "papermill": {
     "duration": 14.986852,
     "end_time": "2024-12-01T23:23:13.371710",
     "exception": false,
     "start_time": "2024-12-01T23:22:58.384858",
     "status": "completed"
    },
    "tags": []
   },
   "outputs": [
    {
     "name": "stderr",
     "output_type": "stream",
     "text": [
      "/tmp/ipykernel_23/4082429652.py:5: DeprecationWarning: `import kerastuner` is deprecated, please use `import keras_tuner`.\n",
      "  from kerastuner import HyperModel\n"
     ]
    }
   ],
   "source": [
    "import matplotlib.pyplot as plt\n",
    "import pandas as pd\n",
    "import keras_nlp\n",
    "import keras\n",
    "from kerastuner import HyperModel\n",
    "from kerastuner.tuners import RandomSearch\n",
    "import tensorflow as tf\n",
    "import os\n",
    "\n",
    "keras.mixed_precision.set_global_policy(\"mixed_float16\")\n",
    "\n",
    "label_names = [\"entailment\", \"neutral\", \"contradiction\"]"
   ]
  },
  {
   "cell_type": "code",
   "execution_count": 4,
   "id": "5ee169f2",
   "metadata": {
    "execution": {
     "iopub.execute_input": "2024-12-01T23:23:13.385077Z",
     "iopub.status.busy": "2024-12-01T23:23:13.384517Z",
     "iopub.status.idle": "2024-12-01T23:23:13.391256Z",
     "shell.execute_reply": "2024-12-01T23:23:13.390263Z"
    },
    "papermill": {
     "duration": 0.016175,
     "end_time": "2024-12-01T23:23:13.393252",
     "exception": false,
     "start_time": "2024-12-01T23:23:13.377077",
     "status": "completed"
    },
    "tags": []
   },
   "outputs": [
    {
     "name": "stdout",
     "output_type": "stream",
     "text": [
      "/kaggle/input/contradictory-my-dear-watson/sample_submission.csv\n",
      "/kaggle/input/contradictory-my-dear-watson/train.csv\n",
      "/kaggle/input/contradictory-my-dear-watson/test.csv\n"
     ]
    }
   ],
   "source": [
    "DATA_DIR = '/kaggle/input/contradictory-my-dear-watson/'\n",
    "for dirname, _, filenames in os.walk(DATA_DIR):\n",
    "    for filename in filenames:\n",
    "        print(os.path.join(dirname, filename))"
   ]
  },
  {
   "cell_type": "code",
   "execution_count": 5,
   "id": "d6712f8c",
   "metadata": {
    "execution": {
     "iopub.execute_input": "2024-12-01T23:23:13.404734Z",
     "iopub.status.busy": "2024-12-01T23:23:13.404386Z",
     "iopub.status.idle": "2024-12-01T23:23:13.531888Z",
     "shell.execute_reply": "2024-12-01T23:23:13.530790Z"
    },
    "papermill": {
     "duration": 0.135737,
     "end_time": "2024-12-01T23:23:13.534028",
     "exception": false,
     "start_time": "2024-12-01T23:23:13.398291",
     "status": "completed"
    },
    "tags": []
   },
   "outputs": [
    {
     "data": {
      "text/html": [
       "<div>\n",
       "<style scoped>\n",
       "    .dataframe tbody tr th:only-of-type {\n",
       "        vertical-align: middle;\n",
       "    }\n",
       "\n",
       "    .dataframe tbody tr th {\n",
       "        vertical-align: top;\n",
       "    }\n",
       "\n",
       "    .dataframe thead th {\n",
       "        text-align: right;\n",
       "    }\n",
       "</style>\n",
       "<table border=\"1\" class=\"dataframe\">\n",
       "  <thead>\n",
       "    <tr style=\"text-align: right;\">\n",
       "      <th></th>\n",
       "      <th>id</th>\n",
       "      <th>premise</th>\n",
       "      <th>hypothesis</th>\n",
       "      <th>lang_abv</th>\n",
       "      <th>language</th>\n",
       "      <th>label</th>\n",
       "    </tr>\n",
       "  </thead>\n",
       "  <tbody>\n",
       "    <tr>\n",
       "      <th>0</th>\n",
       "      <td>5130fd2cb5</td>\n",
       "      <td>and these comments were considered in formulat...</td>\n",
       "      <td>The rules developed in the interim were put to...</td>\n",
       "      <td>en</td>\n",
       "      <td>English</td>\n",
       "      <td>0</td>\n",
       "    </tr>\n",
       "    <tr>\n",
       "      <th>1</th>\n",
       "      <td>5b72532a0b</td>\n",
       "      <td>These are issues that we wrestle with in pract...</td>\n",
       "      <td>Practice groups are not permitted to work on t...</td>\n",
       "      <td>en</td>\n",
       "      <td>English</td>\n",
       "      <td>2</td>\n",
       "    </tr>\n",
       "    <tr>\n",
       "      <th>2</th>\n",
       "      <td>3931fbe82a</td>\n",
       "      <td>Des petites choses comme celles-là font une di...</td>\n",
       "      <td>J'essayais d'accomplir quelque chose.</td>\n",
       "      <td>fr</td>\n",
       "      <td>French</td>\n",
       "      <td>0</td>\n",
       "    </tr>\n",
       "    <tr>\n",
       "      <th>3</th>\n",
       "      <td>5622f0c60b</td>\n",
       "      <td>you know they can't really defend themselves l...</td>\n",
       "      <td>They can't defend themselves because of their ...</td>\n",
       "      <td>en</td>\n",
       "      <td>English</td>\n",
       "      <td>0</td>\n",
       "    </tr>\n",
       "    <tr>\n",
       "      <th>4</th>\n",
       "      <td>86aaa48b45</td>\n",
       "      <td>ในการเล่นบทบาทสมมุติก็เช่นกัน โอกาสที่จะได้แสด...</td>\n",
       "      <td>เด็กสามารถเห็นได้ว่าชาติพันธุ์แตกต่างกันอย่างไร</td>\n",
       "      <td>th</td>\n",
       "      <td>Thai</td>\n",
       "      <td>1</td>\n",
       "    </tr>\n",
       "  </tbody>\n",
       "</table>\n",
       "</div>"
      ],
      "text/plain": [
       "           id                                            premise  \\\n",
       "0  5130fd2cb5  and these comments were considered in formulat...   \n",
       "1  5b72532a0b  These are issues that we wrestle with in pract...   \n",
       "2  3931fbe82a  Des petites choses comme celles-là font une di...   \n",
       "3  5622f0c60b  you know they can't really defend themselves l...   \n",
       "4  86aaa48b45  ในการเล่นบทบาทสมมุติก็เช่นกัน โอกาสที่จะได้แสด...   \n",
       "\n",
       "                                          hypothesis lang_abv language  label  \n",
       "0  The rules developed in the interim were put to...       en  English      0  \n",
       "1  Practice groups are not permitted to work on t...       en  English      2  \n",
       "2              J'essayais d'accomplir quelque chose.       fr   French      0  \n",
       "3  They can't defend themselves because of their ...       en  English      0  \n",
       "4    เด็กสามารถเห็นได้ว่าชาติพันธุ์แตกต่างกันอย่างไร       th     Thai      1  "
      ]
     },
     "execution_count": 5,
     "metadata": {},
     "output_type": "execute_result"
    }
   ],
   "source": [
    "df_train = pd.read_csv(DATA_DIR + \"train.csv\")\n",
    "df_train.head()"
   ]
  },
  {
   "cell_type": "code",
   "execution_count": 6,
   "id": "f229020f",
   "metadata": {
    "execution": {
     "iopub.execute_input": "2024-12-01T23:23:13.546544Z",
     "iopub.status.busy": "2024-12-01T23:23:13.546204Z",
     "iopub.status.idle": "2024-12-01T23:23:13.550310Z",
     "shell.execute_reply": "2024-12-01T23:23:13.549487Z"
    },
    "papermill": {
     "duration": 0.012283,
     "end_time": "2024-12-01T23:23:13.552222",
     "exception": false,
     "start_time": "2024-12-01T23:23:13.539939",
     "status": "completed"
    },
    "tags": []
   },
   "outputs": [],
   "source": [
    "def split_labels(x, y):\n",
    "    return (x[0], x[1]), y"
   ]
  },
  {
   "cell_type": "code",
   "execution_count": 7,
   "id": "6df4299f",
   "metadata": {
    "execution": {
     "iopub.execute_input": "2024-12-01T23:23:13.564259Z",
     "iopub.status.busy": "2024-12-01T23:23:13.563955Z",
     "iopub.status.idle": "2024-12-01T23:23:14.420997Z",
     "shell.execute_reply": "2024-12-01T23:23:14.419926Z"
    },
    "papermill": {
     "duration": 0.86535,
     "end_time": "2024-12-01T23:23:14.422880",
     "exception": false,
     "start_time": "2024-12-01T23:23:13.557530",
     "status": "completed"
    },
    "tags": []
   },
   "outputs": [
    {
     "name": "stdout",
     "output_type": "stream",
     "text": [
      "Size of the train dataset: 12120\n"
     ]
    }
   ],
   "source": [
    "batch_size = 28\n",
    "buffer_size = batch_size * 10\n",
    "\n",
    "training_dataset = (\n",
    "    tf.data.Dataset.from_tensor_slices(\n",
    "        (\n",
    "            df_train[[\"hypothesis\", \"premise\"]].values,\n",
    "            df_train[\"label\"].values\n",
    "        )\n",
    "    )\n",
    ")\n",
    "\n",
    "print(f\"Size of the train dataset: {len(training_dataset)}\")\n",
    "\n",
    "train_preprocessed = training_dataset.shuffle(buffer_size=buffer_size).map(split_labels, tf.data.AUTOTUNE).batch(batch_size, drop_remainder=True).prefetch(tf.data.AUTOTUNE)"
   ]
  },
  {
   "cell_type": "code",
   "execution_count": 8,
   "id": "1113d641",
   "metadata": {
    "execution": {
     "iopub.execute_input": "2024-12-01T23:23:14.435011Z",
     "iopub.status.busy": "2024-12-01T23:23:14.434718Z",
     "iopub.status.idle": "2024-12-01T23:23:14.439979Z",
     "shell.execute_reply": "2024-12-01T23:23:14.439032Z"
    },
    "papermill": {
     "duration": 0.013433,
     "end_time": "2024-12-01T23:23:14.441688",
     "exception": false,
     "start_time": "2024-12-01T23:23:14.428255",
     "status": "completed"
    },
    "tags": []
   },
   "outputs": [
    {
     "name": "stdout",
     "output_type": "stream",
     "text": [
      "Tuned_ELECTRA_EN.weights.h5\n",
      "ELECTRA_EN.weights.h5\n",
      "__notebook__.ipynb\n"
     ]
    }
   ],
   "source": [
    "# List both files and directories\n",
    "entries = os.listdir(\"/kaggle/working\")\n",
    "\n",
    "for entry in entries:\n",
    "    print(entry)\n"
   ]
  },
  {
   "cell_type": "code",
   "execution_count": null,
   "id": "75ca18f7",
   "metadata": {
    "execution": {
     "iopub.execute_input": "2024-12-01T23:23:14.453904Z",
     "iopub.status.busy": "2024-12-01T23:23:14.453599Z",
     "iopub.status.idle": "2024-12-01T23:23:19.294140Z",
     "shell.execute_reply": "2024-12-01T23:23:19.293078Z"
    },
    "papermill": {
     "duration": 4.849037,
     "end_time": "2024-12-01T23:23:19.296325",
     "exception": false,
     "start_time": "2024-12-01T23:23:14.447288",
     "status": "completed"
    },
    "tags": []
   },
   "outputs": [
    {
     "name": "stderr",
     "output_type": "stream",
     "text": [
      "/opt/conda/lib/python3.10/site-packages/keras/src/saving/saving_lib.py:415: UserWarning: Skipping variable loading for optimizer 'loss_scale_optimizer', because it has 4 variables whereas the saved optimizer has 412 variables. \n",
      "  saveable.load_own_variables(weights_store.get(inner_path))\n",
      "/opt/conda/lib/python3.10/site-packages/keras/src/saving/saving_lib.py:415: UserWarning: Skipping variable loading for optimizer 'adam', because it has 2 variables whereas the saved optimizer has 408 variables. \n",
      "  saveable.load_own_variables(weights_store.get(inner_path))\n"
     ]
    }
   ],
   "source": [
    "electra_discriminator_token = keras_nlp.models.Tokenizer.from_preset(\"electra_small_discriminator_uncased_en\")\n",
    "bert_preprocessor = keras_nlp.models.BertTextClassifierPreprocessor(electra_discriminator_token, sequence_length=240)\n",
    "\n",
    "train_set = (\n",
    "    train_preprocessed.map(bert_preprocessor, tf.data.AUTOTUNE).cache().prefetch(tf.data.AUTOTUNE)\n",
    ")\n",
    "\n",
    "electra_discriminator_back = keras_nlp.models.Backbone.from_preset(\"electra_small_discriminator_uncased_en\")\n",
    "\n",
    "electra_classifier = keras_nlp.models.BertClassifier(electra_discriminator_back, 3, preprocessor=None)\n",
    "\n",
    "electra_classifier.load_weights(\"/kaggle/working/Tuned_ELECTRA_EN.weights.h5\")"
   ]
  },
  {
   "cell_type": "code",
   "execution_count": 10,
   "id": "d78018bc",
   "metadata": {
    "execution": {
     "iopub.execute_input": "2024-12-01T23:23:19.309308Z",
     "iopub.status.busy": "2024-12-01T23:23:19.308970Z",
     "iopub.status.idle": "2024-12-01T23:23:19.370814Z",
     "shell.execute_reply": "2024-12-01T23:23:19.369605Z"
    },
    "papermill": {
     "duration": 0.070674,
     "end_time": "2024-12-01T23:23:19.372728",
     "exception": false,
     "start_time": "2024-12-01T23:23:19.302054",
     "status": "completed"
    },
    "tags": []
   },
   "outputs": [
    {
     "name": "stdout",
     "output_type": "stream",
     "text": [
      "           id                                            premise  \\\n",
      "0  c6d58c3f69  بکس، کیسی، راہیل، یسعیاہ، کیلی، کیلی، اور کولم...   \n",
      "1  cefcc82292                             هذا هو ما تم نصحنا به.   \n",
      "2  e98005252c  et cela est en grande partie dû au fait que le...   \n",
      "3  58518c10ba                   与城市及其他公民及社区组织代表就IMA的艺术发展进行对话&amp   \n",
      "4  c32b0d16df                              Она все еще была там.   \n",
      "\n",
      "                                          hypothesis lang_abv language  \n",
      "0  کیسی کے لئے کوئی یادگار نہیں ہوگا, کولمین ہائی...       ur     Urdu  \n",
      "1  عندما يتم إخبارهم بما يجب عليهم فعله ، فشلت ال...       ar   Arabic  \n",
      "2                             Les mères se droguent.       fr   French  \n",
      "3                            IMA与其他组织合作，因为它们都依靠共享资金。       zh  Chinese  \n",
      "4     Мы думали, что она ушла, однако, она осталась.       ru  Russian  \n"
     ]
    }
   ],
   "source": [
    "df_test = pd.read_csv(DATA_DIR + \"test.csv\")\n",
    "print(df_test.head())\n",
    "df_test[\"label\"] = [0] * len(df_test)"
   ]
  },
  {
   "cell_type": "code",
   "execution_count": 11,
   "id": "7556b82a",
   "metadata": {
    "execution": {
     "iopub.execute_input": "2024-12-01T23:23:19.385579Z",
     "iopub.status.busy": "2024-12-01T23:23:19.385094Z",
     "iopub.status.idle": "2024-12-01T23:23:20.699364Z",
     "shell.execute_reply": "2024-12-01T23:23:20.698244Z"
    },
    "papermill": {
     "duration": 1.323401,
     "end_time": "2024-12-01T23:23:20.701931",
     "exception": false,
     "start_time": "2024-12-01T23:23:19.378530",
     "status": "completed"
    },
    "tags": []
   },
   "outputs": [
    {
     "name": "stdout",
     "output_type": "stream",
     "text": [
      "5195\n"
     ]
    }
   ],
   "source": [
    "testing_dataset = (\n",
    "    tf.data.Dataset.from_tensor_slices(\n",
    "        (\n",
    "            df_test[[\"hypothesis\", \"premise\"]].values,\n",
    "            df_test[\"label\"].values\n",
    "        )\n",
    "    )\n",
    ")\n",
    "\n",
    "print(len(testing_dataset))\n",
    "\n",
    "test_preprocessed = testing_dataset.map(split_labels, tf.data.AUTOTUNE).batch(1, drop_remainder=True).cache().prefetch(tf.data.AUTOTUNE)\n",
    "bert_test_set = (test_preprocessed.map(bert_preprocessor, tf.data.AUTOTUNE).cache().prefetch(tf.data.AUTOTUNE))"
   ]
  },
  {
   "cell_type": "code",
   "execution_count": 12,
   "id": "65e0346c",
   "metadata": {
    "execution": {
     "iopub.execute_input": "2024-12-01T23:23:20.716249Z",
     "iopub.status.busy": "2024-12-01T23:23:20.715154Z",
     "iopub.status.idle": "2024-12-01T23:23:49.629845Z",
     "shell.execute_reply": "2024-12-01T23:23:49.628902Z"
    },
    "papermill": {
     "duration": 28.923949,
     "end_time": "2024-12-01T23:23:49.632048",
     "exception": false,
     "start_time": "2024-12-01T23:23:20.708099",
     "status": "completed"
    },
    "tags": []
   },
   "outputs": [
    {
     "name": "stderr",
     "output_type": "stream",
     "text": [
      "WARNING: All log messages before absl::InitializeLog() is called are written to STDERR\n",
      "I0000 00:00:1733095403.648227      75 service.cc:145] XLA service 0x7f9860002cb0 initialized for platform CUDA (this does not guarantee that XLA will be used). Devices:\n",
      "I0000 00:00:1733095403.648298      75 service.cc:153]   StreamExecutor device (0): Tesla P100-PCIE-16GB, Compute Capability 6.0\n"
     ]
    },
    {
     "name": "stdout",
     "output_type": "stream",
     "text": [
      "\u001b[1m  34/5195\u001b[0m \u001b[37m━━━━━━━━━━━━━━━━━━━━\u001b[0m \u001b[1m24s\u001b[0m 5ms/step"
     ]
    },
    {
     "name": "stderr",
     "output_type": "stream",
     "text": [
      "I0000 00:00:1733095406.135219      75 device_compiler.h:188] Compiled cluster using XLA!  This line is logged at most once for the lifetime of the process.\n"
     ]
    },
    {
     "name": "stdout",
     "output_type": "stream",
     "text": [
      "\u001b[1m5195/5195\u001b[0m \u001b[32m━━━━━━━━━━━━━━━━━━━━\u001b[0m\u001b[37m\u001b[0m \u001b[1m26s\u001b[0m 4ms/step\n"
     ]
    }
   ],
   "source": [
    "predictions = electra_classifier.predict(bert_test_set)"
   ]
  },
  {
   "cell_type": "code",
   "execution_count": 13,
   "id": "e030df75",
   "metadata": {
    "execution": {
     "iopub.execute_input": "2024-12-01T23:23:49.683053Z",
     "iopub.status.busy": "2024-12-01T23:23:49.682280Z",
     "iopub.status.idle": "2024-12-01T23:23:49.704522Z",
     "shell.execute_reply": "2024-12-01T23:23:49.703308Z"
    },
    "papermill": {
     "duration": 0.049594,
     "end_time": "2024-12-01T23:23:49.706530",
     "exception": false,
     "start_time": "2024-12-01T23:23:49.656936",
     "status": "completed"
    },
    "tags": []
   },
   "outputs": [
    {
     "name": "stdout",
     "output_type": "stream",
     "text": [
      "[0 0 0 ... 0 0 2]\n"
     ]
    }
   ],
   "source": [
    "predicted_classes = tf.argmax(predictions, axis=1)\n",
    "predicted_classes_np = predicted_classes.numpy()\n",
    "print(predicted_classes_np)"
   ]
  },
  {
   "cell_type": "code",
   "execution_count": 14,
   "id": "c16ad03c",
   "metadata": {
    "execution": {
     "iopub.execute_input": "2024-12-01T23:23:49.760304Z",
     "iopub.status.busy": "2024-12-01T23:23:49.759547Z",
     "iopub.status.idle": "2024-12-01T23:23:49.778694Z",
     "shell.execute_reply": "2024-12-01T23:23:49.777738Z"
    },
    "papermill": {
     "duration": 0.048208,
     "end_time": "2024-12-01T23:23:49.780663",
     "exception": false,
     "start_time": "2024-12-01T23:23:49.732455",
     "status": "completed"
    },
    "tags": []
   },
   "outputs": [
    {
     "data": {
      "text/html": [
       "<div>\n",
       "<style scoped>\n",
       "    .dataframe tbody tr th:only-of-type {\n",
       "        vertical-align: middle;\n",
       "    }\n",
       "\n",
       "    .dataframe tbody tr th {\n",
       "        vertical-align: top;\n",
       "    }\n",
       "\n",
       "    .dataframe thead th {\n",
       "        text-align: right;\n",
       "    }\n",
       "</style>\n",
       "<table border=\"1\" class=\"dataframe\">\n",
       "  <thead>\n",
       "    <tr style=\"text-align: right;\">\n",
       "      <th></th>\n",
       "      <th>id</th>\n",
       "      <th>prediction</th>\n",
       "    </tr>\n",
       "  </thead>\n",
       "  <tbody>\n",
       "    <tr>\n",
       "      <th>0</th>\n",
       "      <td>c6d58c3f69</td>\n",
       "      <td>0</td>\n",
       "    </tr>\n",
       "    <tr>\n",
       "      <th>1</th>\n",
       "      <td>cefcc82292</td>\n",
       "      <td>0</td>\n",
       "    </tr>\n",
       "    <tr>\n",
       "      <th>2</th>\n",
       "      <td>e98005252c</td>\n",
       "      <td>0</td>\n",
       "    </tr>\n",
       "    <tr>\n",
       "      <th>3</th>\n",
       "      <td>58518c10ba</td>\n",
       "      <td>0</td>\n",
       "    </tr>\n",
       "    <tr>\n",
       "      <th>4</th>\n",
       "      <td>c32b0d16df</td>\n",
       "      <td>0</td>\n",
       "    </tr>\n",
       "    <tr>\n",
       "      <th>...</th>\n",
       "      <td>...</td>\n",
       "      <td>...</td>\n",
       "    </tr>\n",
       "    <tr>\n",
       "      <th>5190</th>\n",
       "      <td>5f90dd59b0</td>\n",
       "      <td>0</td>\n",
       "    </tr>\n",
       "    <tr>\n",
       "      <th>5191</th>\n",
       "      <td>f357a04e86</td>\n",
       "      <td>1</td>\n",
       "    </tr>\n",
       "    <tr>\n",
       "      <th>5192</th>\n",
       "      <td>1f0ea92118</td>\n",
       "      <td>0</td>\n",
       "    </tr>\n",
       "    <tr>\n",
       "      <th>5193</th>\n",
       "      <td>0407b48afb</td>\n",
       "      <td>0</td>\n",
       "    </tr>\n",
       "    <tr>\n",
       "      <th>5194</th>\n",
       "      <td>16c2f2ab89</td>\n",
       "      <td>2</td>\n",
       "    </tr>\n",
       "  </tbody>\n",
       "</table>\n",
       "<p>5195 rows × 2 columns</p>\n",
       "</div>"
      ],
      "text/plain": [
       "              id  prediction\n",
       "0     c6d58c3f69           0\n",
       "1     cefcc82292           0\n",
       "2     e98005252c           0\n",
       "3     58518c10ba           0\n",
       "4     c32b0d16df           0\n",
       "...          ...         ...\n",
       "5190  5f90dd59b0           0\n",
       "5191  f357a04e86           1\n",
       "5192  1f0ea92118           0\n",
       "5193  0407b48afb           0\n",
       "5194  16c2f2ab89           2\n",
       "\n",
       "[5195 rows x 2 columns]"
      ]
     },
     "execution_count": 14,
     "metadata": {},
     "output_type": "execute_result"
    }
   ],
   "source": [
    "submission = df_test.id.copy().to_frame()\n",
    "submission[\"prediction\"] = predicted_classes_np\n",
    "submission.to_csv(\"submission.csv\", index=False)\n",
    "\n",
    "submission"
   ]
  }
 ],
 "metadata": {
  "kaggle": {
   "accelerator": "gpu",
   "dataSources": [
    {
     "databundleVersionId": 1408234,
     "sourceId": 21733,
     "sourceType": "competition"
    },
    {
     "modelId": 24452,
     "modelInstanceId": 16969,
     "sourceId": 20463,
     "sourceType": "modelInstanceVersion"
    }
   ],
   "dockerImageVersionId": 30787,
   "isGpuEnabled": true,
   "isInternetEnabled": true,
   "language": "python",
   "sourceType": "notebook"
  },
  "kernelspec": {
   "display_name": "Python 3",
   "language": "python",
   "name": "python3"
  },
  "language_info": {
   "codemirror_mode": {
    "name": "ipython",
    "version": 3
   },
   "file_extension": ".py",
   "mimetype": "text/x-python",
   "name": "python",
   "nbconvert_exporter": "python",
   "pygments_lexer": "ipython3",
   "version": "3.10.14"
  },
  "papermill": {
   "default_parameters": {},
   "duration": 91.725237,
   "end_time": "2024-12-01T23:23:52.307246",
   "environment_variables": {},
   "exception": null,
   "input_path": "__notebook__.ipynb",
   "output_path": "__notebook__.ipynb",
   "parameters": {},
   "start_time": "2024-12-01T23:22:20.582009",
   "version": "2.6.0"
  }
 },
 "nbformat": 4,
 "nbformat_minor": 5
}
