{
 "cells": [
  {
   "cell_type": "code",
   "execution_count": 18,
   "metadata": {},
   "outputs": [],
   "source": [
    "import os\n",
    "import pandas\n",
    "from datasets import load_dataset\n",
    "\n",
    "def create_directory(subfolder):\n",
    "    outdir = f\"Datasets/{subfolder}\"\n",
    "    if not os.path.exists(outdir):\n",
    "        os.mkdir(outdir)\n",
    "\n",
    "    return outdir\n",
    "\n",
    "\n",
    "def create_csv_file_for_models(language_selection=\"en\", dataset_split=\"train\"):\n",
    "    dataset = load_dataset(\"facebook/xnli\", language_selection, split=dataset_split).to_pandas()\n",
    "\n",
    "    dataset[\"label_name\"] = \"neutral\"\n",
    "    dataset.loc[dataset['label'] < 1, 'label_name'] = \"entailment\"\n",
    "    dataset.loc[dataset['label'] > 1, 'label_name'] = \"contradiction\"\n",
    "\n",
    "    outname = f\"{dataset_split}_{language_selection}.csv\"\n",
    "\n",
    "    if dataset_split.__eq__(\"train\"):\n",
    "        bert_sample = dataset.sample(frac=0.5, random_state=42).reset_index(drop=True)\n",
    "        electra_sample = dataset[~dataset.index.isin(bert_sample.index)].reset_index(drop=True)\n",
    "        \n",
    "        bert_sample.to_csv(os.path.join(create_directory(\"BERT\"), outname))\n",
    "\n",
    "        electra_sample.to_csv(os.path.join(create_directory(\"ELECTRA\"), outname))\n",
    "    else:\n",
    "        dataset.to_csv(os.path.join(create_directory(\"Test\"), outname))"
   ]
  },
  {
   "cell_type": "code",
   "execution_count": null,
   "metadata": {},
   "outputs": [],
   "source": [
    "create_csv_file_for_models()\n",
    "\n",
    "create_csv_file_for_models(\"all_languages\")\n",
    "\n",
    "create_csv_file_for_models(dataset_split=\"test\")\n",
    "\n",
    "create_csv_file_for_models(language_selection=\"all_languages\", dataset_split=\"test\")"
   ]
  }
 ],
 "metadata": {
  "kernelspec": {
   "display_name": "Python 3",
   "language": "python",
   "name": "python3"
  },
  "language_info": {
   "codemirror_mode": {
    "name": "ipython",
    "version": 3
   },
   "file_extension": ".py",
   "mimetype": "text/x-python",
   "name": "python",
   "nbconvert_exporter": "python",
   "pygments_lexer": "ipython3",
   "version": "3.11.5"
  }
 },
 "nbformat": 4,
 "nbformat_minor": 2
}
