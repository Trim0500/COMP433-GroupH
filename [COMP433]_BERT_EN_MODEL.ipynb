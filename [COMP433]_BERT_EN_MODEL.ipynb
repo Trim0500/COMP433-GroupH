{
  "cells": [
    {
      "cell_type": "markdown",
      "metadata": {
        "id": "R6eemzHpm4yZ"
      },
      "source": [
        "# BERT EN Model"
      ]
    },
    {
      "cell_type": "markdown",
      "metadata": {
        "id": "USHyvVetm4yb"
      },
      "source": [
        "### This notebook contains the implementation of the BERT model pre-trained on the english language set coming from `Datasets/BERT/train_en.csv`\n",
        "\n",
        "### The following steps are taken to establish the model\n",
        "- **Data exploration and visualization**\n",
        "- **Model definition**\n",
        "- **Optimizer algorithm selection**\n",
        "- **Loss function selection**\n",
        "- **Training loop**\n",
        "- **Model saving**"
      ]
    },
    {
      "cell_type": "code",
      "source": [
        "!pip install -q keras-nlp --upgrade"
      ],
      "metadata": {
        "id": "x_KfYjKCy5Lf"
      },
      "execution_count": 2,
      "outputs": []
    },
    {
      "cell_type": "code",
      "execution_count": 1,
      "metadata": {
        "id": "qG6dQRfEm4yb"
      },
      "outputs": [],
      "source": [
        "import matplotlib.pyplot as plt\n",
        "import pandas\n",
        "import numpy\n",
        "import keras_nlp\n",
        "import keras\n",
        "import tensorflow\n",
        "\n",
        "keras.mixed_precision.set_global_policy(\"mixed_float16\")"
      ]
    },
    {
      "cell_type": "markdown",
      "metadata": {
        "id": "LDMzagW3m4yb"
      },
      "source": [
        "#### Data Exploration and Visualization"
      ]
    },
    {
      "cell_type": "code",
      "execution_count": 2,
      "metadata": {
        "id": "UvN8v3Oym4yc",
        "outputId": "f1c7f385-57ef-4c43-c658-36fbbd664204",
        "colab": {
          "base_uri": "https://localhost:8080/",
          "height": 206
        }
      },
      "outputs": [
        {
          "output_type": "execute_result",
          "data": {
            "text/plain": [
              "   Unnamed: 0          id                                            premise  \\\n",
              "0           0  a937bd90a8  3)  Dare you rise to the occasion, like Raskol...   \n",
              "1           1  0abb9434d5  He married Dona Filipa Moniz (Perestrelo), the...   \n",
              "2           2  bc52edfd5b  The contrast between the landscape of the cent...   \n",
              "3           3  62344708db  i don't know i i do i can think of all the uh ...   \n",
              "4           4  03f3c9a92e  'So I assume he hacked into the autopilot and ...   \n",
              "\n",
              "                                          hypothesis lang_abv language  label  \\\n",
              "0  Would you rise up and defeaat all evil lords i...       en  English      1   \n",
              "1  He landed on the island but soon left for gree...       en  English      2   \n",
              "2  There was a beautiful artist who painted the l...       en  English      1   \n",
              "3                 I know this because I own a bible.       en  English      1   \n",
              "4  I'm assuming he hacked the autopilot to bring ...       en  English      1   \n",
              "\n",
              "      label_name  \n",
              "0        neutral  \n",
              "1  contradiction  \n",
              "2        neutral  \n",
              "3        neutral  \n",
              "4        neutral  "
            ],
            "text/html": [
              "\n",
              "  <div id=\"df-7cc0cd30-6959-4147-91bc-c1355865dfd8\" class=\"colab-df-container\">\n",
              "    <div>\n",
              "<style scoped>\n",
              "    .dataframe tbody tr th:only-of-type {\n",
              "        vertical-align: middle;\n",
              "    }\n",
              "\n",
              "    .dataframe tbody tr th {\n",
              "        vertical-align: top;\n",
              "    }\n",
              "\n",
              "    .dataframe thead th {\n",
              "        text-align: right;\n",
              "    }\n",
              "</style>\n",
              "<table border=\"1\" class=\"dataframe\">\n",
              "  <thead>\n",
              "    <tr style=\"text-align: right;\">\n",
              "      <th></th>\n",
              "      <th>Unnamed: 0</th>\n",
              "      <th>id</th>\n",
              "      <th>premise</th>\n",
              "      <th>hypothesis</th>\n",
              "      <th>lang_abv</th>\n",
              "      <th>language</th>\n",
              "      <th>label</th>\n",
              "      <th>label_name</th>\n",
              "    </tr>\n",
              "  </thead>\n",
              "  <tbody>\n",
              "    <tr>\n",
              "      <th>0</th>\n",
              "      <td>0</td>\n",
              "      <td>a937bd90a8</td>\n",
              "      <td>3)  Dare you rise to the occasion, like Raskol...</td>\n",
              "      <td>Would you rise up and defeaat all evil lords i...</td>\n",
              "      <td>en</td>\n",
              "      <td>English</td>\n",
              "      <td>1</td>\n",
              "      <td>neutral</td>\n",
              "    </tr>\n",
              "    <tr>\n",
              "      <th>1</th>\n",
              "      <td>1</td>\n",
              "      <td>0abb9434d5</td>\n",
              "      <td>He married Dona Filipa Moniz (Perestrelo), the...</td>\n",
              "      <td>He landed on the island but soon left for gree...</td>\n",
              "      <td>en</td>\n",
              "      <td>English</td>\n",
              "      <td>2</td>\n",
              "      <td>contradiction</td>\n",
              "    </tr>\n",
              "    <tr>\n",
              "      <th>2</th>\n",
              "      <td>2</td>\n",
              "      <td>bc52edfd5b</td>\n",
              "      <td>The contrast between the landscape of the cent...</td>\n",
              "      <td>There was a beautiful artist who painted the l...</td>\n",
              "      <td>en</td>\n",
              "      <td>English</td>\n",
              "      <td>1</td>\n",
              "      <td>neutral</td>\n",
              "    </tr>\n",
              "    <tr>\n",
              "      <th>3</th>\n",
              "      <td>3</td>\n",
              "      <td>62344708db</td>\n",
              "      <td>i don't know i i do i can think of all the uh ...</td>\n",
              "      <td>I know this because I own a bible.</td>\n",
              "      <td>en</td>\n",
              "      <td>English</td>\n",
              "      <td>1</td>\n",
              "      <td>neutral</td>\n",
              "    </tr>\n",
              "    <tr>\n",
              "      <th>4</th>\n",
              "      <td>4</td>\n",
              "      <td>03f3c9a92e</td>\n",
              "      <td>'So I assume he hacked into the autopilot and ...</td>\n",
              "      <td>I'm assuming he hacked the autopilot to bring ...</td>\n",
              "      <td>en</td>\n",
              "      <td>English</td>\n",
              "      <td>1</td>\n",
              "      <td>neutral</td>\n",
              "    </tr>\n",
              "  </tbody>\n",
              "</table>\n",
              "</div>\n",
              "    <div class=\"colab-df-buttons\">\n",
              "\n",
              "  <div class=\"colab-df-container\">\n",
              "    <button class=\"colab-df-convert\" onclick=\"convertToInteractive('df-7cc0cd30-6959-4147-91bc-c1355865dfd8')\"\n",
              "            title=\"Convert this dataframe to an interactive table.\"\n",
              "            style=\"display:none;\">\n",
              "\n",
              "  <svg xmlns=\"http://www.w3.org/2000/svg\" height=\"24px\" viewBox=\"0 -960 960 960\">\n",
              "    <path d=\"M120-120v-720h720v720H120Zm60-500h600v-160H180v160Zm220 220h160v-160H400v160Zm0 220h160v-160H400v160ZM180-400h160v-160H180v160Zm440 0h160v-160H620v160ZM180-180h160v-160H180v160Zm440 0h160v-160H620v160Z\"/>\n",
              "  </svg>\n",
              "    </button>\n",
              "\n",
              "  <style>\n",
              "    .colab-df-container {\n",
              "      display:flex;\n",
              "      gap: 12px;\n",
              "    }\n",
              "\n",
              "    .colab-df-convert {\n",
              "      background-color: #E8F0FE;\n",
              "      border: none;\n",
              "      border-radius: 50%;\n",
              "      cursor: pointer;\n",
              "      display: none;\n",
              "      fill: #1967D2;\n",
              "      height: 32px;\n",
              "      padding: 0 0 0 0;\n",
              "      width: 32px;\n",
              "    }\n",
              "\n",
              "    .colab-df-convert:hover {\n",
              "      background-color: #E2EBFA;\n",
              "      box-shadow: 0px 1px 2px rgba(60, 64, 67, 0.3), 0px 1px 3px 1px rgba(60, 64, 67, 0.15);\n",
              "      fill: #174EA6;\n",
              "    }\n",
              "\n",
              "    .colab-df-buttons div {\n",
              "      margin-bottom: 4px;\n",
              "    }\n",
              "\n",
              "    [theme=dark] .colab-df-convert {\n",
              "      background-color: #3B4455;\n",
              "      fill: #D2E3FC;\n",
              "    }\n",
              "\n",
              "    [theme=dark] .colab-df-convert:hover {\n",
              "      background-color: #434B5C;\n",
              "      box-shadow: 0px 1px 3px 1px rgba(0, 0, 0, 0.15);\n",
              "      filter: drop-shadow(0px 1px 2px rgba(0, 0, 0, 0.3));\n",
              "      fill: #FFFFFF;\n",
              "    }\n",
              "  </style>\n",
              "\n",
              "    <script>\n",
              "      const buttonEl =\n",
              "        document.querySelector('#df-7cc0cd30-6959-4147-91bc-c1355865dfd8 button.colab-df-convert');\n",
              "      buttonEl.style.display =\n",
              "        google.colab.kernel.accessAllowed ? 'block' : 'none';\n",
              "\n",
              "      async function convertToInteractive(key) {\n",
              "        const element = document.querySelector('#df-7cc0cd30-6959-4147-91bc-c1355865dfd8');\n",
              "        const dataTable =\n",
              "          await google.colab.kernel.invokeFunction('convertToInteractive',\n",
              "                                                    [key], {});\n",
              "        if (!dataTable) return;\n",
              "\n",
              "        const docLinkHtml = 'Like what you see? Visit the ' +\n",
              "          '<a target=\"_blank\" href=https://colab.research.google.com/notebooks/data_table.ipynb>data table notebook</a>'\n",
              "          + ' to learn more about interactive tables.';\n",
              "        element.innerHTML = '';\n",
              "        dataTable['output_type'] = 'display_data';\n",
              "        await google.colab.output.renderOutput(dataTable, element);\n",
              "        const docLink = document.createElement('div');\n",
              "        docLink.innerHTML = docLinkHtml;\n",
              "        element.appendChild(docLink);\n",
              "      }\n",
              "    </script>\n",
              "  </div>\n",
              "\n",
              "\n",
              "<div id=\"df-ffbd9b0d-4146-4c69-8567-5e25e9512ca3\">\n",
              "  <button class=\"colab-df-quickchart\" onclick=\"quickchart('df-ffbd9b0d-4146-4c69-8567-5e25e9512ca3')\"\n",
              "            title=\"Suggest charts\"\n",
              "            style=\"display:none;\">\n",
              "\n",
              "<svg xmlns=\"http://www.w3.org/2000/svg\" height=\"24px\"viewBox=\"0 0 24 24\"\n",
              "     width=\"24px\">\n",
              "    <g>\n",
              "        <path d=\"M19 3H5c-1.1 0-2 .9-2 2v14c0 1.1.9 2 2 2h14c1.1 0 2-.9 2-2V5c0-1.1-.9-2-2-2zM9 17H7v-7h2v7zm4 0h-2V7h2v10zm4 0h-2v-4h2v4z\"/>\n",
              "    </g>\n",
              "</svg>\n",
              "  </button>\n",
              "\n",
              "<style>\n",
              "  .colab-df-quickchart {\n",
              "      --bg-color: #E8F0FE;\n",
              "      --fill-color: #1967D2;\n",
              "      --hover-bg-color: #E2EBFA;\n",
              "      --hover-fill-color: #174EA6;\n",
              "      --disabled-fill-color: #AAA;\n",
              "      --disabled-bg-color: #DDD;\n",
              "  }\n",
              "\n",
              "  [theme=dark] .colab-df-quickchart {\n",
              "      --bg-color: #3B4455;\n",
              "      --fill-color: #D2E3FC;\n",
              "      --hover-bg-color: #434B5C;\n",
              "      --hover-fill-color: #FFFFFF;\n",
              "      --disabled-bg-color: #3B4455;\n",
              "      --disabled-fill-color: #666;\n",
              "  }\n",
              "\n",
              "  .colab-df-quickchart {\n",
              "    background-color: var(--bg-color);\n",
              "    border: none;\n",
              "    border-radius: 50%;\n",
              "    cursor: pointer;\n",
              "    display: none;\n",
              "    fill: var(--fill-color);\n",
              "    height: 32px;\n",
              "    padding: 0;\n",
              "    width: 32px;\n",
              "  }\n",
              "\n",
              "  .colab-df-quickchart:hover {\n",
              "    background-color: var(--hover-bg-color);\n",
              "    box-shadow: 0 1px 2px rgba(60, 64, 67, 0.3), 0 1px 3px 1px rgba(60, 64, 67, 0.15);\n",
              "    fill: var(--button-hover-fill-color);\n",
              "  }\n",
              "\n",
              "  .colab-df-quickchart-complete:disabled,\n",
              "  .colab-df-quickchart-complete:disabled:hover {\n",
              "    background-color: var(--disabled-bg-color);\n",
              "    fill: var(--disabled-fill-color);\n",
              "    box-shadow: none;\n",
              "  }\n",
              "\n",
              "  .colab-df-spinner {\n",
              "    border: 2px solid var(--fill-color);\n",
              "    border-color: transparent;\n",
              "    border-bottom-color: var(--fill-color);\n",
              "    animation:\n",
              "      spin 1s steps(1) infinite;\n",
              "  }\n",
              "\n",
              "  @keyframes spin {\n",
              "    0% {\n",
              "      border-color: transparent;\n",
              "      border-bottom-color: var(--fill-color);\n",
              "      border-left-color: var(--fill-color);\n",
              "    }\n",
              "    20% {\n",
              "      border-color: transparent;\n",
              "      border-left-color: var(--fill-color);\n",
              "      border-top-color: var(--fill-color);\n",
              "    }\n",
              "    30% {\n",
              "      border-color: transparent;\n",
              "      border-left-color: var(--fill-color);\n",
              "      border-top-color: var(--fill-color);\n",
              "      border-right-color: var(--fill-color);\n",
              "    }\n",
              "    40% {\n",
              "      border-color: transparent;\n",
              "      border-right-color: var(--fill-color);\n",
              "      border-top-color: var(--fill-color);\n",
              "    }\n",
              "    60% {\n",
              "      border-color: transparent;\n",
              "      border-right-color: var(--fill-color);\n",
              "    }\n",
              "    80% {\n",
              "      border-color: transparent;\n",
              "      border-right-color: var(--fill-color);\n",
              "      border-bottom-color: var(--fill-color);\n",
              "    }\n",
              "    90% {\n",
              "      border-color: transparent;\n",
              "      border-bottom-color: var(--fill-color);\n",
              "    }\n",
              "  }\n",
              "</style>\n",
              "\n",
              "  <script>\n",
              "    async function quickchart(key) {\n",
              "      const quickchartButtonEl =\n",
              "        document.querySelector('#' + key + ' button');\n",
              "      quickchartButtonEl.disabled = true;  // To prevent multiple clicks.\n",
              "      quickchartButtonEl.classList.add('colab-df-spinner');\n",
              "      try {\n",
              "        const charts = await google.colab.kernel.invokeFunction(\n",
              "            'suggestCharts', [key], {});\n",
              "      } catch (error) {\n",
              "        console.error('Error during call to suggestCharts:', error);\n",
              "      }\n",
              "      quickchartButtonEl.classList.remove('colab-df-spinner');\n",
              "      quickchartButtonEl.classList.add('colab-df-quickchart-complete');\n",
              "    }\n",
              "    (() => {\n",
              "      let quickchartButtonEl =\n",
              "        document.querySelector('#df-ffbd9b0d-4146-4c69-8567-5e25e9512ca3 button');\n",
              "      quickchartButtonEl.style.display =\n",
              "        google.colab.kernel.accessAllowed ? 'block' : 'none';\n",
              "    })();\n",
              "  </script>\n",
              "</div>\n",
              "\n",
              "    </div>\n",
              "  </div>\n"
            ],
            "application/vnd.google.colaboratory.intrinsic+json": {
              "type": "dataframe",
              "variable_name": "bert_en_dataset",
              "summary": "{\n  \"name\": \"bert_en_dataset\",\n  \"rows\": 3435,\n  \"fields\": [\n    {\n      \"column\": \"Unnamed: 0\",\n      \"properties\": {\n        \"dtype\": \"number\",\n        \"std\": 991,\n        \"min\": 0,\n        \"max\": 3434,\n        \"num_unique_values\": 3435,\n        \"samples\": [\n          1713,\n          1637,\n          929\n        ],\n        \"semantic_type\": \"\",\n        \"description\": \"\"\n      }\n    },\n    {\n      \"column\": \"id\",\n      \"properties\": {\n        \"dtype\": \"string\",\n        \"num_unique_values\": 3435,\n        \"samples\": [\n          \"003dbe5aa4\",\n          \"523fbee5df\",\n          \"59b40d5543\"\n        ],\n        \"semantic_type\": \"\",\n        \"description\": \"\"\n      }\n    },\n    {\n      \"column\": \"premise\",\n      \"properties\": {\n        \"dtype\": \"string\",\n        \"num_unique_values\": 2380,\n        \"samples\": [\n          \"Perhaps a further password would be required, or, at any rate, some proof of identity.\",\n          \"Basically, to sell myself.\",\n          \"There are no gods here now, said the voice of the monster in front of them.\"\n        ],\n        \"semantic_type\": \"\",\n        \"description\": \"\"\n      }\n    },\n    {\n      \"column\": \"hypothesis\",\n      \"properties\": {\n        \"dtype\": \"string\",\n        \"num_unique_values\": 3435,\n        \"samples\": [\n          \"Mallorca did extremely well.\",\n          \"The St. Louis Cardinals were mostly a losing team.\",\n          \"The town is known for being quiet and peaceful, free of hustle and bustle.\"\n        ],\n        \"semantic_type\": \"\",\n        \"description\": \"\"\n      }\n    },\n    {\n      \"column\": \"lang_abv\",\n      \"properties\": {\n        \"dtype\": \"category\",\n        \"num_unique_values\": 1,\n        \"samples\": [\n          \"en\"\n        ],\n        \"semantic_type\": \"\",\n        \"description\": \"\"\n      }\n    },\n    {\n      \"column\": \"language\",\n      \"properties\": {\n        \"dtype\": \"category\",\n        \"num_unique_values\": 1,\n        \"samples\": [\n          \"English\"\n        ],\n        \"semantic_type\": \"\",\n        \"description\": \"\"\n      }\n    },\n    {\n      \"column\": \"label\",\n      \"properties\": {\n        \"dtype\": \"number\",\n        \"std\": 0,\n        \"min\": 0,\n        \"max\": 2,\n        \"num_unique_values\": 3,\n        \"samples\": [\n          1\n        ],\n        \"semantic_type\": \"\",\n        \"description\": \"\"\n      }\n    },\n    {\n      \"column\": \"label_name\",\n      \"properties\": {\n        \"dtype\": \"category\",\n        \"num_unique_values\": 3,\n        \"samples\": [\n          \"neutral\"\n        ],\n        \"semantic_type\": \"\",\n        \"description\": \"\"\n      }\n    }\n  ]\n}"
            }
          },
          "metadata": {},
          "execution_count": 2
        }
      ],
      "source": [
        "bert_en_dataset = pandas.read_csv(\"Datasets/BERT/train_en.csv\")\n",
        "bert_en_dataset.head()"
      ]
    },
    {
      "cell_type": "markdown",
      "metadata": {
        "id": "yoDJL19ym4yc"
      },
      "source": [
        "##### Validation to ensure the data is clean when being passed to the model"
      ]
    },
    {
      "cell_type": "code",
      "execution_count": 3,
      "metadata": {
        "id": "UnzfgsDem4yc",
        "outputId": "35161904-5aa2-431c-a3ee-e6b1bf1963f4",
        "colab": {
          "base_uri": "https://localhost:8080/",
          "height": 335
        }
      },
      "outputs": [
        {
          "output_type": "execute_result",
          "data": {
            "text/plain": [
              "Unnamed: 0    0\n",
              "id            0\n",
              "premise       0\n",
              "hypothesis    0\n",
              "lang_abv      0\n",
              "language      0\n",
              "label         0\n",
              "label_name    0\n",
              "dtype: int64"
            ],
            "text/html": [
              "<div>\n",
              "<style scoped>\n",
              "    .dataframe tbody tr th:only-of-type {\n",
              "        vertical-align: middle;\n",
              "    }\n",
              "\n",
              "    .dataframe tbody tr th {\n",
              "        vertical-align: top;\n",
              "    }\n",
              "\n",
              "    .dataframe thead th {\n",
              "        text-align: right;\n",
              "    }\n",
              "</style>\n",
              "<table border=\"1\" class=\"dataframe\">\n",
              "  <thead>\n",
              "    <tr style=\"text-align: right;\">\n",
              "      <th></th>\n",
              "      <th>0</th>\n",
              "    </tr>\n",
              "  </thead>\n",
              "  <tbody>\n",
              "    <tr>\n",
              "      <th>Unnamed: 0</th>\n",
              "      <td>0</td>\n",
              "    </tr>\n",
              "    <tr>\n",
              "      <th>id</th>\n",
              "      <td>0</td>\n",
              "    </tr>\n",
              "    <tr>\n",
              "      <th>premise</th>\n",
              "      <td>0</td>\n",
              "    </tr>\n",
              "    <tr>\n",
              "      <th>hypothesis</th>\n",
              "      <td>0</td>\n",
              "    </tr>\n",
              "    <tr>\n",
              "      <th>lang_abv</th>\n",
              "      <td>0</td>\n",
              "    </tr>\n",
              "    <tr>\n",
              "      <th>language</th>\n",
              "      <td>0</td>\n",
              "    </tr>\n",
              "    <tr>\n",
              "      <th>label</th>\n",
              "      <td>0</td>\n",
              "    </tr>\n",
              "    <tr>\n",
              "      <th>label_name</th>\n",
              "      <td>0</td>\n",
              "    </tr>\n",
              "  </tbody>\n",
              "</table>\n",
              "</div><br><label><b>dtype:</b> int64</label>"
            ]
          },
          "metadata": {},
          "execution_count": 3
        }
      ],
      "source": [
        "bert_en_dataset.isna().sum()"
      ]
    },
    {
      "cell_type": "code",
      "execution_count": 4,
      "metadata": {
        "id": "jyLDLyICm4yc",
        "outputId": "23670f21-5720-4ae0-b97a-2c8316036b8c",
        "colab": {
          "base_uri": "https://localhost:8080/"
        }
      },
      "outputs": [
        {
          "output_type": "execute_result",
          "data": {
            "text/plain": [
              "0"
            ]
          },
          "metadata": {},
          "execution_count": 4
        }
      ],
      "source": [
        "(bert_en_dataset.lang_abv != \"en\").sum()"
      ]
    },
    {
      "cell_type": "code",
      "execution_count": 5,
      "metadata": {
        "id": "hIJR931Lm4yd",
        "outputId": "2d2085be-14d8-4809-ebeb-38b006bcc1d2",
        "colab": {
          "base_uri": "https://localhost:8080/"
        }
      },
      "outputs": [
        {
          "output_type": "execute_result",
          "data": {
            "text/plain": [
              "False"
            ]
          },
          "metadata": {},
          "execution_count": 5
        }
      ],
      "source": [
        "bert_en_dataset.label[~bert_en_dataset.label.isin([0, 1, 2])].any()"
      ]
    },
    {
      "cell_type": "markdown",
      "metadata": {
        "id": "jcybmvuum4yd"
      },
      "source": [
        "##### Descriptions and summaries of data"
      ]
    },
    {
      "cell_type": "code",
      "execution_count": 6,
      "metadata": {
        "id": "MpbOz5VNm4yd",
        "outputId": "d1ce0714-a510-4c2a-9060-0237a83e3660",
        "colab": {
          "base_uri": "https://localhost:8080/"
        }
      },
      "outputs": [
        {
          "output_type": "execute_result",
          "data": {
            "text/plain": [
              "3435"
            ]
          },
          "metadata": {},
          "execution_count": 6
        }
      ],
      "source": [
        "bert_en_dataset.id.count()"
      ]
    },
    {
      "cell_type": "markdown",
      "metadata": {
        "id": "O_D5YFM7m4yd"
      },
      "source": [
        "- A fairly small dataset relatively speaking to other sources."
      ]
    },
    {
      "cell_type": "code",
      "execution_count": 7,
      "metadata": {
        "id": "psEcipU5m4yd",
        "outputId": "18440166-1f3a-4a2f-8648-8f42a1cdf56a",
        "colab": {
          "base_uri": "https://localhost:8080/",
          "height": 210
        }
      },
      "outputs": [
        {
          "output_type": "execute_result",
          "data": {
            "text/plain": [
              "count               3435\n",
              "unique              3435\n",
              "top       Did you do it?\n",
              "freq                   1\n",
              "Name: hypothesis, dtype: object"
            ],
            "text/html": [
              "<div>\n",
              "<style scoped>\n",
              "    .dataframe tbody tr th:only-of-type {\n",
              "        vertical-align: middle;\n",
              "    }\n",
              "\n",
              "    .dataframe tbody tr th {\n",
              "        vertical-align: top;\n",
              "    }\n",
              "\n",
              "    .dataframe thead th {\n",
              "        text-align: right;\n",
              "    }\n",
              "</style>\n",
              "<table border=\"1\" class=\"dataframe\">\n",
              "  <thead>\n",
              "    <tr style=\"text-align: right;\">\n",
              "      <th></th>\n",
              "      <th>hypothesis</th>\n",
              "    </tr>\n",
              "  </thead>\n",
              "  <tbody>\n",
              "    <tr>\n",
              "      <th>count</th>\n",
              "      <td>3435</td>\n",
              "    </tr>\n",
              "    <tr>\n",
              "      <th>unique</th>\n",
              "      <td>3435</td>\n",
              "    </tr>\n",
              "    <tr>\n",
              "      <th>top</th>\n",
              "      <td>Did you do it?</td>\n",
              "    </tr>\n",
              "    <tr>\n",
              "      <th>freq</th>\n",
              "      <td>1</td>\n",
              "    </tr>\n",
              "  </tbody>\n",
              "</table>\n",
              "</div><br><label><b>dtype:</b> object</label>"
            ]
          },
          "metadata": {},
          "execution_count": 7
        }
      ],
      "source": [
        "bert_en_dataset.hypothesis.describe()"
      ]
    },
    {
      "cell_type": "code",
      "execution_count": 8,
      "metadata": {
        "id": "YRPZa91Gm4yd",
        "outputId": "a99e0191-1342-42b9-c82e-8f7c7519c2c9",
        "colab": {
          "base_uri": "https://localhost:8080/"
        }
      },
      "outputs": [
        {
          "output_type": "stream",
          "name": "stdout",
          "text": [
            "Would you rise up and defeaat all evil lords in the town?\n",
            "He landed on the island but soon left for greener pastures, before later dying alone and childless.\n",
            "There was a beautiful artist who painted the landscape of the central highlands.\n",
            "I know this because I own a bible.\n",
            "I'm assuming he hacked the autopilot to bring the plane down.\n",
            "They would make pilgrimages to Jerusalem.\n",
            "A traveler said the settlement was prospering. \n",
            "TIG funds are used to support the Technology Evolution project, a legal aid society in Cincinnati. \n",
            "I could not agree with you.\n",
            "You were thought to be dead!\n"
          ]
        }
      ],
      "source": [
        "for i in range(10):\n",
        "    print(bert_en_dataset.hypothesis[i])"
      ]
    },
    {
      "cell_type": "markdown",
      "metadata": {
        "id": "cgAxhayPm4yd"
      },
      "source": [
        "- All hypothesis are unique and follow the structure shown above. The premises that follow may either directly follow from the hypothesis, contradict it or not contain enough information to make a proper conclusion."
      ]
    },
    {
      "cell_type": "code",
      "execution_count": 9,
      "metadata": {
        "id": "_5FZt8G8m4ye",
        "outputId": "e48a7773-5566-4ab6-ce71-8464629aa541",
        "colab": {
          "base_uri": "https://localhost:8080/",
          "height": 210
        }
      },
      "outputs": [
        {
          "output_type": "execute_result",
          "data": {
            "text/plain": [
              "count                                                  3435\n",
              "unique                                                 2380\n",
              "top       We are also advocating enhanced reporting in c...\n",
              "freq                                                      3\n",
              "Name: premise, dtype: object"
            ],
            "text/html": [
              "<div>\n",
              "<style scoped>\n",
              "    .dataframe tbody tr th:only-of-type {\n",
              "        vertical-align: middle;\n",
              "    }\n",
              "\n",
              "    .dataframe tbody tr th {\n",
              "        vertical-align: top;\n",
              "    }\n",
              "\n",
              "    .dataframe thead th {\n",
              "        text-align: right;\n",
              "    }\n",
              "</style>\n",
              "<table border=\"1\" class=\"dataframe\">\n",
              "  <thead>\n",
              "    <tr style=\"text-align: right;\">\n",
              "      <th></th>\n",
              "      <th>premise</th>\n",
              "    </tr>\n",
              "  </thead>\n",
              "  <tbody>\n",
              "    <tr>\n",
              "      <th>count</th>\n",
              "      <td>3435</td>\n",
              "    </tr>\n",
              "    <tr>\n",
              "      <th>unique</th>\n",
              "      <td>2380</td>\n",
              "    </tr>\n",
              "    <tr>\n",
              "      <th>top</th>\n",
              "      <td>We are also advocating enhanced reporting in c...</td>\n",
              "    </tr>\n",
              "    <tr>\n",
              "      <th>freq</th>\n",
              "      <td>3</td>\n",
              "    </tr>\n",
              "  </tbody>\n",
              "</table>\n",
              "</div><br><label><b>dtype:</b> object</label>"
            ]
          },
          "metadata": {},
          "execution_count": 9
        }
      ],
      "source": [
        "bert_en_dataset.premise.describe()"
      ]
    },
    {
      "cell_type": "code",
      "execution_count": 10,
      "metadata": {
        "id": "OVb-OM9rm4ye",
        "outputId": "6bddbe1e-af33-46fa-935b-8d8c5459c2ca",
        "colab": {
          "base_uri": "https://localhost:8080/"
        }
      },
      "outputs": [
        {
          "output_type": "stream",
          "name": "stdout",
          "text": [
            "3)  Dare you rise to the occasion, like Raskolnikov, and reject the petty rules that govern lesser men?\n",
            "He married Dona Filipa Moniz (Perestrelo), the daughter of Porto Santo's first governor, and lived on the island for a period, fathering a son there.\n",
            "The contrast between the landscape of the central highlands and the south coast could not be more marked.\n",
            "i don't know i i do i can think of all the uh the biblical things about it too where what did they say to uh i can't think of the scripture Render unto Caesar's what is Caesar's so\n",
            "'So I assume he hacked into the autopilot and reprogrammed it to-'\n",
            "They returned to live in the Galilee village of Nazareth, making pilgrimages to Jerusalem.\n",
            "An Indian traveler described the prosperous Bujang Valley settlement as  the seat of all felicities.  \n",
            "TIG funds support the Technology Evaluation Project, an initiative of the Legal Aid Society of Cincinnati.\n",
            "well i think i got to agree with you there\n",
            "Say, man, don't you know you've been given up for dead? \n"
          ]
        }
      ],
      "source": [
        "for i in range(10):\n",
        "    print(bert_en_dataset.premise[i])"
      ]
    },
    {
      "cell_type": "markdown",
      "metadata": {
        "id": "_-4HIkFCm4ye"
      },
      "source": [
        "- **Note:** Not all the premises that follow **are necessarily unique.** This is done to have the model be able to **recognize several conclusions that may be drawn from a hypothesis.**"
      ]
    },
    {
      "cell_type": "code",
      "execution_count": 11,
      "metadata": {
        "id": "-K7ohQyZm4ye",
        "outputId": "042c6a83-d192-47f0-a3f8-8e8bccffab84",
        "colab": {
          "base_uri": "https://localhost:8080/",
          "height": 335
        }
      },
      "outputs": [
        {
          "output_type": "execute_result",
          "data": {
            "text/plain": [
              "count    3435.000000\n",
              "mean        0.984862\n",
              "std         0.823577\n",
              "min         0.000000\n",
              "25%         0.000000\n",
              "50%         1.000000\n",
              "75%         2.000000\n",
              "max         2.000000\n",
              "Name: label, dtype: float64"
            ],
            "text/html": [
              "<div>\n",
              "<style scoped>\n",
              "    .dataframe tbody tr th:only-of-type {\n",
              "        vertical-align: middle;\n",
              "    }\n",
              "\n",
              "    .dataframe tbody tr th {\n",
              "        vertical-align: top;\n",
              "    }\n",
              "\n",
              "    .dataframe thead th {\n",
              "        text-align: right;\n",
              "    }\n",
              "</style>\n",
              "<table border=\"1\" class=\"dataframe\">\n",
              "  <thead>\n",
              "    <tr style=\"text-align: right;\">\n",
              "      <th></th>\n",
              "      <th>label</th>\n",
              "    </tr>\n",
              "  </thead>\n",
              "  <tbody>\n",
              "    <tr>\n",
              "      <th>count</th>\n",
              "      <td>3435.000000</td>\n",
              "    </tr>\n",
              "    <tr>\n",
              "      <th>mean</th>\n",
              "      <td>0.984862</td>\n",
              "    </tr>\n",
              "    <tr>\n",
              "      <th>std</th>\n",
              "      <td>0.823577</td>\n",
              "    </tr>\n",
              "    <tr>\n",
              "      <th>min</th>\n",
              "      <td>0.000000</td>\n",
              "    </tr>\n",
              "    <tr>\n",
              "      <th>25%</th>\n",
              "      <td>0.000000</td>\n",
              "    </tr>\n",
              "    <tr>\n",
              "      <th>50%</th>\n",
              "      <td>1.000000</td>\n",
              "    </tr>\n",
              "    <tr>\n",
              "      <th>75%</th>\n",
              "      <td>2.000000</td>\n",
              "    </tr>\n",
              "    <tr>\n",
              "      <th>max</th>\n",
              "      <td>2.000000</td>\n",
              "    </tr>\n",
              "  </tbody>\n",
              "</table>\n",
              "</div><br><label><b>dtype:</b> float64</label>"
            ]
          },
          "metadata": {},
          "execution_count": 11
        }
      ],
      "source": [
        "bert_en_dataset.label.describe()"
      ]
    },
    {
      "cell_type": "markdown",
      "metadata": {
        "id": "6bCYZsUum4ye"
      },
      "source": [
        "- From the five-number summary, it can be surmised that most of the data seems to contain neutral conclusions in the premises. This likely suggests that the model will need to learn and encode finer details in the premises to draw accurate conclusions and predictions."
      ]
    },
    {
      "cell_type": "code",
      "execution_count": 12,
      "metadata": {
        "id": "Lw2REtUim4ye",
        "outputId": "466124c3-8e0b-4f27-8b6d-b9262e34235b",
        "colab": {
          "base_uri": "https://localhost:8080/",
          "height": 718
        }
      },
      "outputs": [
        {
          "output_type": "display_data",
          "data": {
            "text/plain": [
              "<Figure size 1200x800 with 1 Axes>"
            ],
            "image/png": "[encoded data removed]"
          },
          "metadata": {}
        }
      ],
      "source": [
        "labels = bert_en_dataset.label.to_numpy()\n",
        "\n",
        "plt.figure(figsize=(12, 8))\n",
        "\n",
        "plt.hist(labels, bins=range(4), align=\"left\", rwidth=0.75, edgecolor=\"black\")\n",
        "\n",
        "plt.xticks(numpy.arange(3))\n",
        "\n",
        "for pos in [\"top\", \"right\"]:\n",
        "    plt.gca().spines[pos].set_visible(False)\n",
        "\n",
        "plt.grid(axis=\"y\", alpha=0.33, color=\"black\")\n",
        "\n",
        "plt.xlabel(\"Label (entailment (0), neutral (1), contradiction (2))\")\n",
        "\n",
        "plt.ylabel(\"Frequency\")\n",
        "\n",
        "plt.title(\"Label Frequency in the Training Dataset\")\n",
        "\n",
        "plt.show()"
      ]
    },
    {
      "cell_type": "markdown",
      "metadata": {
        "id": "zTCSEGUum4ye"
      },
      "source": [
        "- From the historgram above, it seams that the most frequent premise is an entailment, while a neutral conclusion happens the least."
      ]
    },
    {
      "cell_type": "code",
      "execution_count": 13,
      "metadata": {
        "id": "AO5z--Wgm4ye"
      },
      "outputs": [],
      "source": [
        "def get_length_of_text(_text):\n",
        "    return len(_text)\n",
        "\n",
        "\n",
        "length_of_hypothesis_texts = bert_en_dataset.hypothesis.apply(get_length_of_text)\n",
        "\n",
        "length_of_premise_texts = bert_en_dataset.premise.apply(get_length_of_text)"
      ]
    },
    {
      "cell_type": "code",
      "execution_count": 14,
      "metadata": {
        "id": "6lfL0q6rm4ye",
        "outputId": "7f8895a5-17de-4b34-97b0-b923a22a28b4",
        "colab": {
          "base_uri": "https://localhost:8080/",
          "height": 718
        }
      },
      "outputs": [
        {
          "output_type": "display_data",
          "data": {
            "text/plain": [
              "<Figure size 1200x800 with 1 Axes>"
            ],
            "image/png": "[encoded data removed]"
          },
          "metadata": {}
        }
      ],
      "source": [
        "plt.figure(figsize=(12, 8))\n",
        "\n",
        "plt.boxplot(length_of_hypothesis_texts, vert=False)\n",
        "\n",
        "for pos in [\"top\", \"right\", \"left\"]:\n",
        "    plt.gca().spines[pos].set_visible(False)\n",
        "\n",
        "plt.gca().get_yaxis().set_visible(False)\n",
        "\n",
        "plt.grid(axis=\"x\", alpha=0.33, color=\"black\")\n",
        "\n",
        "plt.xlabel(\"Character Count\")\n",
        "\n",
        "plt.title(\"Box-Whisker Plot Summary for Hypothesis Character Count\")\n",
        "\n",
        "plt.show()"
      ]
    },
    {
      "cell_type": "code",
      "execution_count": 15,
      "metadata": {
        "id": "3e-QaDMdm4yf",
        "outputId": "30c39db6-167e-4e5c-a987-4813c201b6d9",
        "colab": {
          "base_uri": "https://localhost:8080/",
          "height": 718
        }
      },
      "outputs": [
        {
          "output_type": "display_data",
          "data": {
            "text/plain": [
              "<Figure size 1200x800 with 1 Axes>"
            ],
            "image/png": "[encoded data removed]"
          },
          "metadata": {}
        }
      ],
      "source": [
        "plt.figure(figsize=(12, 8))\n",
        "\n",
        "plt.boxplot(length_of_premise_texts, vert=False)\n",
        "\n",
        "for pos in [\"top\", \"right\", \"left\"]:\n",
        "    plt.gca().spines[pos].set_visible(False)\n",
        "\n",
        "plt.gca().get_yaxis().set_visible(False)\n",
        "\n",
        "plt.grid(axis=\"x\", alpha=0.33, color=\"black\")\n",
        "\n",
        "plt.xlabel(\"Character Count\")\n",
        "\n",
        "plt.title(\"Box-Whisker Plot Summary for Premise Character Count\")\n",
        "\n",
        "plt.show()"
      ]
    },
    {
      "cell_type": "markdown",
      "metadata": {
        "id": "hEwpLQUwm4yf"
      },
      "source": [
        "- From the summary plots of the character counts in the texts, it can be seen that there appear to be many outliers in the distribution. This means that there exists several text elements that are much longer than upper limits of the distribution. This may affect the encoding of the textual embeddings in the model.\n",
        "\n",
        "- Otherwise, it would seem on average that the premises are longer than the hypotheses."
      ]
    },
    {
      "cell_type": "markdown",
      "metadata": {
        "id": "p2_MqWzLm4yf"
      },
      "source": [
        "#### Model Definition"
      ]
    },
    {
      "cell_type": "code",
      "source": [
        "def split_labels(x, y):\n",
        "    return (x[0], x[1]), y"
      ],
      "metadata": {
        "id": "uFh061PT_zco"
      },
      "execution_count": 16,
      "outputs": []
    },
    {
      "cell_type": "code",
      "source": [
        "batch_size = 128\n",
        "\n",
        "VALIDATION_SPLIT = 0.2\n",
        "TRAIN_SIZE = int(bert_en_dataset.shape[0] * (1-VALIDATION_SPLIT))\n",
        "\n",
        "training_dataset = (\n",
        "    tensorflow.data.Dataset.from_tensor_slices(\n",
        "        (\n",
        "            bert_en_dataset[[\"hypothesis\", \"premise\"]].values,\n",
        "            bert_en_dataset[\"label\"].values\n",
        "        )\n",
        "    )\n",
        ")\n",
        "\n",
        "train_dataset = training_dataset.take(TRAIN_SIZE)\n",
        "val_dataset = training_dataset.skip(TRAIN_SIZE)\n",
        "\n",
        "train_preprocessed = train_dataset.map(split_labels, tensorflow.data.AUTOTUNE).batch(batch_size, drop_remainder=True).cache().prefetch(tensorflow.data.AUTOTUNE)\n",
        "val_preprocessed = val_dataset.map(split_labels, tensorflow.data.AUTOTUNE).batch(batch_size, drop_remainder=True).cache().prefetch(tensorflow.data.AUTOTUNE)"
      ],
      "metadata": {
        "id": "hfBrgGW7Ix0_"
      },
      "execution_count": 17,
      "outputs": []
    },
    {
      "cell_type": "code",
      "source": [
        "preprocessor = keras_nlp.models.BertPreprocessor.from_preset(\"bert_small_en_uncased\", sequence_length=512)\n",
        "\n",
        "bert_train_set = (train_preprocessed.map(preprocessor, tensorflow.data.AUTOTUNE).cache().prefetch(tensorflow.data.AUTOTUNE))\n",
        "\n",
        "bert_val_set = (val_preprocessed.map(preprocessor, tensorflow.data.AUTOTUNE).cache().prefetch(tensorflow.data.AUTOTUNE))\n",
        "\n",
        "classifier = keras_nlp.models.BertClassifier.from_preset(\"bert_small_en_uncased\", preprocessor=None, num_classes=3)\n",
        "classifier.fit(bert_train_set, validation_data=bert_val_set, epochs=3)"
      ],
      "metadata": {
        "colab": {
          "base_uri": "https://localhost:8080/"
        },
        "id": "kGXe3VZyZRC3",
        "outputId": "1d35d538-88d1-4f02-c799-561fd7cc7411"
      },
      "execution_count": 18,
      "outputs": [
        {
          "output_type": "stream",
          "name": "stdout",
          "text": [
            "Epoch 1/3\n",
            "\u001b[1m21/21\u001b[0m \u001b[32m━━━━━━━━━━━━━━━━━━━━\u001b[0m\u001b[37m\u001b[0m \u001b[1m70s\u001b[0m 875ms/step - loss: 1.1111 - sparse_categorical_accuracy: 0.3548 - val_loss: 1.0733 - val_sparse_categorical_accuracy: 0.4297\n",
            "Epoch 2/3\n",
            "\u001b[1m21/21\u001b[0m \u001b[32m━━━━━━━━━━━━━━━━━━━━\u001b[0m\u001b[37m\u001b[0m \u001b[1m13s\u001b[0m 633ms/step - loss: 1.0388 - sparse_categorical_accuracy: 0.4844 - val_loss: 1.0233 - val_sparse_categorical_accuracy: 0.5016\n",
            "Epoch 3/3\n",
            "\u001b[1m21/21\u001b[0m \u001b[32m━━━━━━━━━━━━━━━━━━━━\u001b[0m\u001b[37m\u001b[0m \u001b[1m29s\u001b[0m 1s/step - loss: 0.9457 - sparse_categorical_accuracy: 0.5884 - val_loss: 0.9437 - val_sparse_categorical_accuracy: 0.5703\n"
          ]
        },
        {
          "output_type": "execute_result",
          "data": {
            "text/plain": [
              "<keras.src.callbacks.history.History at 0x7a8db46aea10>"
            ]
          },
          "metadata": {},
          "execution_count": 18
        }
      ]
    }
  ],
  "metadata": {
    "kernelspec": {
      "display_name": "Python 3",
      "name": "python3"
    },
    "language_info": {
      "codemirror_mode": {
        "name": "ipython",
        "version": 3
      },
      "file_extension": ".py",
      "mimetype": "text/x-python",
      "name": "python",
      "nbconvert_exporter": "python",
      "pygments_lexer": "ipython3",
      "version": "3.11.5"
    },
    "colab": {
      "provenance": [],
      "gpuType": "T4"
    },
    "accelerator": "GPU"
  },
  "nbformat": 4,
  "nbformat_minor": 0
}