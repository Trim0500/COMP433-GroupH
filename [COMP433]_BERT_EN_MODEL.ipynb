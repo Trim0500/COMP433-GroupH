{
 "cells": [
  {
   "cell_type": "markdown",
   "metadata": {},
   "source": [
    "# BERT EN Model"
   ]
  },
  {
   "cell_type": "markdown",
   "metadata": {},
   "source": [
    "### This notebook contains the implementation of the ELECTRA model pre-trained on the english language set coming from `Datasets/BERT/train_en.csv`\n",
    "\n",
    "### The following steps are taken to establish the model\n",
    "- **Data exploration and visualization**\n",
    "- **Tokenizer selection**\n",
    "- **Preprocessor selection**\n",
    "- **Backbone selection**\n",
    "- **Classifier selction**\n",
    "- **Any additional hyperparameter searching and tuning**\n",
    "- **Model saving**"
   ]
  },
  {
   "cell_type": "code",
   "execution_count": 17,
   "metadata": {},
   "outputs": [],
   "source": [
    "import matplotlib.pyplot as plt\n",
    "import pandas\n",
    "import numpy\n",
    "import torch\n",
    "import os\n",
    "os.environ[\"KERAS_BACKEND\"] = \"torch\"\n",
    "import keras_nlp\n",
    "import keras"
   ]
  },
  {
   "cell_type": "markdown",
   "metadata": {},
   "source": [
    "#### Data Exploration and Visualization"
   ]
  },
  {
   "cell_type": "code",
   "execution_count": 2,
   "metadata": {},
   "outputs": [
    {
     "data": {
      "text/html": [
       "<div>\n",
       "<style scoped>\n",
       "    .dataframe tbody tr th:only-of-type {\n",
       "        vertical-align: middle;\n",
       "    }\n",
       "\n",
       "    .dataframe tbody tr th {\n",
       "        vertical-align: top;\n",
       "    }\n",
       "\n",
       "    .dataframe thead th {\n",
       "        text-align: right;\n",
       "    }\n",
       "</style>\n",
       "<table border=\"1\" class=\"dataframe\">\n",
       "  <thead>\n",
       "    <tr style=\"text-align: right;\">\n",
       "      <th></th>\n",
       "      <th>Unnamed: 0</th>\n",
       "      <th>id</th>\n",
       "      <th>premise</th>\n",
       "      <th>hypothesis</th>\n",
       "      <th>lang_abv</th>\n",
       "      <th>language</th>\n",
       "      <th>label</th>\n",
       "      <th>label_name</th>\n",
       "    </tr>\n",
       "  </thead>\n",
       "  <tbody>\n",
       "    <tr>\n",
       "      <th>0</th>\n",
       "      <td>0</td>\n",
       "      <td>a937bd90a8</td>\n",
       "      <td>3)  Dare you rise to the occasion, like Raskol...</td>\n",
       "      <td>Would you rise up and defeaat all evil lords i...</td>\n",
       "      <td>en</td>\n",
       "      <td>English</td>\n",
       "      <td>1</td>\n",
       "      <td>neutral</td>\n",
       "    </tr>\n",
       "    <tr>\n",
       "      <th>1</th>\n",
       "      <td>1</td>\n",
       "      <td>0abb9434d5</td>\n",
       "      <td>He married Dona Filipa Moniz (Perestrelo), the...</td>\n",
       "      <td>He landed on the island but soon left for gree...</td>\n",
       "      <td>en</td>\n",
       "      <td>English</td>\n",
       "      <td>2</td>\n",
       "      <td>contradiction</td>\n",
       "    </tr>\n",
       "    <tr>\n",
       "      <th>2</th>\n",
       "      <td>2</td>\n",
       "      <td>bc52edfd5b</td>\n",
       "      <td>The contrast between the landscape of the cent...</td>\n",
       "      <td>There was a beautiful artist who painted the l...</td>\n",
       "      <td>en</td>\n",
       "      <td>English</td>\n",
       "      <td>1</td>\n",
       "      <td>neutral</td>\n",
       "    </tr>\n",
       "    <tr>\n",
       "      <th>3</th>\n",
       "      <td>3</td>\n",
       "      <td>62344708db</td>\n",
       "      <td>i don't know i i do i can think of all the uh ...</td>\n",
       "      <td>I know this because I own a bible.</td>\n",
       "      <td>en</td>\n",
       "      <td>English</td>\n",
       "      <td>1</td>\n",
       "      <td>neutral</td>\n",
       "    </tr>\n",
       "    <tr>\n",
       "      <th>4</th>\n",
       "      <td>4</td>\n",
       "      <td>03f3c9a92e</td>\n",
       "      <td>'So I assume he hacked into the autopilot and ...</td>\n",
       "      <td>I'm assuming he hacked the autopilot to bring ...</td>\n",
       "      <td>en</td>\n",
       "      <td>English</td>\n",
       "      <td>1</td>\n",
       "      <td>neutral</td>\n",
       "    </tr>\n",
       "  </tbody>\n",
       "</table>\n",
       "</div>"
      ],
      "text/plain": [
       "   Unnamed: 0          id                                            premise  \\\n",
       "0           0  a937bd90a8  3)  Dare you rise to the occasion, like Raskol...   \n",
       "1           1  0abb9434d5  He married Dona Filipa Moniz (Perestrelo), the...   \n",
       "2           2  bc52edfd5b  The contrast between the landscape of the cent...   \n",
       "3           3  62344708db  i don't know i i do i can think of all the uh ...   \n",
       "4           4  03f3c9a92e  'So I assume he hacked into the autopilot and ...   \n",
       "\n",
       "                                          hypothesis lang_abv language  label  \\\n",
       "0  Would you rise up and defeaat all evil lords i...       en  English      1   \n",
       "1  He landed on the island but soon left for gree...       en  English      2   \n",
       "2  There was a beautiful artist who painted the l...       en  English      1   \n",
       "3                 I know this because I own a bible.       en  English      1   \n",
       "4  I'm assuming he hacked the autopilot to bring ...       en  English      1   \n",
       "\n",
       "      label_name  \n",
       "0        neutral  \n",
       "1  contradiction  \n",
       "2        neutral  \n",
       "3        neutral  \n",
       "4        neutral  "
      ]
     },
     "execution_count": 2,
     "metadata": {},
     "output_type": "execute_result"
    }
   ],
   "source": [
    "BERT_en_dataset = pandas.read_csv(\"Datasets/BERT/train_en.csv\")\n",
    "BERT_en_dataset.head()"
   ]
  },
  {
   "cell_type": "code",
   "execution_count": 3,
   "metadata": {},
   "outputs": [
    {
     "data": {
      "text/plain": [
       "Unnamed: 0    0\n",
       "id            0\n",
       "premise       0\n",
       "hypothesis    0\n",
       "lang_abv      0\n",
       "language      0\n",
       "label         0\n",
       "label_name    0\n",
       "dtype: int64"
      ]
     },
     "execution_count": 3,
     "metadata": {},
     "output_type": "execute_result"
    }
   ],
   "source": [
    "BERT_en_dataset.isna().sum()"
   ]
  },
  {
   "cell_type": "code",
   "execution_count": 4,
   "metadata": {},
   "outputs": [
    {
     "data": {
      "text/plain": [
       "np.int64(0)"
      ]
     },
     "execution_count": 4,
     "metadata": {},
     "output_type": "execute_result"
    }
   ],
   "source": [
    "(BERT_en_dataset.lang_abv != \"en\").sum()"
   ]
  },
  {
   "cell_type": "code",
   "execution_count": 5,
   "metadata": {},
   "outputs": [
    {
     "data": {
      "text/plain": [
       "np.False_"
      ]
     },
     "execution_count": 5,
     "metadata": {},
     "output_type": "execute_result"
    }
   ],
   "source": [
    "BERT_en_dataset.label[~BERT_en_dataset.label.isin([0, 1, 2])].any()"
   ]
  },
  {
   "cell_type": "code",
   "execution_count": 6,
   "metadata": {},
   "outputs": [
    {
     "data": {
      "text/plain": [
       "np.int64(3435)"
      ]
     },
     "execution_count": 6,
     "metadata": {},
     "output_type": "execute_result"
    }
   ],
   "source": [
    "BERT_en_dataset.id.count()"
   ]
  },
  {
   "cell_type": "code",
   "execution_count": 7,
   "metadata": {},
   "outputs": [
    {
     "data": {
      "text/plain": [
       "count               3435\n",
       "unique              3435\n",
       "top       Did you do it?\n",
       "freq                   1\n",
       "Name: hypothesis, dtype: object"
      ]
     },
     "execution_count": 7,
     "metadata": {},
     "output_type": "execute_result"
    }
   ],
   "source": [
    "BERT_en_dataset.hypothesis.describe()"
   ]
  },
  {
   "cell_type": "code",
   "execution_count": 8,
   "metadata": {},
   "outputs": [
    {
     "name": "stdout",
     "output_type": "stream",
     "text": [
      "Would you rise up and defeaat all evil lords in the town?\n",
      "He landed on the island but soon left for greener pastures, before later dying alone and childless.\n",
      "There was a beautiful artist who painted the landscape of the central highlands.\n",
      "I know this because I own a bible.\n",
      "I'm assuming he hacked the autopilot to bring the plane down.\n",
      "They would make pilgrimages to Jerusalem.\n",
      "A traveler said the settlement was prospering. \n",
      "TIG funds are used to support the Technology Evolution project, a legal aid society in Cincinnati. \n",
      "I could not agree with you.\n",
      "You were thought to be dead!\n"
     ]
    }
   ],
   "source": [
    "for i in range(10):\n",
    "    print(BERT_en_dataset.hypothesis[i])"
   ]
  },
  {
   "cell_type": "code",
   "execution_count": 9,
   "metadata": {},
   "outputs": [
    {
     "data": {
      "text/plain": [
       "count                                                  3435\n",
       "unique                                                 2380\n",
       "top       Additional information is provided to help man...\n",
       "freq                                                      3\n",
       "Name: premise, dtype: object"
      ]
     },
     "execution_count": 9,
     "metadata": {},
     "output_type": "execute_result"
    }
   ],
   "source": [
    "BERT_en_dataset.premise.describe()"
   ]
  },
  {
   "cell_type": "code",
   "execution_count": 10,
   "metadata": {},
   "outputs": [
    {
     "name": "stdout",
     "output_type": "stream",
     "text": [
      "3)  Dare you rise to the occasion, like Raskolnikov, and reject the petty rules that govern lesser men?\n",
      "He married Dona Filipa Moniz (Perestrelo), the daughter of Porto Santo's first governor, and lived on the island for a period, fathering a son there.\n",
      "The contrast between the landscape of the central highlands and the south coast could not be more marked.\n",
      "i don't know i i do i can think of all the uh the biblical things about it too where what did they say to uh i can't think of the scripture Render unto Caesar's what is Caesar's so\n",
      "'So I assume he hacked into the autopilot and reprogrammed it to-'\n",
      "They returned to live in the Galilee village of Nazareth, making pilgrimages to Jerusalem.\n",
      "An Indian traveler described the prosperous Bujang Valley settlement as  the seat of all felicities.  \n",
      "TIG funds support the Technology Evaluation Project, an initiative of the Legal Aid Society of Cincinnati.\n",
      "well i think i got to agree with you there\n",
      "Say, man, don't you know you've been given up for dead? \n"
     ]
    }
   ],
   "source": [
    "for i in range(10):\n",
    "    print(BERT_en_dataset.premise[i])"
   ]
  },
  {
   "cell_type": "code",
   "execution_count": 11,
   "metadata": {},
   "outputs": [
    {
     "data": {
      "text/plain": [
       "count    3435.000000\n",
       "mean        0.984862\n",
       "std         0.823577\n",
       "min         0.000000\n",
       "25%         0.000000\n",
       "50%         1.000000\n",
       "75%         2.000000\n",
       "max         2.000000\n",
       "Name: label, dtype: float64"
      ]
     },
     "execution_count": 11,
     "metadata": {},
     "output_type": "execute_result"
    }
   ],
   "source": [
    "BERT_en_dataset.label.describe()"
   ]
  },
  {
   "cell_type": "code",
   "execution_count": 12,
   "metadata": {},
   "outputs": [
    {
     "data": {
      "image/png": "[encoded data removed]",
      "text/plain": [
       "<Figure size 1200x800 with 1 Axes>"
      ]
     },
     "metadata": {},
     "output_type": "display_data"
    }
   ],
   "source": [
    "labels = BERT_en_dataset.label.to_numpy()\n",
    "\n",
    "plt.figure(figsize=(12, 8))\n",
    "\n",
    "plt.hist(labels, bins=range(4), align=\"left\", rwidth=0.75, edgecolor=\"black\")\n",
    "\n",
    "plt.xticks(numpy.arange(3))\n",
    "\n",
    "for pos in [\"top\", \"right\"]:\n",
    "    plt.gca().spines[pos].set_visible(False)\n",
    "\n",
    "plt.grid(axis=\"y\", alpha=0.33, color=\"black\")\n",
    "\n",
    "plt.xlabel(\"Label (entailment (0), neutral (1), contradiction (2))\")\n",
    "\n",
    "plt.ylabel(\"Frequency\")\n",
    "\n",
    "plt.title(\"Label Frequency in the Training Dataset\")\n",
    "\n",
    "plt.show()"
   ]
  },
  {
   "cell_type": "code",
   "execution_count": 13,
   "metadata": {},
   "outputs": [],
   "source": [
    "def get_length_of_text(_text):\n",
    "    return len(_text)\n",
    "\n",
    "\n",
    "length_of_hypothesis_texts = BERT_en_dataset.hypothesis.apply(get_length_of_text)\n",
    "\n",
    "length_of_premise_texts = BERT_en_dataset.premise.apply(get_length_of_text)"
   ]
  },
  {
   "cell_type": "code",
   "execution_count": 14,
   "metadata": {},
   "outputs": [
    {
     "data": {
      "image/png": "[encoded data removed]",
      "text/plain": [
       "<Figure size 1200x800 with 1 Axes>"
      ]
     },
     "metadata": {},
     "output_type": "display_data"
    }
   ],
   "source": [
    "plt.figure(figsize=(12, 8))\n",
    "\n",
    "plt.boxplot(length_of_hypothesis_texts, vert=False)\n",
    "\n",
    "for pos in [\"top\", \"right\", \"left\"]:\n",
    "    plt.gca().spines[pos].set_visible(False)\n",
    "\n",
    "plt.gca().get_yaxis().set_visible(False)\n",
    "\n",
    "plt.grid(axis=\"x\", alpha=0.33, color=\"black\")\n",
    "\n",
    "plt.xlabel(\"Character Count\")\n",
    "\n",
    "plt.title(\"Box-Whisker Plot Summary for Hypothesis Character Count\")\n",
    "\n",
    "plt.show()"
   ]
  },
  {
   "cell_type": "code",
   "execution_count": 15,
   "metadata": {},
   "outputs": [
    {
     "data": {
      "image/png": "[encoded data removed]",
      "text/plain": [
       "<Figure size 1200x800 with 1 Axes>"
      ]
     },
     "metadata": {},
     "output_type": "display_data"
    }
   ],
   "source": [
    "plt.figure(figsize=(12, 8))\n",
    "\n",
    "plt.boxplot(length_of_premise_texts, vert=False)\n",
    "\n",
    "for pos in [\"top\", \"right\", \"left\"]:\n",
    "    plt.gca().spines[pos].set_visible(False)\n",
    "\n",
    "plt.gca().get_yaxis().set_visible(False)\n",
    "\n",
    "plt.grid(axis=\"x\", alpha=0.33, color=\"black\")\n",
    "\n",
    "plt.xlabel(\"Character Count\")\n",
    "\n",
    "plt.title(\"Box-Whisker Plot Summary for Premise Character Count\")\n",
    "\n",
    "plt.show()"
   ]
  },
  {
   "cell_type": "markdown",
   "metadata": {},
   "source": [
    "## Turning data frame to tensor data"
   ]
  },
  {
   "cell_type": "code",
   "execution_count": 28,
   "metadata": {},
   "outputs": [
    {
     "name": "stdout",
     "output_type": "stream",
     "text": [
      "[['3)  Dare you rise to the occasion, like Raskolnikov, and reject the petty rules that govern lesser men?'\n",
      "  'Would you rise up and defeaat all evil lords in the town?']\n",
      " [\"He married Dona Filipa Moniz (Perestrelo), the daughter of Porto Santo's first governor, and lived on the island for a period, fathering a son there.\"\n",
      "  'He landed on the island but soon left for greener pastures, before later dying alone and childless.']\n",
      " ['The contrast between the landscape of the central highlands and the south coast could not be more marked.'\n",
      "  'There was a beautiful artist who painted the landscape of the central highlands.']\n",
      " ...\n",
      " ['The village is Sainte-Marie, named by the explorer when he landed on 4 November 1493, attracted by the waterfalls and river he could see flowing down the green inland mountains.'\n",
      "  'He was attracted by the waterfalls and river.']\n",
      " ['Homes or businesses not located on one of these roads must place a mail receptacle along the route traveled.'\n",
      "  'The homes and businesses can place the mailbox wherever they would like.']\n",
      " ['You did, didn\\'t you?\"' 'Did you do it?']]\n",
      "[[1]\n",
      " [2]\n",
      " [1]\n",
      " ...\n",
      " [0]\n",
      " [2]\n",
      " [0]]\n"
     ]
    },
    {
     "ename": "TypeError",
     "evalue": "'int' object is not callable",
     "output_type": "error",
     "traceback": [
      "\u001b[1;31m---------------------------------------------------------------------------\u001b[0m",
      "\u001b[1;31mTypeError\u001b[0m                                 Traceback (most recent call last)",
      "Cell \u001b[1;32mIn[28], line 5\u001b[0m\n\u001b[0;32m      3\u001b[0m \u001b[38;5;28mprint\u001b[39m(\u001b[38;5;28minput\u001b[39m)\n\u001b[0;32m      4\u001b[0m \u001b[38;5;28mprint\u001b[39m(labels)\n\u001b[1;32m----> 5\u001b[0m train \u001b[38;5;241m=\u001b[39m \u001b[43mtorch\u001b[49m\u001b[38;5;241;43m.\u001b[39;49m\u001b[43mutils\u001b[49m\u001b[38;5;241;43m.\u001b[39;49m\u001b[43mdata\u001b[49m\u001b[38;5;241;43m.\u001b[39;49m\u001b[43mTensorDataset\u001b[49m\u001b[43m(\u001b[49m\u001b[38;5;28;43minput\u001b[39;49m\u001b[43m,\u001b[49m\u001b[43mlabels\u001b[49m\u001b[43m)\u001b[49m\n",
      "File \u001b[1;32m~\\AppData\\Local\\Packages\\PythonSoftwareFoundation.Python.3.12_qbz5n2kfra8p0\\LocalCache\\local-packages\\Python312\\site-packages\\torch\\utils\\data\\dataset.py:205\u001b[0m, in \u001b[0;36mTensorDataset.__init__\u001b[1;34m(self, *tensors)\u001b[0m\n\u001b[0;32m    204\u001b[0m \u001b[38;5;28;01mdef\u001b[39;00m \u001b[38;5;21m__init__\u001b[39m(\u001b[38;5;28mself\u001b[39m, \u001b[38;5;241m*\u001b[39mtensors: Tensor) \u001b[38;5;241m-\u001b[39m\u001b[38;5;241m>\u001b[39m \u001b[38;5;28;01mNone\u001b[39;00m:\n\u001b[1;32m--> 205\u001b[0m     \u001b[38;5;28;01massert\u001b[39;00m \u001b[38;5;28;43mall\u001b[39;49m\u001b[43m(\u001b[49m\n\u001b[0;32m    206\u001b[0m \u001b[43m        \u001b[49m\u001b[43mtensors\u001b[49m\u001b[43m[\u001b[49m\u001b[38;5;241;43m0\u001b[39;49m\u001b[43m]\u001b[49m\u001b[38;5;241;43m.\u001b[39;49m\u001b[43msize\u001b[49m\u001b[43m(\u001b[49m\u001b[38;5;241;43m0\u001b[39;49m\u001b[43m)\u001b[49m\u001b[43m \u001b[49m\u001b[38;5;241;43m==\u001b[39;49m\u001b[43m \u001b[49m\u001b[43mtensor\u001b[49m\u001b[38;5;241;43m.\u001b[39;49m\u001b[43msize\u001b[49m\u001b[43m(\u001b[49m\u001b[38;5;241;43m0\u001b[39;49m\u001b[43m)\u001b[49m\u001b[43m \u001b[49m\u001b[38;5;28;43;01mfor\u001b[39;49;00m\u001b[43m \u001b[49m\u001b[43mtensor\u001b[49m\u001b[43m \u001b[49m\u001b[38;5;129;43;01min\u001b[39;49;00m\u001b[43m \u001b[49m\u001b[43mtensors\u001b[49m\n\u001b[0;32m    207\u001b[0m \u001b[43m    \u001b[49m\u001b[43m)\u001b[49m, \u001b[38;5;124m\"\u001b[39m\u001b[38;5;124mSize mismatch between tensors\u001b[39m\u001b[38;5;124m\"\u001b[39m\n\u001b[0;32m    208\u001b[0m     \u001b[38;5;28mself\u001b[39m\u001b[38;5;241m.\u001b[39mtensors \u001b[38;5;241m=\u001b[39m tensors\n",
      "File \u001b[1;32m~\\AppData\\Local\\Packages\\PythonSoftwareFoundation.Python.3.12_qbz5n2kfra8p0\\LocalCache\\local-packages\\Python312\\site-packages\\torch\\utils\\data\\dataset.py:206\u001b[0m, in \u001b[0;36m<genexpr>\u001b[1;34m(.0)\u001b[0m\n\u001b[0;32m    204\u001b[0m \u001b[38;5;28;01mdef\u001b[39;00m \u001b[38;5;21m__init__\u001b[39m(\u001b[38;5;28mself\u001b[39m, \u001b[38;5;241m*\u001b[39mtensors: Tensor) \u001b[38;5;241m-\u001b[39m\u001b[38;5;241m>\u001b[39m \u001b[38;5;28;01mNone\u001b[39;00m:\n\u001b[0;32m    205\u001b[0m     \u001b[38;5;28;01massert\u001b[39;00m \u001b[38;5;28mall\u001b[39m(\n\u001b[1;32m--> 206\u001b[0m         \u001b[43mtensors\u001b[49m\u001b[43m[\u001b[49m\u001b[38;5;241;43m0\u001b[39;49m\u001b[43m]\u001b[49m\u001b[38;5;241;43m.\u001b[39;49m\u001b[43msize\u001b[49m\u001b[43m(\u001b[49m\u001b[38;5;241;43m0\u001b[39;49m\u001b[43m)\u001b[49m \u001b[38;5;241m==\u001b[39m tensor\u001b[38;5;241m.\u001b[39msize(\u001b[38;5;241m0\u001b[39m) \u001b[38;5;28;01mfor\u001b[39;00m tensor \u001b[38;5;129;01min\u001b[39;00m tensors\n\u001b[0;32m    207\u001b[0m     ), \u001b[38;5;124m\"\u001b[39m\u001b[38;5;124mSize mismatch between tensors\u001b[39m\u001b[38;5;124m\"\u001b[39m\n\u001b[0;32m    208\u001b[0m     \u001b[38;5;28mself\u001b[39m\u001b[38;5;241m.\u001b[39mtensors \u001b[38;5;241m=\u001b[39m tensors\n",
      "\u001b[1;31mTypeError\u001b[0m: 'int' object is not callable"
     ]
    }
   ],
   "source": []
  }
 ],
 "metadata": {
  "kernelspec": {
   "display_name": "Python 3",
   "language": "python",
   "name": "python3"
  },
  "language_info": {
   "codemirror_mode": {
    "name": "ipython",
    "version": 3
   },
   "file_extension": ".py",
   "mimetype": "text/x-python",
   "name": "python",
   "nbconvert_exporter": "python",
   "pygments_lexer": "ipython3",
   "version": "3.12.7"
  }
 },
 "nbformat": 4,
 "nbformat_minor": 2
}
