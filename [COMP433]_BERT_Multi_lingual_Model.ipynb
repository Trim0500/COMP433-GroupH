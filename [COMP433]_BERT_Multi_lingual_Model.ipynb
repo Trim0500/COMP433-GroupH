{
  "cells": [
    {
      "cell_type": "markdown",
      "metadata": {
        "id": "R6eemzHpm4yZ"
      },
      "source": [
        "# BERT Multi-lingual Model"
      ]
    },
    {
      "cell_type": "markdown",
      "metadata": {
        "id": "USHyvVetm4yb"
      },
      "source": [
        "### This notebook contains the implementation of the BERT model pre-trained on multiple languages coming from `Datasets/BERT/train_all_languages.csv`\n",
        "\n",
        "### The following steps are taken to establish the model\n",
        "- **Data exploration and visualization**\n",
        "- **Model definition**\n",
        "- **Optimizer algorithm selection**\n",
        "- **Loss function selection**\n",
        "- **Training loop**\n",
        "- **Model saving**"
      ]
    },
    {
      "cell_type": "code",
      "source": [
        "!pip install -q keras-nlp --upgrade"
      ],
      "metadata": {
        "id": "x_KfYjKCy5Lf"
      },
      "execution_count": null,
      "outputs": []
    },
    {
      "cell_type": "code",
      "execution_count": null,
      "metadata": {
        "id": "qG6dQRfEm4yb"
      },
      "outputs": [],
      "source": [
        "import matplotlib.pyplot as plt\n",
        "import pandas\n",
        "import numpy\n",
        "import keras_nlp\n",
        "import keras\n",
        "import tensorflow\n",
        "\n",
        "keras.mixed_precision.set_global_policy(\"Datasets/BERT/mixed_float16\")"
      ]
    },
    {
      "cell_type": "markdown",
      "metadata": {
        "id": "LDMzagW3m4yb"
      },
      "source": [
        "#### Data Exploration and Visualization"
      ]
    },
    {
      "cell_type": "code",
      "execution_count": null,
      "metadata": {
        "id": "UvN8v3Oym4yc",
        "outputId": "da7c99e6-6d65-48de-fa1b-d77805adafb9",
        "colab": {
          "base_uri": "https://localhost:8080/",
          "height": 310
        }
      },
      "outputs": [
        {
          "output_type": "execute_result",
          "data": {
            "text/plain": [
              "   Unnamed: 0          id                                            premise  \\\n",
              "0           0  f4891fa23f     Кто? Она спросила его с неожиданным интересом.   \n",
              "1           1  e8b38c6175  Others are Zao (in Tohoku) and a number of res...   \n",
              "2           2  e0a29d673a  trying to keep grass alive during a summer on ...   \n",
              "3           3  26222ec767  so i guess my experience is is just with what ...   \n",
              "4           4  d0cf40f417  The Journal put the point succinctly to  Is an...   \n",
              "\n",
              "                                          hypothesis lang_abv language  label  \\\n",
              "0  Она спросила, как это сделать, так как с её то...       ru  Russian      1   \n",
              "1   There are a lot of resorts in the national park.       en  English      0   \n",
              "2  There was no cost in keeping the grass alive i...       en  English      2   \n",
              "3  They were able to be home rather than having t...       en  English      0   \n",
              "4  The Journal asked \"Is this a good political mo...       en  English      1   \n",
              "\n",
              "      label_name  \n",
              "0        neutral  \n",
              "1     entailment  \n",
              "2  contradiction  \n",
              "3     entailment  \n",
              "4        neutral  "
            ],
            "text/html": [
              "\n",
              "  <div id=\"df-9d6e1eaf-5900-4e8f-b360-6ff8c7796e0d\" class=\"colab-df-container\">\n",
              "    <div>\n",
              "<style scoped>\n",
              "    .dataframe tbody tr th:only-of-type {\n",
              "        vertical-align: middle;\n",
              "    }\n",
              "\n",
              "    .dataframe tbody tr th {\n",
              "        vertical-align: top;\n",
              "    }\n",
              "\n",
              "    .dataframe thead th {\n",
              "        text-align: right;\n",
              "    }\n",
              "</style>\n",
              "<table border=\"1\" class=\"dataframe\">\n",
              "  <thead>\n",
              "    <tr style=\"text-align: right;\">\n",
              "      <th></th>\n",
              "      <th>Unnamed: 0</th>\n",
              "      <th>id</th>\n",
              "      <th>premise</th>\n",
              "      <th>hypothesis</th>\n",
              "      <th>lang_abv</th>\n",
              "      <th>language</th>\n",
              "      <th>label</th>\n",
              "      <th>label_name</th>\n",
              "    </tr>\n",
              "  </thead>\n",
              "  <tbody>\n",
              "    <tr>\n",
              "      <th>0</th>\n",
              "      <td>0</td>\n",
              "      <td>f4891fa23f</td>\n",
              "      <td>Кто? Она спросила его с неожиданным интересом.</td>\n",
              "      <td>Она спросила, как это сделать, так как с её то...</td>\n",
              "      <td>ru</td>\n",
              "      <td>Russian</td>\n",
              "      <td>1</td>\n",
              "      <td>neutral</td>\n",
              "    </tr>\n",
              "    <tr>\n",
              "      <th>1</th>\n",
              "      <td>1</td>\n",
              "      <td>e8b38c6175</td>\n",
              "      <td>Others are Zao (in Tohoku) and a number of res...</td>\n",
              "      <td>There are a lot of resorts in the national park.</td>\n",
              "      <td>en</td>\n",
              "      <td>English</td>\n",
              "      <td>0</td>\n",
              "      <td>entailment</td>\n",
              "    </tr>\n",
              "    <tr>\n",
              "      <th>2</th>\n",
              "      <td>2</td>\n",
              "      <td>e0a29d673a</td>\n",
              "      <td>trying to keep grass alive during a summer on ...</td>\n",
              "      <td>There was no cost in keeping the grass alive i...</td>\n",
              "      <td>en</td>\n",
              "      <td>English</td>\n",
              "      <td>2</td>\n",
              "      <td>contradiction</td>\n",
              "    </tr>\n",
              "    <tr>\n",
              "      <th>3</th>\n",
              "      <td>3</td>\n",
              "      <td>26222ec767</td>\n",
              "      <td>so i guess my experience is is just with what ...</td>\n",
              "      <td>They were able to be home rather than having t...</td>\n",
              "      <td>en</td>\n",
              "      <td>English</td>\n",
              "      <td>0</td>\n",
              "      <td>entailment</td>\n",
              "    </tr>\n",
              "    <tr>\n",
              "      <th>4</th>\n",
              "      <td>4</td>\n",
              "      <td>d0cf40f417</td>\n",
              "      <td>The Journal put the point succinctly to  Is an...</td>\n",
              "      <td>The Journal asked \"Is this a good political mo...</td>\n",
              "      <td>en</td>\n",
              "      <td>English</td>\n",
              "      <td>1</td>\n",
              "      <td>neutral</td>\n",
              "    </tr>\n",
              "  </tbody>\n",
              "</table>\n",
              "</div>\n",
              "    <div class=\"colab-df-buttons\">\n",
              "\n",
              "  <div class=\"colab-df-container\">\n",
              "    <button class=\"colab-df-convert\" onclick=\"convertToInteractive('df-9d6e1eaf-5900-4e8f-b360-6ff8c7796e0d')\"\n",
              "            title=\"Convert this dataframe to an interactive table.\"\n",
              "            style=\"display:none;\">\n",
              "\n",
              "  <svg xmlns=\"http://www.w3.org/2000/svg\" height=\"24px\" viewBox=\"0 -960 960 960\">\n",
              "    <path d=\"M120-120v-720h720v720H120Zm60-500h600v-160H180v160Zm220 220h160v-160H400v160Zm0 220h160v-160H400v160ZM180-400h160v-160H180v160Zm440 0h160v-160H620v160ZM180-180h160v-160H180v160Zm440 0h160v-160H620v160Z\"/>\n",
              "  </svg>\n",
              "    </button>\n",
              "\n",
              "  <style>\n",
              "    .colab-df-container {\n",
              "      display:flex;\n",
              "      gap: 12px;\n",
              "    }\n",
              "\n",
              "    .colab-df-convert {\n",
              "      background-color: #E8F0FE;\n",
              "      border: none;\n",
              "      border-radius: 50%;\n",
              "      cursor: pointer;\n",
              "      display: none;\n",
              "      fill: #1967D2;\n",
              "      height: 32px;\n",
              "      padding: 0 0 0 0;\n",
              "      width: 32px;\n",
              "    }\n",
              "\n",
              "    .colab-df-convert:hover {\n",
              "      background-color: #E2EBFA;\n",
              "      box-shadow: 0px 1px 2px rgba(60, 64, 67, 0.3), 0px 1px 3px 1px rgba(60, 64, 67, 0.15);\n",
              "      fill: #174EA6;\n",
              "    }\n",
              "\n",
              "    .colab-df-buttons div {\n",
              "      margin-bottom: 4px;\n",
              "    }\n",
              "\n",
              "    [theme=dark] .colab-df-convert {\n",
              "      background-color: #3B4455;\n",
              "      fill: #D2E3FC;\n",
              "    }\n",
              "\n",
              "    [theme=dark] .colab-df-convert:hover {\n",
              "      background-color: #434B5C;\n",
              "      box-shadow: 0px 1px 3px 1px rgba(0, 0, 0, 0.15);\n",
              "      filter: drop-shadow(0px 1px 2px rgba(0, 0, 0, 0.3));\n",
              "      fill: #FFFFFF;\n",
              "    }\n",
              "  </style>\n",
              "\n",
              "    <script>\n",
              "      const buttonEl =\n",
              "        document.querySelector('#df-9d6e1eaf-5900-4e8f-b360-6ff8c7796e0d button.colab-df-convert');\n",
              "      buttonEl.style.display =\n",
              "        google.colab.kernel.accessAllowed ? 'block' : 'none';\n",
              "\n",
              "      async function convertToInteractive(key) {\n",
              "        const element = document.querySelector('#df-9d6e1eaf-5900-4e8f-b360-6ff8c7796e0d');\n",
              "        const dataTable =\n",
              "          await google.colab.kernel.invokeFunction('convertToInteractive',\n",
              "                                                    [key], {});\n",
              "        if (!dataTable) return;\n",
              "\n",
              "        const docLinkHtml = 'Like what you see? Visit the ' +\n",
              "          '<a target=\"_blank\" href=https://colab.research.google.com/notebooks/data_table.ipynb>data table notebook</a>'\n",
              "          + ' to learn more about interactive tables.';\n",
              "        element.innerHTML = '';\n",
              "        dataTable['output_type'] = 'display_data';\n",
              "        await google.colab.output.renderOutput(dataTable, element);\n",
              "        const docLink = document.createElement('div');\n",
              "        docLink.innerHTML = docLinkHtml;\n",
              "        element.appendChild(docLink);\n",
              "      }\n",
              "    </script>\n",
              "  </div>\n",
              "\n",
              "\n",
              "<div id=\"df-823115eb-1069-4576-8bb8-503ca7b043b1\">\n",
              "  <button class=\"colab-df-quickchart\" onclick=\"quickchart('df-823115eb-1069-4576-8bb8-503ca7b043b1')\"\n",
              "            title=\"Suggest charts\"\n",
              "            style=\"display:none;\">\n",
              "\n",
              "<svg xmlns=\"http://www.w3.org/2000/svg\" height=\"24px\"viewBox=\"0 0 24 24\"\n",
              "     width=\"24px\">\n",
              "    <g>\n",
              "        <path d=\"M19 3H5c-1.1 0-2 .9-2 2v14c0 1.1.9 2 2 2h14c1.1 0 2-.9 2-2V5c0-1.1-.9-2-2-2zM9 17H7v-7h2v7zm4 0h-2V7h2v10zm4 0h-2v-4h2v4z\"/>\n",
              "    </g>\n",
              "</svg>\n",
              "  </button>\n",
              "\n",
              "<style>\n",
              "  .colab-df-quickchart {\n",
              "      --bg-color: #E8F0FE;\n",
              "      --fill-color: #1967D2;\n",
              "      --hover-bg-color: #E2EBFA;\n",
              "      --hover-fill-color: #174EA6;\n",
              "      --disabled-fill-color: #AAA;\n",
              "      --disabled-bg-color: #DDD;\n",
              "  }\n",
              "\n",
              "  [theme=dark] .colab-df-quickchart {\n",
              "      --bg-color: #3B4455;\n",
              "      --fill-color: #D2E3FC;\n",
              "      --hover-bg-color: #434B5C;\n",
              "      --hover-fill-color: #FFFFFF;\n",
              "      --disabled-bg-color: #3B4455;\n",
              "      --disabled-fill-color: #666;\n",
              "  }\n",
              "\n",
              "  .colab-df-quickchart {\n",
              "    background-color: var(--bg-color);\n",
              "    border: none;\n",
              "    border-radius: 50%;\n",
              "    cursor: pointer;\n",
              "    display: none;\n",
              "    fill: var(--fill-color);\n",
              "    height: 32px;\n",
              "    padding: 0;\n",
              "    width: 32px;\n",
              "  }\n",
              "\n",
              "  .colab-df-quickchart:hover {\n",
              "    background-color: var(--hover-bg-color);\n",
              "    box-shadow: 0 1px 2px rgba(60, 64, 67, 0.3), 0 1px 3px 1px rgba(60, 64, 67, 0.15);\n",
              "    fill: var(--button-hover-fill-color);\n",
              "  }\n",
              "\n",
              "  .colab-df-quickchart-complete:disabled,\n",
              "  .colab-df-quickchart-complete:disabled:hover {\n",
              "    background-color: var(--disabled-bg-color);\n",
              "    fill: var(--disabled-fill-color);\n",
              "    box-shadow: none;\n",
              "  }\n",
              "\n",
              "  .colab-df-spinner {\n",
              "    border: 2px solid var(--fill-color);\n",
              "    border-color: transparent;\n",
              "    border-bottom-color: var(--fill-color);\n",
              "    animation:\n",
              "      spin 1s steps(1) infinite;\n",
              "  }\n",
              "\n",
              "  @keyframes spin {\n",
              "    0% {\n",
              "      border-color: transparent;\n",
              "      border-bottom-color: var(--fill-color);\n",
              "      border-left-color: var(--fill-color);\n",
              "    }\n",
              "    20% {\n",
              "      border-color: transparent;\n",
              "      border-left-color: var(--fill-color);\n",
              "      border-top-color: var(--fill-color);\n",
              "    }\n",
              "    30% {\n",
              "      border-color: transparent;\n",
              "      border-left-color: var(--fill-color);\n",
              "      border-top-color: var(--fill-color);\n",
              "      border-right-color: var(--fill-color);\n",
              "    }\n",
              "    40% {\n",
              "      border-color: transparent;\n",
              "      border-right-color: var(--fill-color);\n",
              "      border-top-color: var(--fill-color);\n",
              "    }\n",
              "    60% {\n",
              "      border-color: transparent;\n",
              "      border-right-color: var(--fill-color);\n",
              "    }\n",
              "    80% {\n",
              "      border-color: transparent;\n",
              "      border-right-color: var(--fill-color);\n",
              "      border-bottom-color: var(--fill-color);\n",
              "    }\n",
              "    90% {\n",
              "      border-color: transparent;\n",
              "      border-bottom-color: var(--fill-color);\n",
              "    }\n",
              "  }\n",
              "</style>\n",
              "\n",
              "  <script>\n",
              "    async function quickchart(key) {\n",
              "      const quickchartButtonEl =\n",
              "        document.querySelector('#' + key + ' button');\n",
              "      quickchartButtonEl.disabled = true;  // To prevent multiple clicks.\n",
              "      quickchartButtonEl.classList.add('colab-df-spinner');\n",
              "      try {\n",
              "        const charts = await google.colab.kernel.invokeFunction(\n",
              "            'suggestCharts', [key], {});\n",
              "      } catch (error) {\n",
              "        console.error('Error during call to suggestCharts:', error);\n",
              "      }\n",
              "      quickchartButtonEl.classList.remove('colab-df-spinner');\n",
              "      quickchartButtonEl.classList.add('colab-df-quickchart-complete');\n",
              "    }\n",
              "    (() => {\n",
              "      let quickchartButtonEl =\n",
              "        document.querySelector('#df-823115eb-1069-4576-8bb8-503ca7b043b1 button');\n",
              "      quickchartButtonEl.style.display =\n",
              "        google.colab.kernel.accessAllowed ? 'block' : 'none';\n",
              "    })();\n",
              "  </script>\n",
              "</div>\n",
              "\n",
              "    </div>\n",
              "  </div>\n"
            ],
            "application/vnd.google.colaboratory.intrinsic+json": {
              "type": "dataframe",
              "variable_name": "bert_ML_dataset",
              "summary": "{\n  \"name\": \"bert_ML_dataset\",\n  \"rows\": 6060,\n  \"fields\": [\n    {\n      \"column\": \"Unnamed: 0\",\n      \"properties\": {\n        \"dtype\": \"number\",\n        \"std\": 1749,\n        \"min\": 0,\n        \"max\": 6059,\n        \"num_unique_values\": 6060,\n        \"samples\": [\n          4349,\n          1609,\n          2094\n        ],\n        \"semantic_type\": \"\",\n        \"description\": \"\"\n      }\n    },\n    {\n      \"column\": \"id\",\n      \"properties\": {\n        \"dtype\": \"string\",\n        \"num_unique_values\": 6060,\n        \"samples\": [\n          \"16e8d4ae39\",\n          \"3db13b52b1\",\n          \"d72c9bec27\"\n        ],\n        \"semantic_type\": \"\",\n        \"description\": \"\"\n      }\n    },\n    {\n      \"column\": \"premise\",\n      \"properties\": {\n        \"dtype\": \"string\",\n        \"num_unique_values\": 4970,\n        \"samples\": [\n          \"Mkazi aliyetoka kutoka ziara ya kuongozwa , kwa njia ya ajabu, wengine hufanya, kutokana na kukumbuka , walisema kuwa chakula kilikuwa kizuri kuliko ya hoteli nyingi za San Francisco.\",\n          \"Il y a une diff\\u00e9rence entre le scepticisme malin et le scepticisme idiot.\",\n          \"The analysis concluded that, because the rule relaxed the hog cholera-related restrictions imposed on the importation of live swine and prepared pork products from Sonora, Mexico, the proposed rule could have a significant economic impact on a substantial number of small entities in the United States.\"\n        ],\n        \"semantic_type\": \"\",\n        \"description\": \"\"\n      }\n    },\n    {\n      \"column\": \"hypothesis\",\n      \"properties\": {\n        \"dtype\": \"string\",\n        \"num_unique_values\": 6060,\n        \"samples\": [\n          \"\\u0e1e\\u0e27\\u0e01\\u0e40\\u0e23\\u0e32\\u0e44\\u0e21\\u0e48\\u0e23\\u0e39\\u0e49\\u0e27\\u0e48\\u0e32\\u0e04\\u0e19\\u0e17\\u0e35\\u0e48\\u0e44\\u0e1b\\u0e40\\u0e17\\u0e35\\u0e48\\u0e22\\u0e27\\u0e17\\u0e35\\u0e48\\u0e44\\u0e2b\\u0e19\\u0e01\\u0e31\\u0e19\",\n          \"My phone number is  (202) 412-4841.\",\n          \"\\u0631\\u06af \\u0642\\u0637\\u0631 \\u0645\\u06cc\\u06ba \\u0686\\u06be \\u0641\\u0679 \\u06c1\\u06d2.\"\n        ],\n        \"semantic_type\": \"\",\n        \"description\": \"\"\n      }\n    },\n    {\n      \"column\": \"lang_abv\",\n      \"properties\": {\n        \"dtype\": \"category\",\n        \"num_unique_values\": 15,\n        \"samples\": [\n          \"hi\",\n          \"ar\",\n          \"ru\"\n        ],\n        \"semantic_type\": \"\",\n        \"description\": \"\"\n      }\n    },\n    {\n      \"column\": \"language\",\n      \"properties\": {\n        \"dtype\": \"category\",\n        \"num_unique_values\": 15,\n        \"samples\": [\n          \"Hindi\",\n          \"Arabic\",\n          \"Russian\"\n        ],\n        \"semantic_type\": \"\",\n        \"description\": \"\"\n      }\n    },\n    {\n      \"column\": \"label\",\n      \"properties\": {\n        \"dtype\": \"number\",\n        \"std\": 0,\n        \"min\": 0,\n        \"max\": 2,\n        \"num_unique_values\": 3,\n        \"samples\": [\n          1,\n          0,\n          2\n        ],\n        \"semantic_type\": \"\",\n        \"description\": \"\"\n      }\n    },\n    {\n      \"column\": \"label_name\",\n      \"properties\": {\n        \"dtype\": \"category\",\n        \"num_unique_values\": 3,\n        \"samples\": [\n          \"neutral\",\n          \"entailment\",\n          \"contradiction\"\n        ],\n        \"semantic_type\": \"\",\n        \"description\": \"\"\n      }\n    }\n  ]\n}"
            }
          },
          "metadata": {},
          "execution_count": 7
        }
      ],
      "source": [
        "bert_ML_dataset = pandas.read_csv(\"train_all_languages.csv\")\n",
        "bert_ML_dataset.head()"
      ]
    },
    {
      "cell_type": "markdown",
      "metadata": {
        "id": "yoDJL19ym4yc"
      },
      "source": [
        "##### Validation to ensure the data is clean when being passed to the model"
      ]
    },
    {
      "cell_type": "code",
      "execution_count": null,
      "metadata": {
        "id": "UnzfgsDem4yc",
        "outputId": "b57ddca0-70e4-4191-cc75-47f364ac7c93",
        "colab": {
          "base_uri": "https://localhost:8080/",
          "height": 335
        }
      },
      "outputs": [
        {
          "output_type": "execute_result",
          "data": {
            "text/plain": [
              "Unnamed: 0    0\n",
              "id            0\n",
              "premise       0\n",
              "hypothesis    0\n",
              "lang_abv      0\n",
              "language      0\n",
              "label         0\n",
              "label_name    0\n",
              "dtype: int64"
            ],
            "text/html": [
              "<div>\n",
              "<style scoped>\n",
              "    .dataframe tbody tr th:only-of-type {\n",
              "        vertical-align: middle;\n",
              "    }\n",
              "\n",
              "    .dataframe tbody tr th {\n",
              "        vertical-align: top;\n",
              "    }\n",
              "\n",
              "    .dataframe thead th {\n",
              "        text-align: right;\n",
              "    }\n",
              "</style>\n",
              "<table border=\"1\" class=\"dataframe\">\n",
              "  <thead>\n",
              "    <tr style=\"text-align: right;\">\n",
              "      <th></th>\n",
              "      <th>0</th>\n",
              "    </tr>\n",
              "  </thead>\n",
              "  <tbody>\n",
              "    <tr>\n",
              "      <th>Unnamed: 0</th>\n",
              "      <td>0</td>\n",
              "    </tr>\n",
              "    <tr>\n",
              "      <th>id</th>\n",
              "      <td>0</td>\n",
              "    </tr>\n",
              "    <tr>\n",
              "      <th>premise</th>\n",
              "      <td>0</td>\n",
              "    </tr>\n",
              "    <tr>\n",
              "      <th>hypothesis</th>\n",
              "      <td>0</td>\n",
              "    </tr>\n",
              "    <tr>\n",
              "      <th>lang_abv</th>\n",
              "      <td>0</td>\n",
              "    </tr>\n",
              "    <tr>\n",
              "      <th>language</th>\n",
              "      <td>0</td>\n",
              "    </tr>\n",
              "    <tr>\n",
              "      <th>label</th>\n",
              "      <td>0</td>\n",
              "    </tr>\n",
              "    <tr>\n",
              "      <th>label_name</th>\n",
              "      <td>0</td>\n",
              "    </tr>\n",
              "  </tbody>\n",
              "</table>\n",
              "</div><br><label><b>dtype:</b> int64</label>"
            ]
          },
          "metadata": {},
          "execution_count": 8
        }
      ],
      "source": [
        "bert_ML_dataset.isna().sum()"
      ]
    },
    {
      "cell_type": "code",
      "execution_count": null,
      "metadata": {
        "id": "hIJR931Lm4yd",
        "outputId": "275fd258-50b2-408b-fb33-65540214fb81",
        "colab": {
          "base_uri": "https://localhost:8080/"
        }
      },
      "outputs": [
        {
          "output_type": "execute_result",
          "data": {
            "text/plain": [
              "False"
            ]
          },
          "metadata": {},
          "execution_count": 9
        }
      ],
      "source": [
        "bert_ML_dataset.label[~bert_ML_dataset.label.isin([0, 1, 2])].any()"
      ]
    },
    {
      "cell_type": "markdown",
      "metadata": {
        "id": "jcybmvuum4yd"
      },
      "source": [
        "##### Descriptions and summaries of data"
      ]
    },
    {
      "cell_type": "code",
      "execution_count": null,
      "metadata": {
        "id": "MpbOz5VNm4yd",
        "outputId": "78c8d4bc-b456-4f4a-c2bd-76728df76a43",
        "colab": {
          "base_uri": "https://localhost:8080/"
        }
      },
      "outputs": [
        {
          "output_type": "execute_result",
          "data": {
            "text/plain": [
              "6060"
            ]
          },
          "metadata": {},
          "execution_count": 6
        }
      ],
      "source": [
        "bert_ML_dataset.id.count()"
      ]
    },
    {
      "cell_type": "markdown",
      "metadata": {
        "id": "O_D5YFM7m4yd"
      },
      "source": [
        "- A fairly small dataset relatively speaking to other sources. Is bigger than the english set which does add some complexity."
      ]
    },
    {
      "cell_type": "code",
      "execution_count": null,
      "metadata": {
        "id": "psEcipU5m4yd",
        "outputId": "be79595f-8a0c-4cca-da6f-1df9f206d789",
        "colab": {
          "base_uri": "https://localhost:8080/",
          "height": 209
        }
      },
      "outputs": [
        {
          "output_type": "execute_result",
          "data": {
            "text/plain": [
              "count                                                  6060\n",
              "unique                                                 6060\n",
              "top       Она спросила, как это сделать, так как с её то...\n",
              "freq                                                      1\n",
              "Name: hypothesis, dtype: object"
            ],
            "text/html": [
              "<div>\n",
              "<style scoped>\n",
              "    .dataframe tbody tr th:only-of-type {\n",
              "        vertical-align: middle;\n",
              "    }\n",
              "\n",
              "    .dataframe tbody tr th {\n",
              "        vertical-align: top;\n",
              "    }\n",
              "\n",
              "    .dataframe thead th {\n",
              "        text-align: right;\n",
              "    }\n",
              "</style>\n",
              "<table border=\"1\" class=\"dataframe\">\n",
              "  <thead>\n",
              "    <tr style=\"text-align: right;\">\n",
              "      <th></th>\n",
              "      <th>hypothesis</th>\n",
              "    </tr>\n",
              "  </thead>\n",
              "  <tbody>\n",
              "    <tr>\n",
              "      <th>count</th>\n",
              "      <td>6060</td>\n",
              "    </tr>\n",
              "    <tr>\n",
              "      <th>unique</th>\n",
              "      <td>6060</td>\n",
              "    </tr>\n",
              "    <tr>\n",
              "      <th>top</th>\n",
              "      <td>Она спросила, как это сделать, так как с её то...</td>\n",
              "    </tr>\n",
              "    <tr>\n",
              "      <th>freq</th>\n",
              "      <td>1</td>\n",
              "    </tr>\n",
              "  </tbody>\n",
              "</table>\n",
              "</div><br><label><b>dtype:</b> object</label>"
            ]
          },
          "metadata": {},
          "execution_count": 10
        }
      ],
      "source": [
        "bert_ML_dataset.hypothesis.describe()"
      ]
    },
    {
      "cell_type": "code",
      "execution_count": null,
      "metadata": {
        "id": "YRPZa91Gm4yd",
        "outputId": "539e58dc-ac2e-447a-b8a7-ceed47695c2f",
        "colab": {
          "base_uri": "https://localhost:8080/"
        }
      },
      "outputs": [
        {
          "output_type": "stream",
          "name": "stdout",
          "text": [
            "Она спросила, как это сделать, так как с её точки зрения это казалось невозможным.\n",
            "There are a lot of resorts in the national park.\n",
            "There was no cost in keeping the grass alive in the summer time.\n",
            "They were able to be home rather than having to worry about getting child care.\n",
            "The Journal asked \"Is this a good political move?\"\n",
            "Nhà phân tích đã không rõ ràng về nhiều thứ.\n",
            "Η φωνή της έδειξε την ανησυχία της.\n",
            "Those games are a lot of fun.\n",
            "สมาชิกวงใน ไม่ได้รับอะไรเลย ในฐานะที่เป็นสมาชิกของกลุ่ม\n",
            "White House murder mystery has other works before this one.\n"
          ]
        }
      ],
      "source": [
        "for i in range(10):\n",
        "    print(bert_ML_dataset.hypothesis[i])"
      ]
    },
    {
      "cell_type": "markdown",
      "metadata": {
        "id": "cgAxhayPm4yd"
      },
      "source": [
        "- All hypothesis are unique and follow the structure shown above. The premises that follow may either directly follow from the hypothesis, contradict it or not contain enough information to make a proper conclusion. In this set in particular multiple languages are being used to add nuance."
      ]
    },
    {
      "cell_type": "code",
      "execution_count": null,
      "metadata": {
        "id": "_5FZt8G8m4ye",
        "outputId": "71688eaa-d51d-4ad8-f3bb-ed510198cf0b",
        "colab": {
          "base_uri": "https://localhost:8080/",
          "height": 209
        }
      },
      "outputs": [
        {
          "output_type": "execute_result",
          "data": {
            "text/plain": [
              "count                                                  6060\n",
              "unique                                                 4970\n",
              "top       The final rule contains a Federalism Assessmen...\n",
              "freq                                                      3\n",
              "Name: premise, dtype: object"
            ],
            "text/html": [
              "<div>\n",
              "<style scoped>\n",
              "    .dataframe tbody tr th:only-of-type {\n",
              "        vertical-align: middle;\n",
              "    }\n",
              "\n",
              "    .dataframe tbody tr th {\n",
              "        vertical-align: top;\n",
              "    }\n",
              "\n",
              "    .dataframe thead th {\n",
              "        text-align: right;\n",
              "    }\n",
              "</style>\n",
              "<table border=\"1\" class=\"dataframe\">\n",
              "  <thead>\n",
              "    <tr style=\"text-align: right;\">\n",
              "      <th></th>\n",
              "      <th>premise</th>\n",
              "    </tr>\n",
              "  </thead>\n",
              "  <tbody>\n",
              "    <tr>\n",
              "      <th>count</th>\n",
              "      <td>6060</td>\n",
              "    </tr>\n",
              "    <tr>\n",
              "      <th>unique</th>\n",
              "      <td>4970</td>\n",
              "    </tr>\n",
              "    <tr>\n",
              "      <th>top</th>\n",
              "      <td>The final rule contains a Federalism Assessmen...</td>\n",
              "    </tr>\n",
              "    <tr>\n",
              "      <th>freq</th>\n",
              "      <td>3</td>\n",
              "    </tr>\n",
              "  </tbody>\n",
              "</table>\n",
              "</div><br><label><b>dtype:</b> object</label>"
            ]
          },
          "metadata": {},
          "execution_count": 12
        }
      ],
      "source": [
        "bert_ML_dataset.premise.describe()"
      ]
    },
    {
      "cell_type": "code",
      "execution_count": null,
      "metadata": {
        "id": "OVb-OM9rm4ye",
        "outputId": "fc0252e1-363c-4bd8-b9de-3a48faf201f5",
        "colab": {
          "base_uri": "https://localhost:8080/"
        }
      },
      "outputs": [
        {
          "output_type": "stream",
          "name": "stdout",
          "text": [
            "Кто? Она спросила его с неожиданным интересом.\n",
            "Others are Zao (in Tohoku) and a number of resorts in Joshin-etsu Kogen National Park in the Japan Alps, where there are now splendid facilities thanks to the 1998 Winter Olympic Games in Nagano.\n",
            "trying to keep grass alive during a summer on a piece of ground that big was expensive\n",
            "so i guess my experience is is just with what we did and and so they didn't really go through the child care route they were able to be home together\n",
            "The Journal put the point succinctly to  Is any publicity good publicity?\n",
            "Tuy nhiên, email của nhà phân tích phản ánh rằng cô đang bối rối một loạt các rào cản và rào cản pháp lý đối với việc chia sẻ thông tin và các quy tắc điều chỉnh việc sử dụng thông tin của các nhân viên tội phạm thu thập thông qua các kênh tình báo.\n",
            "Ω, παρακαλώ. Υπήρξε πραγματική ανησυχία στη φωνή της.\n",
            "yeah okay yeah those games are fun to watch you you you watch those games\n",
            "ในฐานะสมาชิกของอินเนอร์เซอร์เคิลคุณจะได้รับสิทธิเลือกที่นั่งในช่วงการประชุม และการรับเชิญอันแสนพิเศษสำหรับรับประทานอาหารเย็น งานเลี้ยง และกิจกรรมกรรมต่างๆตลอดสัปดาห์\n",
            "Another White House murder mystery and a chance to bash the genre.\n"
          ]
        }
      ],
      "source": [
        "for i in range(10):\n",
        "    print(bert_ML_dataset.premise[i])"
      ]
    },
    {
      "cell_type": "markdown",
      "metadata": {
        "id": "_-4HIkFCm4ye"
      },
      "source": [
        "- **Note:** Not all the premises that follow **are necessarily unique.** This is done to have the model be able to **recognize several conclusions that may be drawn from a hypothesis.**"
      ]
    },
    {
      "cell_type": "code",
      "execution_count": null,
      "metadata": {
        "id": "-K7ohQyZm4ye",
        "outputId": "687f91c2-bb81-4539-d4ac-575aac57958c",
        "colab": {
          "base_uri": "https://localhost:8080/",
          "height": 335
        }
      },
      "outputs": [
        {
          "output_type": "execute_result",
          "data": {
            "text/plain": [
              "count    6060.000000\n",
              "mean        0.984653\n",
              "std         0.821559\n",
              "min         0.000000\n",
              "25%         0.000000\n",
              "50%         1.000000\n",
              "75%         2.000000\n",
              "max         2.000000\n",
              "Name: label, dtype: float64"
            ],
            "text/html": [
              "<div>\n",
              "<style scoped>\n",
              "    .dataframe tbody tr th:only-of-type {\n",
              "        vertical-align: middle;\n",
              "    }\n",
              "\n",
              "    .dataframe tbody tr th {\n",
              "        vertical-align: top;\n",
              "    }\n",
              "\n",
              "    .dataframe thead th {\n",
              "        text-align: right;\n",
              "    }\n",
              "</style>\n",
              "<table border=\"1\" class=\"dataframe\">\n",
              "  <thead>\n",
              "    <tr style=\"text-align: right;\">\n",
              "      <th></th>\n",
              "      <th>label</th>\n",
              "    </tr>\n",
              "  </thead>\n",
              "  <tbody>\n",
              "    <tr>\n",
              "      <th>count</th>\n",
              "      <td>6060.000000</td>\n",
              "    </tr>\n",
              "    <tr>\n",
              "      <th>mean</th>\n",
              "      <td>0.984653</td>\n",
              "    </tr>\n",
              "    <tr>\n",
              "      <th>std</th>\n",
              "      <td>0.821559</td>\n",
              "    </tr>\n",
              "    <tr>\n",
              "      <th>min</th>\n",
              "      <td>0.000000</td>\n",
              "    </tr>\n",
              "    <tr>\n",
              "      <th>25%</th>\n",
              "      <td>0.000000</td>\n",
              "    </tr>\n",
              "    <tr>\n",
              "      <th>50%</th>\n",
              "      <td>1.000000</td>\n",
              "    </tr>\n",
              "    <tr>\n",
              "      <th>75%</th>\n",
              "      <td>2.000000</td>\n",
              "    </tr>\n",
              "    <tr>\n",
              "      <th>max</th>\n",
              "      <td>2.000000</td>\n",
              "    </tr>\n",
              "  </tbody>\n",
              "</table>\n",
              "</div><br><label><b>dtype:</b> float64</label>"
            ]
          },
          "metadata": {},
          "execution_count": 14
        }
      ],
      "source": [
        "bert_ML_dataset.label.describe()"
      ]
    },
    {
      "cell_type": "markdown",
      "metadata": {
        "id": "6bCYZsUum4ye"
      },
      "source": [
        "- From the five-number summary, it can be surmised that most of the data seems to contain neutral conclusions in the premises. This likely suggests that the model will need to learn and encode finer details in the premises to draw accurate conclusions and predictions."
      ]
    },
    {
      "cell_type": "code",
      "execution_count": null,
      "metadata": {
        "id": "Lw2REtUim4ye",
        "outputId": "14e1c8c5-d459-4290-a60b-a360527035ed",
        "colab": {
          "base_uri": "https://localhost:8080/",
          "height": 718
        }
      },
      "outputs": [
        {
          "output_type": "display_data",
          "data": {
            "text/plain": [
              "<Figure size 1200x800 with 1 Axes>"
            ],
            "image/png": "[encoded data removed]"
          },
          "metadata": {}
        }
      ],
      "source": [
        "labels = bert_ML_dataset.label.to_numpy()\n",
        "\n",
        "plt.figure(figsize=(12, 8))\n",
        "\n",
        "plt.hist(labels, bins=range(4), align=\"left\", rwidth=0.75, edgecolor=\"black\")\n",
        "\n",
        "plt.xticks(numpy.arange(3))\n",
        "\n",
        "for pos in [\"top\", \"right\"]:\n",
        "    plt.gca().spines[pos].set_visible(False)\n",
        "\n",
        "plt.grid(axis=\"y\", alpha=0.33, color=\"black\")\n",
        "\n",
        "plt.xlabel(\"Label (entailment (0), neutral (1), contradiction (2))\")\n",
        "\n",
        "plt.ylabel(\"Frequency\")\n",
        "\n",
        "plt.title(\"Label Frequency in the Training Dataset\")\n",
        "\n",
        "plt.show()"
      ]
    },
    {
      "cell_type": "markdown",
      "metadata": {
        "id": "zTCSEGUum4ye"
      },
      "source": [
        "- From the historgram above, it seams that the most frequent premise is an entailment, while a neutral conclusion happens the least."
      ]
    },
    {
      "cell_type": "code",
      "execution_count": null,
      "metadata": {
        "id": "AO5z--Wgm4ye"
      },
      "outputs": [],
      "source": [
        "def get_length_of_text(_text):\n",
        "    return len(_text)\n",
        "\n",
        "\n",
        "length_of_hypothesis_texts = bert_ML_dataset.hypothesis.apply(get_length_of_text)\n",
        "\n",
        "length_of_premise_texts = bert_ML_dataset.premise.apply(get_length_of_text)"
      ]
    },
    {
      "cell_type": "code",
      "execution_count": null,
      "metadata": {
        "id": "6lfL0q6rm4ye",
        "outputId": "9cc506ae-c831-4e64-970a-c4e2183f0fd6",
        "colab": {
          "base_uri": "https://localhost:8080/",
          "height": 718
        }
      },
      "outputs": [
        {
          "output_type": "display_data",
          "data": {
            "text/plain": [
              "<Figure size 1200x800 with 1 Axes>"
            ],
            "image/png": "[encoded data removed]"
          },
          "metadata": {}
        }
      ],
      "source": [
        "plt.figure(figsize=(12, 8))\n",
        "\n",
        "plt.boxplot(length_of_hypothesis_texts, vert=False)\n",
        "\n",
        "for pos in [\"top\", \"right\", \"left\"]:\n",
        "    plt.gca().spines[pos].set_visible(False)\n",
        "\n",
        "plt.gca().get_yaxis().set_visible(False)\n",
        "\n",
        "plt.grid(axis=\"x\", alpha=0.33, color=\"black\")\n",
        "\n",
        "plt.xlabel(\"Character Count\")\n",
        "\n",
        "plt.title(\"Box-Whisker Plot Summary for Hypothesis Character Count\")\n",
        "\n",
        "plt.show()"
      ]
    },
    {
      "cell_type": "code",
      "execution_count": null,
      "metadata": {
        "id": "3e-QaDMdm4yf",
        "outputId": "234befe8-f5bf-4b89-d046-4c63ea9e8399",
        "colab": {
          "base_uri": "https://localhost:8080/",
          "height": 718
        }
      },
      "outputs": [
        {
          "output_type": "display_data",
          "data": {
            "text/plain": [
              "<Figure size 1200x800 with 1 Axes>"
            ],
            "image/png": "[encoded data removed]"
          },
          "metadata": {}
        }
      ],
      "source": [
        "plt.figure(figsize=(12, 8))\n",
        "\n",
        "plt.boxplot(length_of_premise_texts, vert=False)\n",
        "\n",
        "for pos in [\"top\", \"right\", \"left\"]:\n",
        "    plt.gca().spines[pos].set_visible(False)\n",
        "\n",
        "plt.gca().get_yaxis().set_visible(False)\n",
        "\n",
        "plt.grid(axis=\"x\", alpha=0.33, color=\"black\")\n",
        "\n",
        "plt.xlabel(\"Character Count\")\n",
        "\n",
        "plt.title(\"Box-Whisker Plot Summary for Premise Character Count\")\n",
        "\n",
        "plt.show()"
      ]
    },
    {
      "cell_type": "markdown",
      "metadata": {
        "id": "hEwpLQUwm4yf"
      },
      "source": [
        "- From the summary plots of the character counts in the texts, it can be seen that there appear to be many outliers in the distribution. This means that there exists several text elements that are much longer than upper limits of the distribution. This may affect the encoding of the textual embeddings in the model.\n",
        "\n",
        "- Otherwise, it would seem on average that the premises are longer than the hypotheses."
      ]
    },
    {
      "cell_type": "markdown",
      "metadata": {
        "id": "p2_MqWzLm4yf"
      },
      "source": [
        "#### Model Definition"
      ]
    },
    {
      "cell_type": "code",
      "source": [
        "def split_labels(x, y):\n",
        "    return (x[0], x[1]), y"
      ],
      "metadata": {
        "id": "uFh061PT_zco"
      },
      "execution_count": null,
      "outputs": []
    },
    {
      "cell_type": "code",
      "source": [
        "batch_size = 32\n",
        "\n",
        "VALIDATION_SPLIT = 0.2\n",
        "TRAIN_SIZE = int(bert_ML_dataset.shape[0] * (1-VALIDATION_SPLIT))\n",
        "\n",
        "training_dataset = (\n",
        "    tensorflow.data.Dataset.from_tensor_slices(\n",
        "        (\n",
        "            bert_ML_dataset[[\"hypothesis\", \"premise\"]].values,\n",
        "            bert_ML_dataset[\"label\"].values\n",
        "        )\n",
        "    )\n",
        ")\n",
        "\n",
        "train_dataset = training_dataset.take(TRAIN_SIZE)\n",
        "val_dataset = training_dataset.skip(TRAIN_SIZE)\n",
        "\n",
        "train_preprocessed = train_dataset.map(split_labels, tensorflow.data.AUTOTUNE).batch(batch_size, drop_remainder=True).cache().prefetch(tensorflow.data.AUTOTUNE)\n",
        "val_preprocessed = val_dataset.map(split_labels, tensorflow.data.AUTOTUNE).batch(batch_size, drop_remainder=True).cache().prefetch(tensorflow.data.AUTOTUNE)"
      ],
      "metadata": {
        "id": "hfBrgGW7Ix0_"
      },
      "execution_count": null,
      "outputs": []
    },
    {
      "cell_type": "code",
      "source": [
        "preprocessor = keras_nlp.models.BertPreprocessor.from_preset(\"bert_base_multi\", sequence_length=512)\n",
        "\n",
        "def get_max_token_length(dataset, preprocessor):\n",
        "  token_lengths = []\n",
        "\n",
        "  for hypothesis, premise in dataset[[\"hypothesis\", \"premise\"]].values:\n",
        "\n",
        "    encoded = preprocessor([hypothesis, premise])\n",
        "    encoded_np = encoded[\"padding_mask\" ]. numpy()\n",
        "    non_padding_count = encoded_np.sum()\n",
        "    token_lengths.append(non_padding_count)\n",
        "\n",
        "  return max(token_lengths)\n",
        "\n",
        "max_token_length = get_max_token_length(bert_ML_dataset, preprocessor)\n",
        "\n",
        "print(f\"Maximum token length in the dataset: {max_token_length}\")"
      ],
      "metadata": {
        "colab": {
          "base_uri": "https://localhost:8080/"
        },
        "id": "x02fBvdbB-EG",
        "outputId": "897e05ba-da14-4e90-b94b-581e414259ff"
      },
      "execution_count": null,
      "outputs": [
        {
          "output_type": "stream",
          "name": "stdout",
          "text": [
            "Maximum token length in the dataset: 260\n"
          ]
        }
      ]
    },
    {
      "cell_type": "code",
      "source": [
        "preprocessor = keras_nlp.models.BertPreprocessor.from_preset(\"bert_base_multi\", sequence_length=265)\n",
        "\n",
        "bert_train_set = (train_preprocessed.map(preprocessor, tensorflow.data.AUTOTUNE).cache().prefetch(tensorflow.data.AUTOTUNE))\n",
        "\n",
        "bert_val_set = (val_preprocessed.map(preprocessor, tensorflow.data.AUTOTUNE).cache().prefetch(tensorflow.data.AUTOTUNE))\n",
        "\n",
        "classifier = keras_nlp.models.BertClassifier.from_preset(\"bert_base_multi\", preprocessor=None, num_classes=3)\n",
        "classifier.fit(bert_train_set, validation_data=bert_val_set, epochs=3)"
      ],
      "metadata": {
        "colab": {
          "base_uri": "https://localhost:8080/"
        },
        "id": "kGXe3VZyZRC3",
        "outputId": "6a0e3df5-b273-410d-8be8-7eb6a91d38d1"
      },
      "execution_count": null,
      "outputs": [
        {
          "output_type": "stream",
          "name": "stdout",
          "text": [
            "Epoch 1/3\n",
            "\u001b[1m151/151\u001b[0m \u001b[32m━━━━━━━━━━━━━━━━━━━━\u001b[0m\u001b[37m\u001b[0m \u001b[1m202s\u001b[0m 693ms/step - loss: 1.0927 - sparse_categorical_accuracy: 0.3789 - val_loss: 0.9690 - val_sparse_categorical_accuracy: 0.5253\n",
            "Epoch 2/3\n",
            "\u001b[1m151/151\u001b[0m \u001b[32m━━━━━━━━━━━━━━━━━━━━\u001b[0m\u001b[37m\u001b[0m \u001b[1m88s\u001b[0m 582ms/step - loss: 0.9522 - sparse_categorical_accuracy: 0.5624 - val_loss: 0.9759 - val_sparse_categorical_accuracy: 0.5515\n",
            "Epoch 3/3\n",
            "\u001b[1m151/151\u001b[0m \u001b[32m━━━━━━━━━━━━━━━━━━━━\u001b[0m\u001b[37m\u001b[0m \u001b[1m119s\u001b[0m 790ms/step - loss: 0.7811 - sparse_categorical_accuracy: 0.6650 - val_loss: 1.0741 - val_sparse_categorical_accuracy: 0.5836\n"
          ]
        },
        {
          "output_type": "execute_result",
          "data": {
            "text/plain": [
              "<keras.src.callbacks.history.History at 0x7f9c59f4fa90>"
            ]
          },
          "metadata": {},
          "execution_count": 25
        }
      ]
    },
    {
      "cell_type": "markdown",
      "source": [
        "#### Save the Model"
      ],
      "metadata": {
        "id": "kUH6QRVM_73d"
      }
    },
    {
      "cell_type": "code",
      "source": [
        "# Note that only the classifier requires the weights to be saved.\n",
        "# No training is being done on the tokenizer or preprocessor since we are interested in pretraining the classifier.\n",
        "dir_path = \"Models/BERT\"\n",
        "if not os.path.exists(dir_path):\n",
        "    os.makedirs(dir_path)\n",
        "\n",
        "classifier.save_weights(\"Models/BERT/BERT_Multi.weights.h5\")"
      ],
      "metadata": {
        "id": "M31NH5PE_qjl"
      },
      "execution_count": null,
      "outputs": []
    }
  ],
  "metadata": {
    "kernelspec": {
      "display_name": "Python 3",
      "name": "python3"
    },
    "language_info": {
      "codemirror_mode": {
        "name": "ipython",
        "version": 3
      },
      "file_extension": ".py",
      "mimetype": "text/x-python",
      "name": "python",
      "nbconvert_exporter": "python",
      "pygments_lexer": "ipython3",
      "version": "3.11.5"
    },
    "colab": {
      "provenance": [],
      "gpuType": "T4",
      "machine_shape": "hm"
    },
    "accelerator": "GPU"
  },
  "nbformat": 4,
  "nbformat_minor": 0
}