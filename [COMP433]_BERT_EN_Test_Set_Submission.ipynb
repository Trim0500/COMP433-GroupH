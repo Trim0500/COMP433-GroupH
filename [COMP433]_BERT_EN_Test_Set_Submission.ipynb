{
  "cells": [
    {
      "cell_type": "markdown",
      "source": [
        "# \"Contradictory, my dear Watson\" Test Set Submission\n",
        "\n",
        "## This notebook contains the submission for the Kaggle challenge. The submission utilizes the BERT architecture and the `bert_base_en` preset from `keras-nlp`."
      ],
      "metadata": {
        "id": "svHNUBF6cJZ-"
      }
    },
    {
      "cell_type": "markdown",
      "source": [
        "### Required packages"
      ],
      "metadata": {
        "id": "NXQ7yjCYdd1F"
      }
    },
    {
      "cell_type": "code",
      "execution_count": null,
      "metadata": {
        "execution": {
          "iopub.execute_input": "2024-11-02T21:57:19.207422Z",
          "iopub.status.busy": "2024-11-02T21:57:19.207124Z",
          "iopub.status.idle": "2024-11-02T21:57:33.452998Z",
          "shell.execute_reply": "2024-11-02T21:57:33.451757Z",
          "shell.execute_reply.started": "2024-11-02T21:57:19.207386Z"
        },
        "id": "GRSvsCrW5jyG",
        "trusted": true
      },
      "outputs": [],
      "source": [
        "!pip install -q keras-nlp --upgrade\n"
      ]
    },
    {
      "cell_type": "markdown",
      "source": [
        "### Imports"
      ],
      "metadata": {
        "id": "Zhk9P_2tdjxJ"
      }
    },
    {
      "cell_type": "code",
      "execution_count": 2,
      "metadata": {
        "execution": {
          "iopub.execute_input": "2024-11-02T21:57:43.452371Z",
          "iopub.status.busy": "2024-11-02T21:57:43.451706Z",
          "iopub.status.idle": "2024-11-02T21:57:56.230161Z",
          "shell.execute_reply": "2024-11-02T21:57:56.229355Z",
          "shell.execute_reply.started": "2024-11-02T21:57:43.452326Z"
        },
        "id": "lRbFd-C55tgL",
        "trusted": true
      },
      "outputs": [],
      "source": [
        "import matplotlib.pyplot as plt\n",
        "import pandas as pd\n",
        "import numpy\n",
        "import keras_nlp\n",
        "import keras\n",
        "import tensorflow as tf\n",
        "import os\n",
        "import gc\n",
        "\n",
        "keras.mixed_precision.set_global_policy(\"mixed_float16\")\n"
      ]
    },
    {
      "cell_type": "markdown",
      "source": [
        "### Dataset fetch"
      ],
      "metadata": {
        "id": "ouLNeXd7dmiA"
      }
    },
    {
      "cell_type": "code",
      "execution_count": 5,
      "metadata": {
        "execution": {
          "iopub.execute_input": "2024-11-02T21:58:04.105083Z",
          "iopub.status.busy": "2024-11-02T21:58:04.104112Z",
          "iopub.status.idle": "2024-11-02T21:58:04.111677Z",
          "shell.execute_reply": "2024-11-02T21:58:04.110726Z",
          "shell.execute_reply.started": "2024-11-02T21:58:04.105044Z"
        },
        "trusted": true,
        "id": "xGtBXCu_Z3RF"
      },
      "outputs": [],
      "source": [
        "DATA_DIR = '/kaggle/input/contradictory-my-dear-watson/'\n",
        "for dirname, _, filenames in os.walk(DATA_DIR):\n",
        "    for filename in filenames:\n",
        "        print(os.path.join(dirname, filename))\n",
        ""
      ]
    },
    {
      "cell_type": "markdown",
      "source": [
        "### Dataset exploration and visualization"
      ],
      "metadata": {
        "id": "B6Rg0Uo2d4Gn"
      }
    },
    {
      "cell_type": "code",
      "execution_count": null,
      "metadata": {
        "execution": {
          "iopub.execute_input": "2024-11-02T21:58:07.137083Z",
          "iopub.status.busy": "2024-11-02T21:58:07.136267Z",
          "iopub.status.idle": "2024-11-02T21:58:07.264967Z",
          "shell.execute_reply": "2024-11-02T21:58:07.263929Z",
          "shell.execute_reply.started": "2024-11-02T21:58:07.137041Z"
        },
        "id": "3JL4mqEl56EI",
        "trusted": true
      },
      "outputs": [],
      "source": [
        "df_train = pd.read_csv(DATA_DIR + \"train.csv\")\n",
        "df_train.head()\n"
      ]
    },
    {
      "cell_type": "markdown",
      "source": [
        "#### Descriptions and summaries of the data"
      ],
      "metadata": {
        "id": "-z4895YKeH9i"
      }
    },
    {
      "cell_type": "code",
      "source": [
        "df_train.id.count()\n"
      ],
      "metadata": {
        "id": "RPGynKuyeN9H"
      },
      "execution_count": null,
      "outputs": []
    },
    {
      "cell_type": "code",
      "source": [
        "df_train.hypothesis.describe()\n"
      ],
      "metadata": {
        "id": "EpgbB1SseUkR"
      },
      "execution_count": null,
      "outputs": []
    },
    {
      "cell_type": "code",
      "source": [
        "for i in range(10):\n",
        "    print(df_train.hypothesis[i])\n",
        ""
      ],
      "metadata": {
        "id": "tpx_sqZNeZuW"
      },
      "execution_count": null,
      "outputs": []
    },
    {
      "cell_type": "markdown",
      "source": [
        "- All hypothesis are unique and follow the structure shown above. The premises that follow may either directly follow from the hypothesis, contradict it or not contain enough information to make a proper conclusion.\n",
        "bert_en_dataset.premise.describe()"
      ],
      "metadata": {
        "id": "N-dmmlgwedPH"
      }
    },
    {
      "cell_type": "code",
      "source": [
        "df_train.premise.describe()\n"
      ],
      "metadata": {
        "id": "ZvKut_Ldehxl"
      },
      "execution_count": null,
      "outputs": []
    },
    {
      "cell_type": "code",
      "source": [
        "for i in range(10):\n",
        "    print(df_train.premise[i])\n",
        ""
      ],
      "metadata": {
        "id": "UHSLaE_vfOt1"
      },
      "execution_count": null,
      "outputs": []
    },
    {
      "cell_type": "markdown",
      "source": [
        "- Note: Not all the premises that follow **are necessarily unique**. This is done to have the model be able to **recognize several conclusions that may be drawn from a hypothesis**."
      ],
      "metadata": {
        "id": "sofAPqaIepOB"
      }
    },
    {
      "cell_type": "code",
      "source": [
        "def get_length_of_text(_text):\n",
        "    return len(_text)\n",
        ""
      ],
      "metadata": {
        "id": "2-3zUh9je7Qt"
      },
      "execution_count": null,
      "outputs": []
    },
    {
      "cell_type": "code",
      "source": [
        "length_of_hypothesis_texts = df_train.hypothesis.apply(get_length_of_text)\n",
        "\n",
        "length_of_premise_texts = df_train.premise.apply(get_length_of_text)\n"
      ],
      "metadata": {
        "id": "1cESAS8Re28K"
      },
      "execution_count": null,
      "outputs": []
    },
    {
      "cell_type": "code",
      "source": [
        "plt.figure(figsize=(12, 8))\n",
        "\n",
        "plt.boxplot(length_of_hypothesis_texts, vert=False)\n",
        "\n",
        "for pos in [\"top\", \"right\", \"left\"]:\n",
        "    plt.gca().spines[pos].set_visible(False)\n",
        "\n",
        "plt.gca().get_yaxis().set_visible(False)\n",
        "\n",
        "plt.grid(axis=\"x\", alpha=0.33, color=\"black\")\n",
        "\n",
        "plt.xlabel(\"Character Count\")\n",
        "\n",
        "plt.title(\"Box-Whisker Plot Summary for Hypothesis Character Count\")\n",
        "\n",
        "plt.show()\n"
      ],
      "metadata": {
        "id": "YNrrkefjfBlv"
      },
      "execution_count": null,
      "outputs": []
    },
    {
      "cell_type": "code",
      "source": [
        "plt.figure(figsize=(12, 8))\n",
        "\n",
        "plt.boxplot(length_of_premise_texts, vert=False)\n",
        "\n",
        "for pos in [\"top\", \"right\", \"left\"]:\n",
        "    plt.gca().spines[pos].set_visible(False)\n",
        "\n",
        "plt.gca().get_yaxis().set_visible(False)\n",
        "\n",
        "plt.grid(axis=\"x\", alpha=0.33, color=\"black\")\n",
        "\n",
        "plt.xlabel(\"Character Count\")\n",
        "\n",
        "plt.title(\"Box-Whisker Plot Summary for Premise Character Count\")\n",
        "\n",
        "plt.show()\n"
      ],
      "metadata": {
        "id": "pNE-EPO5fHXU"
      },
      "execution_count": null,
      "outputs": []
    },
    {
      "cell_type": "markdown",
      "source": [
        "- From the summary plots of the character counts in the texts, it can be seen that there appear to be many outliers in the distribution. This means that there exists several text elements that are much longer than upper limits of the distribution. This may affect the encoding of the textual embeddings in the model.\n",
        "\n",
        "- Otherwise, it would seem on average that the premises are longer than the hypotheses."
      ],
      "metadata": {
        "id": "oxs8dqOIfR0w"
      }
    },
    {
      "cell_type": "markdown",
      "source": [
        "### Training loop"
      ],
      "metadata": {
        "id": "IHRBh8UKfWXJ"
      }
    },
    {
      "cell_type": "markdown",
      "source": [
        "#### Data preprocessing"
      ],
      "metadata": {
        "id": "M_Wba0lYfwZS"
      }
    },
    {
      "cell_type": "code",
      "execution_count": null,
      "metadata": {
        "execution": {
          "iopub.execute_input": "2024-11-02T21:58:12.166893Z",
          "iopub.status.busy": "2024-11-02T21:58:12.166499Z",
          "iopub.status.idle": "2024-11-02T21:58:12.171480Z",
          "shell.execute_reply": "2024-11-02T21:58:12.170521Z",
          "shell.execute_reply.started": "2024-11-02T21:58:12.166844Z"
        },
        "id": "pdMmww5_7K3G",
        "trusted": true
      },
      "outputs": [],
      "source": [
        "def split_labels(x, y):\n",
        "    return (x[0], x[1]), y\n",
        ""
      ]
    },
    {
      "cell_type": "code",
      "execution_count": null,
      "metadata": {
        "execution": {
          "iopub.execute_input": "2024-11-02T21:58:29.334496Z",
          "iopub.status.busy": "2024-11-02T21:58:29.333547Z",
          "iopub.status.idle": "2024-11-02T21:58:30.371689Z",
          "shell.execute_reply": "2024-11-02T21:58:30.370739Z",
          "shell.execute_reply.started": "2024-11-02T21:58:29.334443Z"
        },
        "id": "C-2VfM52-bPb",
        "trusted": true
      },
      "outputs": [],
      "source": [
        "batch_size = 36\n",
        "buffer_size = batch_size * 10\n",
        "\n",
        "training_dataset = (\n",
        "    tf.data.Dataset.from_tensor_slices(\n",
        "        (\n",
        "            df_train[[\"hypothesis\", \"premise\"]].values,\n",
        "            df_train[\"label\"].values\n",
        "        )\n",
        "    )\n",
        ")\n",
        "\n",
        "train_preprocessed = training_dataset.shuffle(buffer_size=buffer_size).map(split_labels, tf.data.AUTOTUNE).batch(batch_size, drop_remainder=True).prefetch(tf.data.AUTOTUNE)\n"
      ]
    },
    {
      "cell_type": "markdown",
      "source": [
        "#### Model initialization"
      ],
      "metadata": {
        "id": "sb6FBQtffzNC"
      }
    },
    {
      "cell_type": "code",
      "execution_count": null,
      "metadata": {
        "execution": {
          "iopub.execute_input": "2024-11-02T21:58:34.871529Z",
          "iopub.status.busy": "2024-11-02T21:58:34.871137Z",
          "iopub.status.idle": "2024-11-02T22:17:41.693942Z",
          "shell.execute_reply": "2024-11-02T22:17:41.692767Z",
          "shell.execute_reply.started": "2024-11-02T21:58:34.871491Z"
        },
        "id": "hX0hUKC67Rcq",
        "trusted": true
      },
      "outputs": [],
      "source": [
        "preprocessor = keras_nlp.models.BertPreprocessor.from_preset(\"bert_base_en\", sequence_length=195)\n",
        "bert_train_set = (train_preprocessed.map(preprocessor, tf.data.AUTOTUNE).cache().prefetch(tf.data.AUTOTUNE))\n",
        "\n",
        "classifier = keras_nlp.models.BertClassifier.from_preset(\"bert_base_en\", preprocessor=None, num_classes=3)\n",
        "classifier.compile(optimizer=keras.optimizers.Adam(4e-05), metrics=['accuracy'])\n",
        "history = classifier.fit(bert_train_set, epochs=5)\n"
      ]
    },
    {
      "cell_type": "markdown",
      "metadata": {
        "id": "oIjfatkr-4Ej"
      },
      "source": [
        "### Predictions on test data for submission"
      ]
    },
    {
      "cell_type": "code",
      "source": [
        "df_test = pd.read_csv(DATA_DIR +\"test.csv\")\n",
        "print(df_test.head())\n",
        "\n",
        "df_test[\"label\"] = [0] * len(df_test)\n"
      ],
      "metadata": {
        "id": "J4ysRupigWIf"
      },
      "execution_count": null,
      "outputs": []
    },
    {
      "cell_type": "code",
      "execution_count": null,
      "metadata": {
        "execution": {
          "iopub.execute_input": "2024-11-02T22:18:00.653032Z",
          "iopub.status.busy": "2024-11-02T22:18:00.652627Z",
          "iopub.status.idle": "2024-11-02T22:18:00.688369Z",
          "shell.execute_reply": "2024-11-02T22:18:00.687509Z",
          "shell.execute_reply.started": "2024-11-02T22:18:00.652993Z"
        },
        "id": "gG-k9sXPC2B7",
        "trusted": true
      },
      "outputs": [],
      "source": [
        "testing_dataset = (\n",
        "    tf.data.Dataset.from_tensor_slices(\n",
        "        (\n",
        "            df_test[[\"hypothesis\", \"premise\"]].values,\n",
        "            df_test[\"label\"].values\n",
        "        )\n",
        "    )\n",
        ")\n",
        "\n",
        "test_preprocessed = testing_dataset.map(split_labels, tf.data.AUTOTUNE).batch(1, drop_remainder=False).cache().prefetch(tf.data.AUTOTUNE)\n"
      ]
    },
    {
      "cell_type": "code",
      "execution_count": null,
      "metadata": {
        "execution": {
          "iopub.execute_input": "2024-11-02T22:19:33.138367Z",
          "iopub.status.busy": "2024-11-02T22:19:33.137971Z",
          "iopub.status.idle": "2024-11-02T22:19:37.934563Z",
          "shell.execute_reply": "2024-11-02T22:19:37.933548Z",
          "shell.execute_reply.started": "2024-11-02T22:19:33.138330Z"
        },
        "id": "bnXb9cztDIfp",
        "trusted": true
      },
      "outputs": [],
      "source": [
        "preprocessor = keras_nlp.models.BertPreprocessor.from_preset(\"bert_base_en\", sequence_length=195)\n",
        "\n",
        "bert_test_set = (test_preprocessed.map(preprocessor, tf.data.AUTOTUNE).cache().prefetch(tf.data.AUTOTUNE))\n"
      ]
    },
    {
      "cell_type": "code",
      "execution_count": null,
      "metadata": {
        "execution": {
          "iopub.execute_input": "2024-11-02T22:20:53.548223Z",
          "iopub.status.busy": "2024-11-02T22:20:53.547391Z",
          "iopub.status.idle": "2024-11-02T22:20:53.578562Z",
          "shell.execute_reply": "2024-11-02T22:20:53.577479Z",
          "shell.execute_reply.started": "2024-11-02T22:20:53.548143Z"
        },
        "id": "Ow8ARld3HPFb",
        "trusted": true
      },
      "outputs": [],
      "source": [
        "predictions = classifier.predict(bert_test_set)\n",
        "predicted_classes = tf.argmax(predictions, axis=1)\n",
        "predicted_classes_np = predicted_classes.numpy()\n",
        "print(predicted_classes_np)"
      ]
    },
    {
      "cell_type": "markdown",
      "source": [
        "### Creation of submission file"
      ],
      "metadata": {
        "id": "jX9bKE0cgqP6"
      }
    },
    {
      "cell_type": "code",
      "execution_count": null,
      "metadata": {
        "execution": {
          "iopub.execute_input": "2024-11-02T22:21:01.060290Z",
          "iopub.status.busy": "2024-11-02T22:21:01.059478Z",
          "iopub.status.idle": "2024-11-02T22:21:01.080054Z",
          "shell.execute_reply": "2024-11-02T22:21:01.079164Z",
          "shell.execute_reply.started": "2024-11-02T22:21:01.060250Z"
        },
        "id": "QWRUCfyTIGAF",
        "trusted": true
      },
      "outputs": [],
      "source": [
        "submission = df_test.id.copy().to_frame()\n",
        "submission[\"prediction\"] = predicted_classes_np\n",
        "submission.to_csv(\"submission.csv\", index=False)\n",
        "\n",
        "submission"
      ]
    }
  ],
  "metadata": {
    "accelerator": "GPU",
    "colab": {
      "gpuType": "L4",
      "provenance": [],
      "machine_shape": "hm"
    },
    "kaggle": {
      "accelerator": "none",
      "dataSources": [
        {
          "databundleVersionId": 1408234,
          "sourceId": 21733,
          "sourceType": "competition"
        },
        {
          "modelId": 2819,
          "modelInstanceId": 4681,
          "sourceId": 6060,
          "sourceType": "modelInstanceVersion"
        }
      ],
      "dockerImageVersionId": 30786,
      "isGpuEnabled": false,
      "isInternetEnabled": true,
      "language": "python",
      "sourceType": "notebook"
    },
    "kernelspec": {
      "display_name": "Python 3",
      "name": "python3"
    },
    "language_info": {
      "codemirror_mode": {
        "name": "ipython",
        "version": 3
      },
      "file_extension": ".py",
      "mimetype": "text/x-python",
      "name": "python",
      "nbconvert_exporter": "python",
      "pygments_lexer": "ipython3",
      "version": "3.10.14"
    }
  },
  "nbformat": 4,
  "nbformat_minor": 0
}