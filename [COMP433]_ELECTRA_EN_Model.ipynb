{
 "cells": [
  {
   "cell_type": "markdown",
   "metadata": {},
   "source": [
    "# ELECTRA EN Model"
   ]
  },
  {
   "cell_type": "markdown",
   "metadata": {},
   "source": [
    "### This notebook contains the implementation of the ELECTRA model pre-trained on the english language set coming from `Datasets/ELECTRA/train_en.csv`\n",
    "\n",
    "### The following steps are taken to establish the model\n",
    "- **Data exploration and visualization**\n",
    "- **Model definition**\n",
    "- **Optimizer algorithm selection**\n",
    "- **Loss function selection**\n",
    "- **Training loop**\n",
    "- **Model saving**"
   ]
  },
  {
   "cell_type": "code",
   "execution_count": 31,
   "metadata": {},
   "outputs": [],
   "source": [
    "import matplotlib.pyplot as plt\n",
    "import pandas\n",
    "import numpy"
   ]
  },
  {
   "cell_type": "markdown",
   "metadata": {},
   "source": [
    "#### Data Exploration and Visualization"
   ]
  },
  {
   "cell_type": "code",
   "execution_count": 3,
   "metadata": {},
   "outputs": [
    {
     "data": {
      "text/html": [
       "<div>\n",
       "<style scoped>\n",
       "    .dataframe tbody tr th:only-of-type {\n",
       "        vertical-align: middle;\n",
       "    }\n",
       "\n",
       "    .dataframe tbody tr th {\n",
       "        vertical-align: top;\n",
       "    }\n",
       "\n",
       "    .dataframe thead th {\n",
       "        text-align: right;\n",
       "    }\n",
       "</style>\n",
       "<table border=\"1\" class=\"dataframe\">\n",
       "  <thead>\n",
       "    <tr style=\"text-align: right;\">\n",
       "      <th></th>\n",
       "      <th>Unnamed: 0</th>\n",
       "      <th>id</th>\n",
       "      <th>premise</th>\n",
       "      <th>hypothesis</th>\n",
       "      <th>lang_abv</th>\n",
       "      <th>language</th>\n",
       "      <th>label</th>\n",
       "      <th>label_name</th>\n",
       "    </tr>\n",
       "  </thead>\n",
       "  <tbody>\n",
       "    <tr>\n",
       "      <th>0</th>\n",
       "      <td>0</td>\n",
       "      <td>5130fd2cb5</td>\n",
       "      <td>and these comments were considered in formulat...</td>\n",
       "      <td>The rules developed in the interim were put to...</td>\n",
       "      <td>en</td>\n",
       "      <td>English</td>\n",
       "      <td>0</td>\n",
       "      <td>entailment</td>\n",
       "    </tr>\n",
       "    <tr>\n",
       "      <th>1</th>\n",
       "      <td>1</td>\n",
       "      <td>5b72532a0b</td>\n",
       "      <td>These are issues that we wrestle with in pract...</td>\n",
       "      <td>Practice groups are not permitted to work on t...</td>\n",
       "      <td>en</td>\n",
       "      <td>English</td>\n",
       "      <td>2</td>\n",
       "      <td>contradiction</td>\n",
       "    </tr>\n",
       "    <tr>\n",
       "      <th>2</th>\n",
       "      <td>2</td>\n",
       "      <td>5622f0c60b</td>\n",
       "      <td>you know they can't really defend themselves l...</td>\n",
       "      <td>They can't defend themselves because of their ...</td>\n",
       "      <td>en</td>\n",
       "      <td>English</td>\n",
       "      <td>0</td>\n",
       "      <td>entailment</td>\n",
       "    </tr>\n",
       "    <tr>\n",
       "      <th>3</th>\n",
       "      <td>3</td>\n",
       "      <td>fdcd1bd867</td>\n",
       "      <td>From Cockpit Country to St. Ann's Bay</td>\n",
       "      <td>From St. Ann's Bay to Cockpit Country.</td>\n",
       "      <td>en</td>\n",
       "      <td>English</td>\n",
       "      <td>2</td>\n",
       "      <td>contradiction</td>\n",
       "    </tr>\n",
       "    <tr>\n",
       "      <th>4</th>\n",
       "      <td>4</td>\n",
       "      <td>7cfb3d272c</td>\n",
       "      <td>Look, it's your skin, but you're going to be i...</td>\n",
       "      <td>The boss will fire you if he sees you slacking...</td>\n",
       "      <td>en</td>\n",
       "      <td>English</td>\n",
       "      <td>1</td>\n",
       "      <td>neutral</td>\n",
       "    </tr>\n",
       "  </tbody>\n",
       "</table>\n",
       "</div>"
      ],
      "text/plain": [
       "   Unnamed: 0          id                                            premise  \\\n",
       "0           0  5130fd2cb5  and these comments were considered in formulat...   \n",
       "1           1  5b72532a0b  These are issues that we wrestle with in pract...   \n",
       "2           2  5622f0c60b  you know they can't really defend themselves l...   \n",
       "3           3  fdcd1bd867              From Cockpit Country to St. Ann's Bay   \n",
       "4           4  7cfb3d272c  Look, it's your skin, but you're going to be i...   \n",
       "\n",
       "                                          hypothesis lang_abv language  label  \\\n",
       "0  The rules developed in the interim were put to...       en  English      0   \n",
       "1  Practice groups are not permitted to work on t...       en  English      2   \n",
       "2  They can't defend themselves because of their ...       en  English      0   \n",
       "3             From St. Ann's Bay to Cockpit Country.       en  English      2   \n",
       "4  The boss will fire you if he sees you slacking...       en  English      1   \n",
       "\n",
       "      label_name  \n",
       "0     entailment  \n",
       "1  contradiction  \n",
       "2     entailment  \n",
       "3  contradiction  \n",
       "4        neutral  "
      ]
     },
     "execution_count": 3,
     "metadata": {},
     "output_type": "execute_result"
    }
   ],
   "source": [
    "electra_en_dataset = pandas.read_csv(\"Datasets/ELECTRA/train_en.csv\")\n",
    "electra_en_dataset.head()"
   ]
  },
  {
   "cell_type": "markdown",
   "metadata": {},
   "source": [
    "##### Validation to ensure the data is clean when being passed to the model"
   ]
  },
  {
   "cell_type": "code",
   "execution_count": 26,
   "metadata": {},
   "outputs": [
    {
     "data": {
      "text/plain": [
       "Unnamed: 0    0\n",
       "id            0\n",
       "premise       0\n",
       "hypothesis    0\n",
       "lang_abv      0\n",
       "language      0\n",
       "label         0\n",
       "label_name    0\n",
       "dtype: int64"
      ]
     },
     "execution_count": 26,
     "metadata": {},
     "output_type": "execute_result"
    }
   ],
   "source": [
    "electra_en_dataset.isna().sum()"
   ]
  },
  {
   "cell_type": "code",
   "execution_count": 14,
   "metadata": {},
   "outputs": [
    {
     "data": {
      "text/plain": [
       "0"
      ]
     },
     "execution_count": 14,
     "metadata": {},
     "output_type": "execute_result"
    }
   ],
   "source": [
    "(electra_en_dataset.lang_abv != \"en\").sum()"
   ]
  },
  {
   "cell_type": "code",
   "execution_count": 22,
   "metadata": {},
   "outputs": [
    {
     "data": {
      "text/plain": [
       "False"
      ]
     },
     "execution_count": 22,
     "metadata": {},
     "output_type": "execute_result"
    }
   ],
   "source": [
    "electra_en_dataset.label[~electra_en_dataset.label.isin([0, 1, 2])].any()"
   ]
  },
  {
   "cell_type": "markdown",
   "metadata": {},
   "source": [
    "##### Descriptions and summaries of data"
   ]
  },
  {
   "cell_type": "code",
   "execution_count": 25,
   "metadata": {},
   "outputs": [
    {
     "data": {
      "text/plain": [
       "3435"
      ]
     },
     "execution_count": 25,
     "metadata": {},
     "output_type": "execute_result"
    }
   ],
   "source": [
    "electra_en_dataset.id.count()"
   ]
  },
  {
   "cell_type": "markdown",
   "metadata": {},
   "source": [
    "- A fairly small dataset relatively speaking to other sources."
   ]
  },
  {
   "cell_type": "code",
   "execution_count": 11,
   "metadata": {},
   "outputs": [
    {
     "data": {
      "text/plain": [
       "count               3435\n",
       "unique              3434\n",
       "top       I am not sure.\n",
       "freq                   2\n",
       "Name: hypothesis, dtype: object"
      ]
     },
     "execution_count": 11,
     "metadata": {},
     "output_type": "execute_result"
    }
   ],
   "source": [
    "electra_en_dataset.hypothesis.describe()"
   ]
  },
  {
   "cell_type": "code",
   "execution_count": 29,
   "metadata": {},
   "outputs": [
    {
     "name": "stdout",
     "output_type": "stream",
     "text": [
      "The rules developed in the interim were put together with these comments in mind.\n",
      "Practice groups are not permitted to work on these issues.\n",
      "They can't defend themselves because of their age.\n",
      "From St. Ann's Bay to Cockpit Country.\n",
      "The boss will fire you if he sees you slacking off.\n",
      "Many people have poisoned someone by mistake.\n",
      "An example is policy wonking.\n",
      "The system is corrupt because he won't be able to get parole if it's life and a day.\n",
      "There is nothing special to see in the village of Moria.\n",
      "Current generations' increased saving would expand the nation's capital stock, allowing future generations to more easily afford the nation's retirement costs while also enjoying higher standards of living.\n"
     ]
    }
   ],
   "source": [
    "for i in range(10):\n",
    "    print(electra_en_dataset.hypothesis[i])"
   ]
  },
  {
   "cell_type": "markdown",
   "metadata": {},
   "source": [
    "- All hypothesis are unique and follow the structure shown above. The premises that follow may either directly follow from the hypothesis, contradict it or not contain enough information to make a proper conclusion."
   ]
  },
  {
   "cell_type": "code",
   "execution_count": 12,
   "metadata": {},
   "outputs": [
    {
     "data": {
      "text/plain": [
       "count                                                  3435\n",
       "unique                                                 2374\n",
       "top       and these comments were considered in formulat...\n",
       "freq                                                      3\n",
       "Name: premise, dtype: object"
      ]
     },
     "execution_count": 12,
     "metadata": {},
     "output_type": "execute_result"
    }
   ],
   "source": [
    "electra_en_dataset.premise.describe()"
   ]
  },
  {
   "cell_type": "code",
   "execution_count": 30,
   "metadata": {},
   "outputs": [
    {
     "name": "stdout",
     "output_type": "stream",
     "text": [
      "and these comments were considered in formulating the interim rules.\n",
      "These are issues that we wrestle with in practice groups of law firms, she said. \n",
      "you know they can't really defend themselves like somebody grown uh say my age you know yeah\n",
      "From Cockpit Country to St. Ann's Bay\n",
      "Look, it's your skin, but you're going to be in trouble if you don't get busy.\n",
      "\"If you people only knew how fatally easy it is to poison some one by mistake, you wouldn't joke about it. \n",
      "My own little corner of the world, policy wonking, is an example.\n",
      "life in prison then he's available for parole if it's if it's life and a day then he's not eligible for parole so what you know let's quit BSing with the system\n",
      "North of Mytilini, stop at the village of Moria, where you will find the remains of a huge Roman aqueduct surrounded by grazing goats.\n",
      "Increased saving by current generations would expand the nation's capital stock, allowing future generations to better afford the nation's retirement costs while also enjoying higher standards of living.\n"
     ]
    }
   ],
   "source": [
    "for i in range(10):\n",
    "    print(electra_en_dataset.premise[i])"
   ]
  },
  {
   "cell_type": "markdown",
   "metadata": {},
   "source": [
    "- **Note:** Not all the premises that follow **are necessarily unique.** This is done to have the model be able to **recognize several conclusions that may be drawn from a hypothesis.**"
   ]
  },
  {
   "cell_type": "code",
   "execution_count": 13,
   "metadata": {},
   "outputs": [
    {
     "data": {
      "text/plain": [
       "count    3435.000000\n",
       "mean        0.971470\n",
       "std         0.830968\n",
       "min         0.000000\n",
       "25%         0.000000\n",
       "50%         1.000000\n",
       "75%         2.000000\n",
       "max         2.000000\n",
       "Name: label, dtype: float64"
      ]
     },
     "execution_count": 13,
     "metadata": {},
     "output_type": "execute_result"
    }
   ],
   "source": [
    "electra_en_dataset.label.describe()"
   ]
  },
  {
   "cell_type": "markdown",
   "metadata": {},
   "source": [
    "- From the five-number summary, it can be surmised that most of the data seems to contain neutral conclusions in the premises. This likely suggests that the model will need to learn and encode finer details in the premises to draw accurate conclusions and predictions."
   ]
  },
  {
   "cell_type": "code",
   "execution_count": 73,
   "metadata": {},
   "outputs": [
    {
     "data": {
      "image/png": "[encoded data removed]",
      "text/plain": [
       "<Figure size 1200x800 with 1 Axes>"
      ]
     },
     "metadata": {},
     "output_type": "display_data"
    }
   ],
   "source": [
    "labels = electra_en_dataset.label.to_numpy()\n",
    "\n",
    "plt.figure(figsize=(12, 8))\n",
    "\n",
    "plt.hist(labels, bins=range(4), align=\"left\", rwidth=0.75, edgecolor=\"black\")\n",
    "\n",
    "plt.xticks(numpy.arange(3))\n",
    "\n",
    "for pos in [\"top\", \"right\"]:\n",
    "    plt.gca().spines[pos].set_visible(False)\n",
    "\n",
    "plt.grid(axis=\"y\", alpha=0.33, color=\"black\")\n",
    "\n",
    "plt.xlabel(\"Label (entailment (0), neutral (1), contradiction (2))\")\n",
    "\n",
    "plt.ylabel(\"Frequency\")\n",
    "\n",
    "plt.title(\"Label Frequency in the Training Dataset\")\n",
    "\n",
    "plt.show()"
   ]
  },
  {
   "cell_type": "markdown",
   "metadata": {},
   "source": [
    "- From the historgram above, it seams that the most frequent premise is an entailment, while a neutral conclusion happens the least."
   ]
  },
  {
   "cell_type": "code",
   "execution_count": 84,
   "metadata": {},
   "outputs": [],
   "source": [
    "def get_length_of_text(_text):\n",
    "    return len(_text)\n",
    "\n",
    "\n",
    "length_of_hypothesis_texts = electra_en_dataset.hypothesis.apply(get_length_of_text)\n",
    "\n",
    "length_of_premise_texts = electra_en_dataset.premise.apply(get_length_of_text)"
   ]
  },
  {
   "cell_type": "code",
   "execution_count": 95,
   "metadata": {},
   "outputs": [
    {
     "data": {
      "image/png": "[encoded data removed]",
      "text/plain": [
       "<Figure size 1200x800 with 1 Axes>"
      ]
     },
     "metadata": {},
     "output_type": "display_data"
    }
   ],
   "source": [
    "plt.figure(figsize=(12, 8))\n",
    "\n",
    "plt.boxplot(length_of_hypothesis_texts, vert=False)\n",
    "\n",
    "for pos in [\"top\", \"right\", \"left\"]:\n",
    "    plt.gca().spines[pos].set_visible(False)\n",
    "\n",
    "plt.gca().get_yaxis().set_visible(False)\n",
    "\n",
    "plt.grid(axis=\"x\", alpha=0.33, color=\"black\")\n",
    "\n",
    "plt.xlabel(\"Character Count\")\n",
    "\n",
    "plt.title(\"Box-Whisker Plot Summary for Hypothesis Character Count\")\n",
    "\n",
    "plt.show()"
   ]
  },
  {
   "cell_type": "code",
   "execution_count": 96,
   "metadata": {},
   "outputs": [
    {
     "data": {
      "image/png": "[encoded data removed]",
      "text/plain": [
       "<Figure size 1200x800 with 1 Axes>"
      ]
     },
     "metadata": {},
     "output_type": "display_data"
    }
   ],
   "source": [
    "plt.figure(figsize=(12, 8))\n",
    "\n",
    "plt.boxplot(length_of_premise_texts, vert=False)\n",
    "\n",
    "for pos in [\"top\", \"right\", \"left\"]:\n",
    "    plt.gca().spines[pos].set_visible(False)\n",
    "\n",
    "plt.gca().get_yaxis().set_visible(False)\n",
    "\n",
    "plt.grid(axis=\"x\", alpha=0.33, color=\"black\")\n",
    "\n",
    "plt.xlabel(\"Character Count\")\n",
    "\n",
    "plt.title(\"Box-Whisker Plot Summary for Premise Character Count\")\n",
    "\n",
    "plt.show()"
   ]
  },
  {
   "cell_type": "markdown",
   "metadata": {},
   "source": [
    "- From the summary plots of the character counts in the texts, it can be seen that there appear to be many outliers in the distribution. This means that there exists several text elements that are much longer than upper limits of the distribution. This may affect the encoding of the textual embeddings in the model.\n",
    "\n",
    "- Otherwise, it would seem on average that the premises are longer than the hypotheses."
   ]
  }
 ],
 "metadata": {
  "kernelspec": {
   "display_name": "Python 3",
   "language": "python",
   "name": "python3"
  },
  "language_info": {
   "codemirror_mode": {
    "name": "ipython",
    "version": 3
   },
   "file_extension": ".py",
   "mimetype": "text/x-python",
   "name": "python",
   "nbconvert_exporter": "python",
   "pygments_lexer": "ipython3",
   "version": "3.11.5"
  }
 },
 "nbformat": 4,
 "nbformat_minor": 2
}
