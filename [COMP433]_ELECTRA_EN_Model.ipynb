{
  "cells": [
    {
      "cell_type": "markdown",
      "metadata": {
        "id": "1g_OwCTIIKPQ"
      },
      "source": [
        "# ELECTRA EN Model"
      ]
    },
    {
      "cell_type": "markdown",
      "metadata": {
        "id": "YSWMTMDdIKPT"
      },
      "source": [
        "### This notebook contains the implementation of the ELECTRA model pre-trained on the english language set coming from `Datasets/ELECTRA/train_en.csv`\n",
        "\n",
        "### The following steps are taken to establish the model\n",
        "- **Data exploration and visualization**\n",
        "- **Model definition**\n",
        "- **Optimizer algorithm selection**\n",
        "- **Loss function selection**\n",
        "- **Training loop**\n",
        "- **Model saving**"
      ]
    },
    {
      "cell_type": "code",
      "execution_count": 1,
      "metadata": {
        "id": "WmwCkAf1IKPU",
        "outputId": "5ebd268c-f9f6-4252-d29f-ef7e984a8c53",
        "colab": {
          "base_uri": "https://localhost:8080/"
        }
      },
      "outputs": [
        {
          "output_type": "stream",
          "name": "stdout",
          "text": [
            "\u001b[?25l   \u001b[90m━━━━━━━━━━━━━━━━━━━━━━━━━━━━━━━━━━━━━━━━\u001b[0m \u001b[32m0.0/644.1 kB\u001b[0m \u001b[31m?\u001b[0m eta \u001b[36m-:--:--\u001b[0m\r\u001b[2K   \u001b[91m━━━━━━━━━━━━━━━━━━━━━━━━━━━━━━━━━━━━━━━\u001b[0m\u001b[90m╺\u001b[0m \u001b[32m634.9/644.1 kB\u001b[0m \u001b[31m21.9 MB/s\u001b[0m eta \u001b[36m0:00:01\u001b[0m\r\u001b[2K   \u001b[90m━━━━━━━━━━━━━━━━━━━━━━━━━━━━━━━━━━━━━━━━\u001b[0m \u001b[32m644.1/644.1 kB\u001b[0m \u001b[31m15.1 MB/s\u001b[0m eta \u001b[36m0:00:00\u001b[0m\n",
            "\u001b[?25h\u001b[?25l   \u001b[90m━━━━━━━━━━━━━━━━━━━━━━━━━━━━━━━━━━━━━━━━\u001b[0m \u001b[32m0.0/5.2 MB\u001b[0m \u001b[31m?\u001b[0m eta \u001b[36m-:--:--\u001b[0m\r\u001b[2K   \u001b[91m━━━━━━━━━━━━━━━━━━━━━━━━━━━━━━━━━━━━━━━\u001b[0m\u001b[91m╸\u001b[0m \u001b[32m5.2/5.2 MB\u001b[0m \u001b[31m159.3 MB/s\u001b[0m eta \u001b[36m0:00:01\u001b[0m\r\u001b[2K   \u001b[90m━━━━━━━━━━━━━━━━━━━━━━━━━━━━━━━━━━━━━━━━\u001b[0m \u001b[32m5.2/5.2 MB\u001b[0m \u001b[31m86.8 MB/s\u001b[0m eta \u001b[36m0:00:00\u001b[0m\n",
            "\u001b[?25h"
          ]
        }
      ],
      "source": [
        "!pip install -q keras-nlp --upgrade"
      ]
    },
    {
      "cell_type": "code",
      "execution_count": 2,
      "metadata": {
        "id": "xhJdc5KbIKPW"
      },
      "outputs": [],
      "source": [
        "import matplotlib.pyplot as plt\n",
        "import pandas\n",
        "import numpy\n",
        "import keras_nlp\n",
        "import keras\n",
        "import tensorflow\n",
        "\n",
        "keras.mixed_precision.set_global_policy(\"mixed_float16\")"
      ]
    },
    {
      "cell_type": "markdown",
      "metadata": {
        "id": "2yQ1kM-ZIKPX"
      },
      "source": [
        "#### Data Exploration and Visualization"
      ]
    },
    {
      "cell_type": "code",
      "execution_count": 17,
      "metadata": {
        "colab": {
          "base_uri": "https://localhost:8080/",
          "height": 206
        },
        "id": "Wk43lLagIKPX",
        "outputId": "f8512ece-9ad7-4139-877f-ab1f3cfb48a0"
      },
      "outputs": [
        {
          "output_type": "execute_result",
          "data": {
            "text/plain": [
              "   Unnamed: 0          id                                            premise  \\\n",
              "0           0  5130fd2cb5  and these comments were considered in formulat...   \n",
              "1           1  5b72532a0b  These are issues that we wrestle with in pract...   \n",
              "2           2  5622f0c60b  you know they can't really defend themselves l...   \n",
              "3           3  fdcd1bd867              From Cockpit Country to St. Ann's Bay   \n",
              "4           4  7cfb3d272c  Look, it's your skin, but you're going to be i...   \n",
              "\n",
              "                                          hypothesis lang_abv language  label  \\\n",
              "0  The rules developed in the interim were put to...       en  English      0   \n",
              "1  Practice groups are not permitted to work on t...       en  English      2   \n",
              "2  They can't defend themselves because of their ...       en  English      0   \n",
              "3             From St. Ann's Bay to Cockpit Country.       en  English      2   \n",
              "4  The boss will fire you if he sees you slacking...       en  English      1   \n",
              "\n",
              "      label_name  \n",
              "0     entailment  \n",
              "1  contradiction  \n",
              "2     entailment  \n",
              "3  contradiction  \n",
              "4        neutral  "
            ],
            "text/html": [
              "\n",
              "  <div id=\"df-aac818e7-ec6f-491b-8527-1ad8ac31216b\" class=\"colab-df-container\">\n",
              "    <div>\n",
              "<style scoped>\n",
              "    .dataframe tbody tr th:only-of-type {\n",
              "        vertical-align: middle;\n",
              "    }\n",
              "\n",
              "    .dataframe tbody tr th {\n",
              "        vertical-align: top;\n",
              "    }\n",
              "\n",
              "    .dataframe thead th {\n",
              "        text-align: right;\n",
              "    }\n",
              "</style>\n",
              "<table border=\"1\" class=\"dataframe\">\n",
              "  <thead>\n",
              "    <tr style=\"text-align: right;\">\n",
              "      <th></th>\n",
              "      <th>Unnamed: 0</th>\n",
              "      <th>id</th>\n",
              "      <th>premise</th>\n",
              "      <th>hypothesis</th>\n",
              "      <th>lang_abv</th>\n",
              "      <th>language</th>\n",
              "      <th>label</th>\n",
              "      <th>label_name</th>\n",
              "    </tr>\n",
              "  </thead>\n",
              "  <tbody>\n",
              "    <tr>\n",
              "      <th>0</th>\n",
              "      <td>0</td>\n",
              "      <td>5130fd2cb5</td>\n",
              "      <td>and these comments were considered in formulat...</td>\n",
              "      <td>The rules developed in the interim were put to...</td>\n",
              "      <td>en</td>\n",
              "      <td>English</td>\n",
              "      <td>0</td>\n",
              "      <td>entailment</td>\n",
              "    </tr>\n",
              "    <tr>\n",
              "      <th>1</th>\n",
              "      <td>1</td>\n",
              "      <td>5b72532a0b</td>\n",
              "      <td>These are issues that we wrestle with in pract...</td>\n",
              "      <td>Practice groups are not permitted to work on t...</td>\n",
              "      <td>en</td>\n",
              "      <td>English</td>\n",
              "      <td>2</td>\n",
              "      <td>contradiction</td>\n",
              "    </tr>\n",
              "    <tr>\n",
              "      <th>2</th>\n",
              "      <td>2</td>\n",
              "      <td>5622f0c60b</td>\n",
              "      <td>you know they can't really defend themselves l...</td>\n",
              "      <td>They can't defend themselves because of their ...</td>\n",
              "      <td>en</td>\n",
              "      <td>English</td>\n",
              "      <td>0</td>\n",
              "      <td>entailment</td>\n",
              "    </tr>\n",
              "    <tr>\n",
              "      <th>3</th>\n",
              "      <td>3</td>\n",
              "      <td>fdcd1bd867</td>\n",
              "      <td>From Cockpit Country to St. Ann's Bay</td>\n",
              "      <td>From St. Ann's Bay to Cockpit Country.</td>\n",
              "      <td>en</td>\n",
              "      <td>English</td>\n",
              "      <td>2</td>\n",
              "      <td>contradiction</td>\n",
              "    </tr>\n",
              "    <tr>\n",
              "      <th>4</th>\n",
              "      <td>4</td>\n",
              "      <td>7cfb3d272c</td>\n",
              "      <td>Look, it's your skin, but you're going to be i...</td>\n",
              "      <td>The boss will fire you if he sees you slacking...</td>\n",
              "      <td>en</td>\n",
              "      <td>English</td>\n",
              "      <td>1</td>\n",
              "      <td>neutral</td>\n",
              "    </tr>\n",
              "  </tbody>\n",
              "</table>\n",
              "</div>\n",
              "    <div class=\"colab-df-buttons\">\n",
              "\n",
              "  <div class=\"colab-df-container\">\n",
              "    <button class=\"colab-df-convert\" onclick=\"convertToInteractive('df-aac818e7-ec6f-491b-8527-1ad8ac31216b')\"\n",
              "            title=\"Convert this dataframe to an interactive table.\"\n",
              "            style=\"display:none;\">\n",
              "\n",
              "  <svg xmlns=\"http://www.w3.org/2000/svg\" height=\"24px\" viewBox=\"0 -960 960 960\">\n",
              "    <path d=\"M120-120v-720h720v720H120Zm60-500h600v-160H180v160Zm220 220h160v-160H400v160Zm0 220h160v-160H400v160ZM180-400h160v-160H180v160Zm440 0h160v-160H620v160ZM180-180h160v-160H180v160Zm440 0h160v-160H620v160Z\"/>\n",
              "  </svg>\n",
              "    </button>\n",
              "\n",
              "  <style>\n",
              "    .colab-df-container {\n",
              "      display:flex;\n",
              "      gap: 12px;\n",
              "    }\n",
              "\n",
              "    .colab-df-convert {\n",
              "      background-color: #E8F0FE;\n",
              "      border: none;\n",
              "      border-radius: 50%;\n",
              "      cursor: pointer;\n",
              "      display: none;\n",
              "      fill: #1967D2;\n",
              "      height: 32px;\n",
              "      padding: 0 0 0 0;\n",
              "      width: 32px;\n",
              "    }\n",
              "\n",
              "    .colab-df-convert:hover {\n",
              "      background-color: #E2EBFA;\n",
              "      box-shadow: 0px 1px 2px rgba(60, 64, 67, 0.3), 0px 1px 3px 1px rgba(60, 64, 67, 0.15);\n",
              "      fill: #174EA6;\n",
              "    }\n",
              "\n",
              "    .colab-df-buttons div {\n",
              "      margin-bottom: 4px;\n",
              "    }\n",
              "\n",
              "    [theme=dark] .colab-df-convert {\n",
              "      background-color: #3B4455;\n",
              "      fill: #D2E3FC;\n",
              "    }\n",
              "\n",
              "    [theme=dark] .colab-df-convert:hover {\n",
              "      background-color: #434B5C;\n",
              "      box-shadow: 0px 1px 3px 1px rgba(0, 0, 0, 0.15);\n",
              "      filter: drop-shadow(0px 1px 2px rgba(0, 0, 0, 0.3));\n",
              "      fill: #FFFFFF;\n",
              "    }\n",
              "  </style>\n",
              "\n",
              "    <script>\n",
              "      const buttonEl =\n",
              "        document.querySelector('#df-aac818e7-ec6f-491b-8527-1ad8ac31216b button.colab-df-convert');\n",
              "      buttonEl.style.display =\n",
              "        google.colab.kernel.accessAllowed ? 'block' : 'none';\n",
              "\n",
              "      async function convertToInteractive(key) {\n",
              "        const element = document.querySelector('#df-aac818e7-ec6f-491b-8527-1ad8ac31216b');\n",
              "        const dataTable =\n",
              "          await google.colab.kernel.invokeFunction('convertToInteractive',\n",
              "                                                    [key], {});\n",
              "        if (!dataTable) return;\n",
              "\n",
              "        const docLinkHtml = 'Like what you see? Visit the ' +\n",
              "          '<a target=\"_blank\" href=https://colab.research.google.com/notebooks/data_table.ipynb>data table notebook</a>'\n",
              "          + ' to learn more about interactive tables.';\n",
              "        element.innerHTML = '';\n",
              "        dataTable['output_type'] = 'display_data';\n",
              "        await google.colab.output.renderOutput(dataTable, element);\n",
              "        const docLink = document.createElement('div');\n",
              "        docLink.innerHTML = docLinkHtml;\n",
              "        element.appendChild(docLink);\n",
              "      }\n",
              "    </script>\n",
              "  </div>\n",
              "\n",
              "\n",
              "<div id=\"df-fe2d9fa1-e20d-4a92-86b6-e745538b454b\">\n",
              "  <button class=\"colab-df-quickchart\" onclick=\"quickchart('df-fe2d9fa1-e20d-4a92-86b6-e745538b454b')\"\n",
              "            title=\"Suggest charts\"\n",
              "            style=\"display:none;\">\n",
              "\n",
              "<svg xmlns=\"http://www.w3.org/2000/svg\" height=\"24px\"viewBox=\"0 0 24 24\"\n",
              "     width=\"24px\">\n",
              "    <g>\n",
              "        <path d=\"M19 3H5c-1.1 0-2 .9-2 2v14c0 1.1.9 2 2 2h14c1.1 0 2-.9 2-2V5c0-1.1-.9-2-2-2zM9 17H7v-7h2v7zm4 0h-2V7h2v10zm4 0h-2v-4h2v4z\"/>\n",
              "    </g>\n",
              "</svg>\n",
              "  </button>\n",
              "\n",
              "<style>\n",
              "  .colab-df-quickchart {\n",
              "      --bg-color: #E8F0FE;\n",
              "      --fill-color: #1967D2;\n",
              "      --hover-bg-color: #E2EBFA;\n",
              "      --hover-fill-color: #174EA6;\n",
              "      --disabled-fill-color: #AAA;\n",
              "      --disabled-bg-color: #DDD;\n",
              "  }\n",
              "\n",
              "  [theme=dark] .colab-df-quickchart {\n",
              "      --bg-color: #3B4455;\n",
              "      --fill-color: #D2E3FC;\n",
              "      --hover-bg-color: #434B5C;\n",
              "      --hover-fill-color: #FFFFFF;\n",
              "      --disabled-bg-color: #3B4455;\n",
              "      --disabled-fill-color: #666;\n",
              "  }\n",
              "\n",
              "  .colab-df-quickchart {\n",
              "    background-color: var(--bg-color);\n",
              "    border: none;\n",
              "    border-radius: 50%;\n",
              "    cursor: pointer;\n",
              "    display: none;\n",
              "    fill: var(--fill-color);\n",
              "    height: 32px;\n",
              "    padding: 0;\n",
              "    width: 32px;\n",
              "  }\n",
              "\n",
              "  .colab-df-quickchart:hover {\n",
              "    background-color: var(--hover-bg-color);\n",
              "    box-shadow: 0 1px 2px rgba(60, 64, 67, 0.3), 0 1px 3px 1px rgba(60, 64, 67, 0.15);\n",
              "    fill: var(--button-hover-fill-color);\n",
              "  }\n",
              "\n",
              "  .colab-df-quickchart-complete:disabled,\n",
              "  .colab-df-quickchart-complete:disabled:hover {\n",
              "    background-color: var(--disabled-bg-color);\n",
              "    fill: var(--disabled-fill-color);\n",
              "    box-shadow: none;\n",
              "  }\n",
              "\n",
              "  .colab-df-spinner {\n",
              "    border: 2px solid var(--fill-color);\n",
              "    border-color: transparent;\n",
              "    border-bottom-color: var(--fill-color);\n",
              "    animation:\n",
              "      spin 1s steps(1) infinite;\n",
              "  }\n",
              "\n",
              "  @keyframes spin {\n",
              "    0% {\n",
              "      border-color: transparent;\n",
              "      border-bottom-color: var(--fill-color);\n",
              "      border-left-color: var(--fill-color);\n",
              "    }\n",
              "    20% {\n",
              "      border-color: transparent;\n",
              "      border-left-color: var(--fill-color);\n",
              "      border-top-color: var(--fill-color);\n",
              "    }\n",
              "    30% {\n",
              "      border-color: transparent;\n",
              "      border-left-color: var(--fill-color);\n",
              "      border-top-color: var(--fill-color);\n",
              "      border-right-color: var(--fill-color);\n",
              "    }\n",
              "    40% {\n",
              "      border-color: transparent;\n",
              "      border-right-color: var(--fill-color);\n",
              "      border-top-color: var(--fill-color);\n",
              "    }\n",
              "    60% {\n",
              "      border-color: transparent;\n",
              "      border-right-color: var(--fill-color);\n",
              "    }\n",
              "    80% {\n",
              "      border-color: transparent;\n",
              "      border-right-color: var(--fill-color);\n",
              "      border-bottom-color: var(--fill-color);\n",
              "    }\n",
              "    90% {\n",
              "      border-color: transparent;\n",
              "      border-bottom-color: var(--fill-color);\n",
              "    }\n",
              "  }\n",
              "</style>\n",
              "\n",
              "  <script>\n",
              "    async function quickchart(key) {\n",
              "      const quickchartButtonEl =\n",
              "        document.querySelector('#' + key + ' button');\n",
              "      quickchartButtonEl.disabled = true;  // To prevent multiple clicks.\n",
              "      quickchartButtonEl.classList.add('colab-df-spinner');\n",
              "      try {\n",
              "        const charts = await google.colab.kernel.invokeFunction(\n",
              "            'suggestCharts', [key], {});\n",
              "      } catch (error) {\n",
              "        console.error('Error during call to suggestCharts:', error);\n",
              "      }\n",
              "      quickchartButtonEl.classList.remove('colab-df-spinner');\n",
              "      quickchartButtonEl.classList.add('colab-df-quickchart-complete');\n",
              "    }\n",
              "    (() => {\n",
              "      let quickchartButtonEl =\n",
              "        document.querySelector('#df-fe2d9fa1-e20d-4a92-86b6-e745538b454b button');\n",
              "      quickchartButtonEl.style.display =\n",
              "        google.colab.kernel.accessAllowed ? 'block' : 'none';\n",
              "    })();\n",
              "  </script>\n",
              "</div>\n",
              "\n",
              "    </div>\n",
              "  </div>\n"
            ],
            "application/vnd.google.colaboratory.intrinsic+json": {
              "type": "dataframe",
              "variable_name": "electra_en_dataset",
              "summary": "{\n  \"name\": \"electra_en_dataset\",\n  \"rows\": 3435,\n  \"fields\": [\n    {\n      \"column\": \"Unnamed: 0\",\n      \"properties\": {\n        \"dtype\": \"number\",\n        \"std\": 991,\n        \"min\": 0,\n        \"max\": 3434,\n        \"num_unique_values\": 3435,\n        \"samples\": [\n          1713,\n          1637,\n          929\n        ],\n        \"semantic_type\": \"\",\n        \"description\": \"\"\n      }\n    },\n    {\n      \"column\": \"id\",\n      \"properties\": {\n        \"dtype\": \"string\",\n        \"num_unique_values\": 3435,\n        \"samples\": [\n          \"5006b9fe7b\",\n          \"896d332c5a\",\n          \"f4d21ee33b\"\n        ],\n        \"semantic_type\": \"\",\n        \"description\": \"\"\n      }\n    },\n    {\n      \"column\": \"premise\",\n      \"properties\": {\n        \"dtype\": \"string\",\n        \"num_unique_values\": 2374,\n        \"samples\": [\n          \"She's a crutch.\",\n          \"Jon replaced Susan's cloak with a white robe and a head scarf, also quite dirty.\",\n          \"His grandson Akbar chose Agra for his capital over Delhi.\"\n        ],\n        \"semantic_type\": \"\",\n        \"description\": \"\"\n      }\n    },\n    {\n      \"column\": \"hypothesis\",\n      \"properties\": {\n        \"dtype\": \"string\",\n        \"num_unique_values\": 3434,\n        \"samples\": [\n          \"This instance stinks. \",\n          \"Because of his lax ruling, many other political institutions and and future leaders have emerged.\",\n          \"That's their sign.\"\n        ],\n        \"semantic_type\": \"\",\n        \"description\": \"\"\n      }\n    },\n    {\n      \"column\": \"lang_abv\",\n      \"properties\": {\n        \"dtype\": \"category\",\n        \"num_unique_values\": 1,\n        \"samples\": [\n          \"en\"\n        ],\n        \"semantic_type\": \"\",\n        \"description\": \"\"\n      }\n    },\n    {\n      \"column\": \"language\",\n      \"properties\": {\n        \"dtype\": \"category\",\n        \"num_unique_values\": 1,\n        \"samples\": [\n          \"English\"\n        ],\n        \"semantic_type\": \"\",\n        \"description\": \"\"\n      }\n    },\n    {\n      \"column\": \"label\",\n      \"properties\": {\n        \"dtype\": \"number\",\n        \"std\": 0,\n        \"min\": 0,\n        \"max\": 2,\n        \"num_unique_values\": 3,\n        \"samples\": [\n          0\n        ],\n        \"semantic_type\": \"\",\n        \"description\": \"\"\n      }\n    },\n    {\n      \"column\": \"label_name\",\n      \"properties\": {\n        \"dtype\": \"category\",\n        \"num_unique_values\": 3,\n        \"samples\": [\n          \"entailment\"\n        ],\n        \"semantic_type\": \"\",\n        \"description\": \"\"\n      }\n    }\n  ]\n}"
            }
          },
          "metadata": {},
          "execution_count": 17
        }
      ],
      "source": [
        "electra_en_dataset = pandas.read_csv(\"Datasets/ELECTRA/train_en.csv\")\n",
        "electra_en_dataset.head()"
      ]
    },
    {
      "cell_type": "markdown",
      "metadata": {
        "id": "ZgAbvKj2IKPZ"
      },
      "source": [
        "##### Validation to ensure the data is clean when being passed to the model"
      ]
    },
    {
      "cell_type": "code",
      "execution_count": null,
      "metadata": {
        "colab": {
          "base_uri": "https://localhost:8080/",
          "height": 335
        },
        "id": "cPdx4lvOIKPZ",
        "outputId": "f538477d-0380-4a9a-c30f-7c19e1556759"
      },
      "outputs": [
        {
          "output_type": "execute_result",
          "data": {
            "text/plain": [
              "Unnamed: 0    0\n",
              "id            0\n",
              "premise       0\n",
              "hypothesis    0\n",
              "lang_abv      0\n",
              "language      0\n",
              "label         0\n",
              "label_name    0\n",
              "dtype: int64"
            ],
            "text/html": [
              "<div>\n",
              "<style scoped>\n",
              "    .dataframe tbody tr th:only-of-type {\n",
              "        vertical-align: middle;\n",
              "    }\n",
              "\n",
              "    .dataframe tbody tr th {\n",
              "        vertical-align: top;\n",
              "    }\n",
              "\n",
              "    .dataframe thead th {\n",
              "        text-align: right;\n",
              "    }\n",
              "</style>\n",
              "<table border=\"1\" class=\"dataframe\">\n",
              "  <thead>\n",
              "    <tr style=\"text-align: right;\">\n",
              "      <th></th>\n",
              "      <th>0</th>\n",
              "    </tr>\n",
              "  </thead>\n",
              "  <tbody>\n",
              "    <tr>\n",
              "      <th>Unnamed: 0</th>\n",
              "      <td>0</td>\n",
              "    </tr>\n",
              "    <tr>\n",
              "      <th>id</th>\n",
              "      <td>0</td>\n",
              "    </tr>\n",
              "    <tr>\n",
              "      <th>premise</th>\n",
              "      <td>0</td>\n",
              "    </tr>\n",
              "    <tr>\n",
              "      <th>hypothesis</th>\n",
              "      <td>0</td>\n",
              "    </tr>\n",
              "    <tr>\n",
              "      <th>lang_abv</th>\n",
              "      <td>0</td>\n",
              "    </tr>\n",
              "    <tr>\n",
              "      <th>language</th>\n",
              "      <td>0</td>\n",
              "    </tr>\n",
              "    <tr>\n",
              "      <th>label</th>\n",
              "      <td>0</td>\n",
              "    </tr>\n",
              "    <tr>\n",
              "      <th>label_name</th>\n",
              "      <td>0</td>\n",
              "    </tr>\n",
              "  </tbody>\n",
              "</table>\n",
              "</div><br><label><b>dtype:</b> int64</label>"
            ]
          },
          "metadata": {},
          "execution_count": 4
        }
      ],
      "source": [
        "electra_en_dataset.isna().sum()"
      ]
    },
    {
      "cell_type": "code",
      "execution_count": null,
      "metadata": {
        "colab": {
          "base_uri": "https://localhost:8080/"
        },
        "id": "vzjN2y3qIKPa",
        "outputId": "297954ea-665a-4b5e-9c65-450b0cd2c5d3"
      },
      "outputs": [
        {
          "output_type": "execute_result",
          "data": {
            "text/plain": [
              "0"
            ]
          },
          "metadata": {},
          "execution_count": 5
        }
      ],
      "source": [
        "(electra_en_dataset.lang_abv != \"en\").sum()"
      ]
    },
    {
      "cell_type": "code",
      "execution_count": null,
      "metadata": {
        "colab": {
          "base_uri": "https://localhost:8080/"
        },
        "id": "Tn3PCzYzIKPb",
        "outputId": "43a3e015-692c-4e7b-e063-5cb28a39b219"
      },
      "outputs": [
        {
          "output_type": "execute_result",
          "data": {
            "text/plain": [
              "False"
            ]
          },
          "metadata": {},
          "execution_count": 6
        }
      ],
      "source": [
        "electra_en_dataset.label[~electra_en_dataset.label.isin([0, 1, 2])].any()"
      ]
    },
    {
      "cell_type": "markdown",
      "metadata": {
        "id": "vciy7vPpIKPb"
      },
      "source": [
        "##### Descriptions and summaries of data"
      ]
    },
    {
      "cell_type": "code",
      "execution_count": null,
      "metadata": {
        "colab": {
          "base_uri": "https://localhost:8080/"
        },
        "id": "zxNKXs9-IKPc",
        "outputId": "125a57f0-53d5-4283-dd35-20fc0b719979"
      },
      "outputs": [
        {
          "output_type": "execute_result",
          "data": {
            "text/plain": [
              "3435"
            ]
          },
          "metadata": {},
          "execution_count": 7
        }
      ],
      "source": [
        "electra_en_dataset.id.count()"
      ]
    },
    {
      "cell_type": "markdown",
      "metadata": {
        "id": "DGAUX6ZkIKPc"
      },
      "source": [
        "- A fairly small dataset relatively speaking to other sources."
      ]
    },
    {
      "cell_type": "code",
      "execution_count": null,
      "metadata": {
        "colab": {
          "base_uri": "https://localhost:8080/",
          "height": 209
        },
        "id": "TjuLp0cbIKPd",
        "outputId": "26901e77-8014-4b6f-8a14-770e31f1e94f"
      },
      "outputs": [
        {
          "output_type": "execute_result",
          "data": {
            "text/plain": [
              "count               3435\n",
              "unique              3434\n",
              "top       I am not sure.\n",
              "freq                   2\n",
              "Name: hypothesis, dtype: object"
            ],
            "text/html": [
              "<div>\n",
              "<style scoped>\n",
              "    .dataframe tbody tr th:only-of-type {\n",
              "        vertical-align: middle;\n",
              "    }\n",
              "\n",
              "    .dataframe tbody tr th {\n",
              "        vertical-align: top;\n",
              "    }\n",
              "\n",
              "    .dataframe thead th {\n",
              "        text-align: right;\n",
              "    }\n",
              "</style>\n",
              "<table border=\"1\" class=\"dataframe\">\n",
              "  <thead>\n",
              "    <tr style=\"text-align: right;\">\n",
              "      <th></th>\n",
              "      <th>hypothesis</th>\n",
              "    </tr>\n",
              "  </thead>\n",
              "  <tbody>\n",
              "    <tr>\n",
              "      <th>count</th>\n",
              "      <td>3435</td>\n",
              "    </tr>\n",
              "    <tr>\n",
              "      <th>unique</th>\n",
              "      <td>3434</td>\n",
              "    </tr>\n",
              "    <tr>\n",
              "      <th>top</th>\n",
              "      <td>I am not sure.</td>\n",
              "    </tr>\n",
              "    <tr>\n",
              "      <th>freq</th>\n",
              "      <td>2</td>\n",
              "    </tr>\n",
              "  </tbody>\n",
              "</table>\n",
              "</div><br><label><b>dtype:</b> object</label>"
            ]
          },
          "metadata": {},
          "execution_count": 8
        }
      ],
      "source": [
        "electra_en_dataset.hypothesis.describe()"
      ]
    },
    {
      "cell_type": "code",
      "execution_count": null,
      "metadata": {
        "colab": {
          "base_uri": "https://localhost:8080/"
        },
        "id": "0iO9cKCEIKPd",
        "outputId": "4a0fb352-5603-45f5-99bd-1cbcab4758e7"
      },
      "outputs": [
        {
          "output_type": "stream",
          "name": "stdout",
          "text": [
            "The rules developed in the interim were put together with these comments in mind.\n",
            "Practice groups are not permitted to work on these issues.\n",
            "They can't defend themselves because of their age.\n",
            "From St. Ann's Bay to Cockpit Country.\n",
            "The boss will fire you if he sees you slacking off.\n",
            "Many people have poisoned someone by mistake.\n",
            "An example is policy wonking.\n",
            "The system is corrupt because he won't be able to get parole if it's life and a day.\n",
            "There is nothing special to see in the village of Moria.\n",
            "Current generations' increased saving would expand the nation's capital stock, allowing future generations to more easily afford the nation's retirement costs while also enjoying higher standards of living.\n"
          ]
        }
      ],
      "source": [
        "for i in range(10):\n",
        "    print(electra_en_dataset.hypothesis[i])"
      ]
    },
    {
      "cell_type": "markdown",
      "metadata": {
        "id": "VOrv7GyVIKPd"
      },
      "source": [
        "- All hypothesis are unique and follow the structure shown above. The premises that follow may either directly follow from the hypothesis, contradict it or not contain enough information to make a proper conclusion."
      ]
    },
    {
      "cell_type": "code",
      "execution_count": null,
      "metadata": {
        "colab": {
          "base_uri": "https://localhost:8080/",
          "height": 209
        },
        "id": "2r1R-fGwIKPe",
        "outputId": "e594f000-ee04-4ef1-eac8-07588e6ab70f"
      },
      "outputs": [
        {
          "output_type": "execute_result",
          "data": {
            "text/plain": [
              "count                                                  3435\n",
              "unique                                                 2374\n",
              "top       guess it didn't last too long at the box offic...\n",
              "freq                                                      3\n",
              "Name: premise, dtype: object"
            ],
            "text/html": [
              "<div>\n",
              "<style scoped>\n",
              "    .dataframe tbody tr th:only-of-type {\n",
              "        vertical-align: middle;\n",
              "    }\n",
              "\n",
              "    .dataframe tbody tr th {\n",
              "        vertical-align: top;\n",
              "    }\n",
              "\n",
              "    .dataframe thead th {\n",
              "        text-align: right;\n",
              "    }\n",
              "</style>\n",
              "<table border=\"1\" class=\"dataframe\">\n",
              "  <thead>\n",
              "    <tr style=\"text-align: right;\">\n",
              "      <th></th>\n",
              "      <th>premise</th>\n",
              "    </tr>\n",
              "  </thead>\n",
              "  <tbody>\n",
              "    <tr>\n",
              "      <th>count</th>\n",
              "      <td>3435</td>\n",
              "    </tr>\n",
              "    <tr>\n",
              "      <th>unique</th>\n",
              "      <td>2374</td>\n",
              "    </tr>\n",
              "    <tr>\n",
              "      <th>top</th>\n",
              "      <td>guess it didn't last too long at the box offic...</td>\n",
              "    </tr>\n",
              "    <tr>\n",
              "      <th>freq</th>\n",
              "      <td>3</td>\n",
              "    </tr>\n",
              "  </tbody>\n",
              "</table>\n",
              "</div><br><label><b>dtype:</b> object</label>"
            ]
          },
          "metadata": {},
          "execution_count": 10
        }
      ],
      "source": [
        "electra_en_dataset.premise.describe()"
      ]
    },
    {
      "cell_type": "code",
      "execution_count": null,
      "metadata": {
        "colab": {
          "base_uri": "https://localhost:8080/"
        },
        "id": "pmS8AYmmIKPe",
        "outputId": "be6d080e-2112-43a3-d54e-c07c1b6a36a0"
      },
      "outputs": [
        {
          "output_type": "stream",
          "name": "stdout",
          "text": [
            "and these comments were considered in formulating the interim rules.\n",
            "These are issues that we wrestle with in practice groups of law firms, she said. \n",
            "you know they can't really defend themselves like somebody grown uh say my age you know yeah\n",
            "From Cockpit Country to St. Ann's Bay\n",
            "Look, it's your skin, but you're going to be in trouble if you don't get busy.\n",
            "\"If you people only knew how fatally easy it is to poison some one by mistake, you wouldn't joke about it. \n",
            "My own little corner of the world, policy wonking, is an example.\n",
            "life in prison then he's available for parole if it's if it's life and a day then he's not eligible for parole so what you know let's quit BSing with the system\n",
            "North of Mytilini, stop at the village of Moria, where you will find the remains of a huge Roman aqueduct surrounded by grazing goats.\n",
            "Increased saving by current generations would expand the nation's capital stock, allowing future generations to better afford the nation's retirement costs while also enjoying higher standards of living.\n"
          ]
        }
      ],
      "source": [
        "for i in range(10):\n",
        "    print(electra_en_dataset.premise[i])"
      ]
    },
    {
      "cell_type": "markdown",
      "metadata": {
        "id": "oRk11B00IKPf"
      },
      "source": [
        "- **Note:** Not all the premises that follow **are necessarily unique.** This is done to have the model be able to **recognize several conclusions that may be drawn from a hypothesis.**"
      ]
    },
    {
      "cell_type": "code",
      "execution_count": null,
      "metadata": {
        "colab": {
          "base_uri": "https://localhost:8080/",
          "height": 335
        },
        "id": "3-9nMF0HIKPf",
        "outputId": "4c3a04bf-1471-4afe-9b77-89811ddbb301"
      },
      "outputs": [
        {
          "output_type": "execute_result",
          "data": {
            "text/plain": [
              "count    3435.000000\n",
              "mean        0.971470\n",
              "std         0.830968\n",
              "min         0.000000\n",
              "25%         0.000000\n",
              "50%         1.000000\n",
              "75%         2.000000\n",
              "max         2.000000\n",
              "Name: label, dtype: float64"
            ],
            "text/html": [
              "<div>\n",
              "<style scoped>\n",
              "    .dataframe tbody tr th:only-of-type {\n",
              "        vertical-align: middle;\n",
              "    }\n",
              "\n",
              "    .dataframe tbody tr th {\n",
              "        vertical-align: top;\n",
              "    }\n",
              "\n",
              "    .dataframe thead th {\n",
              "        text-align: right;\n",
              "    }\n",
              "</style>\n",
              "<table border=\"1\" class=\"dataframe\">\n",
              "  <thead>\n",
              "    <tr style=\"text-align: right;\">\n",
              "      <th></th>\n",
              "      <th>label</th>\n",
              "    </tr>\n",
              "  </thead>\n",
              "  <tbody>\n",
              "    <tr>\n",
              "      <th>count</th>\n",
              "      <td>3435.000000</td>\n",
              "    </tr>\n",
              "    <tr>\n",
              "      <th>mean</th>\n",
              "      <td>0.971470</td>\n",
              "    </tr>\n",
              "    <tr>\n",
              "      <th>std</th>\n",
              "      <td>0.830968</td>\n",
              "    </tr>\n",
              "    <tr>\n",
              "      <th>min</th>\n",
              "      <td>0.000000</td>\n",
              "    </tr>\n",
              "    <tr>\n",
              "      <th>25%</th>\n",
              "      <td>0.000000</td>\n",
              "    </tr>\n",
              "    <tr>\n",
              "      <th>50%</th>\n",
              "      <td>1.000000</td>\n",
              "    </tr>\n",
              "    <tr>\n",
              "      <th>75%</th>\n",
              "      <td>2.000000</td>\n",
              "    </tr>\n",
              "    <tr>\n",
              "      <th>max</th>\n",
              "      <td>2.000000</td>\n",
              "    </tr>\n",
              "  </tbody>\n",
              "</table>\n",
              "</div><br><label><b>dtype:</b> float64</label>"
            ]
          },
          "metadata": {},
          "execution_count": 12
        }
      ],
      "source": [
        "electra_en_dataset.label.describe()"
      ]
    },
    {
      "cell_type": "markdown",
      "metadata": {
        "id": "sYSPwvDwIKPg"
      },
      "source": [
        "- From the five-number summary, it can be surmised that most of the data seems to contain neutral conclusions in the premises. This likely suggests that the model will need to learn and encode finer details in the premises to draw accurate conclusions and predictions."
      ]
    },
    {
      "cell_type": "code",
      "execution_count": null,
      "metadata": {
        "colab": {
          "base_uri": "https://localhost:8080/",
          "height": 718
        },
        "id": "tY_2G6heIKPg",
        "outputId": "2dba39cf-ea33-47cf-b522-27261f5601ff"
      },
      "outputs": [
        {
          "output_type": "display_data",
          "data": {
            "text/plain": [
              "<Figure size 1200x800 with 1 Axes>"
            ],
            "image/png": "[encoded data removed]"
          },
          "metadata": {}
        }
      ],
      "source": [
        "labels = electra_en_dataset.label.to_numpy()\n",
        "\n",
        "plt.figure(figsize=(12, 8))\n",
        "\n",
        "plt.hist(labels, bins=range(4), align=\"left\", rwidth=0.75, edgecolor=\"black\")\n",
        "\n",
        "plt.xticks(numpy.arange(3))\n",
        "\n",
        "for pos in [\"top\", \"right\"]:\n",
        "    plt.gca().spines[pos].set_visible(False)\n",
        "\n",
        "plt.grid(axis=\"y\", alpha=0.33, color=\"black\")\n",
        "\n",
        "plt.xlabel(\"Label (entailment (0), neutral (1), contradiction (2))\")\n",
        "\n",
        "plt.ylabel(\"Frequency\")\n",
        "\n",
        "plt.title(\"Label Frequency in the Training Dataset\")\n",
        "\n",
        "plt.show()"
      ]
    },
    {
      "cell_type": "markdown",
      "metadata": {
        "id": "xFV8311PIKPg"
      },
      "source": [
        "- From the historgram above, it seams that the most frequent premise is an entailment, while a neutral conclusion happens the least."
      ]
    },
    {
      "cell_type": "code",
      "execution_count": null,
      "metadata": {
        "id": "WkHQwd8jIKPh"
      },
      "outputs": [],
      "source": [
        "def get_length_of_text(_text):\n",
        "    return len(_text)\n",
        "\n",
        "\n",
        "length_of_hypothesis_texts = electra_en_dataset.hypothesis.apply(get_length_of_text)\n",
        "\n",
        "length_of_premise_texts = electra_en_dataset.premise.apply(get_length_of_text)"
      ]
    },
    {
      "cell_type": "code",
      "execution_count": null,
      "metadata": {
        "colab": {
          "base_uri": "https://localhost:8080/",
          "height": 718
        },
        "id": "wTMXwWrRIKPh",
        "outputId": "f06ad96d-8e90-469a-923e-1b9f97e9e115"
      },
      "outputs": [
        {
          "output_type": "display_data",
          "data": {
            "text/plain": [
              "<Figure size 1200x800 with 1 Axes>"
            ],
            "image/png": "[encoded data removed]"
          },
          "metadata": {}
        }
      ],
      "source": [
        "plt.figure(figsize=(12, 8))\n",
        "\n",
        "plt.boxplot(length_of_hypothesis_texts, vert=False)\n",
        "\n",
        "for pos in [\"top\", \"right\", \"left\"]:\n",
        "    plt.gca().spines[pos].set_visible(False)\n",
        "\n",
        "plt.gca().get_yaxis().set_visible(False)\n",
        "\n",
        "plt.grid(axis=\"x\", alpha=0.33, color=\"black\")\n",
        "\n",
        "plt.xlabel(\"Character Count\")\n",
        "\n",
        "plt.title(\"Box-Whisker Plot Summary for Hypothesis Character Count\")\n",
        "\n",
        "plt.show()"
      ]
    },
    {
      "cell_type": "code",
      "execution_count": null,
      "metadata": {
        "colab": {
          "base_uri": "https://localhost:8080/",
          "height": 718
        },
        "id": "S8x6OMyLIKPi",
        "outputId": "2739335f-2baa-4c47-a601-488152421cc1"
      },
      "outputs": [
        {
          "output_type": "display_data",
          "data": {
            "text/plain": [
              "<Figure size 1200x800 with 1 Axes>"
            ],
            "image/png": "[encoded data removed]"
          },
          "metadata": {}
        }
      ],
      "source": [
        "plt.figure(figsize=(12, 8))\n",
        "\n",
        "plt.boxplot(length_of_premise_texts, vert=False)\n",
        "\n",
        "for pos in [\"top\", \"right\", \"left\"]:\n",
        "    plt.gca().spines[pos].set_visible(False)\n",
        "\n",
        "plt.gca().get_yaxis().set_visible(False)\n",
        "\n",
        "plt.grid(axis=\"x\", alpha=0.33, color=\"black\")\n",
        "\n",
        "plt.xlabel(\"Character Count\")\n",
        "\n",
        "plt.title(\"Box-Whisker Plot Summary for Premise Character Count\")\n",
        "\n",
        "plt.show()"
      ]
    },
    {
      "cell_type": "markdown",
      "metadata": {
        "id": "FL7_z5BVIKPi"
      },
      "source": [
        "- From the summary plots of the character counts in the texts, it can be seen that there appear to be many outliers in the distribution. This means that there exists several text elements that are much longer than upper limits of the distribution. This may affect the encoding of the textual embeddings in the model.\n",
        "\n",
        "- Otherwise, it would seem on average that the premises are longer than the hypotheses."
      ]
    },
    {
      "cell_type": "markdown",
      "metadata": {
        "id": "tFwGQCv7IKPj"
      },
      "source": [
        "#### Model Definition"
      ]
    },
    {
      "cell_type": "code",
      "source": [
        "def split_labels(x, y):\n",
        "    return (x[0], x[1]), y\n",
        "\n",
        "\n",
        "def get_max_token_length(dataset, preprocessor):\n",
        "  token_lengths = []\n",
        "\n",
        "  for hypothesis, premise in dataset[[\"hypothesis\", \"premise\"]].values:\n",
        "\n",
        "    encoded = preprocessor([hypothesis, premise])\n",
        "    encoded_np = encoded[\"padding_mask\" ]. numpy()\n",
        "    non_padding_count = encoded_np.sum()\n",
        "    token_lengths.append(non_padding_count)\n",
        "\n",
        "  return max(token_lengths)\n",
        "\n",
        "\n",
        "def plot_model_result(_losses, _accuracies, _is_training=True):\n",
        "    plt.style.use('seaborn-v0_8-dark')\n",
        "\n",
        "    fig, (momentum_loss_ax, momentum_acc_ax) = plt.subplots(1, 2, figsize=(16,6))\n",
        "    momentum_loss_ax.plot(numpy.arange(1, len(_losses) + 1), _losses)\n",
        "    momentum_loss_ax.set_xlabel(f\"Epoch (Batch size = {batch_size})\")\n",
        "    momentum_loss_ax.set_xticks(numpy.arange(1, len(_losses) + 1))\n",
        "    momentum_loss_ax.set_ylabel(\"CCE loss\")\n",
        "    momentum_loss_ax.set_title(f\"{'Training' if _is_training else 'Validation'} Epoch vs. Loss for ELECTRA EN\")\n",
        "    momentum_loss_ax.grid()\n",
        "\n",
        "    momentum_acc_ax.plot(numpy.arange(1, len(_accuracies) + 1), _accuracies)\n",
        "    momentum_acc_ax.set_xlabel(f\"Epoch (Batch size = {batch_size})\")\n",
        "    momentum_acc_ax.set_xticks(numpy.arange(1, len(_accuracies) + 1))\n",
        "    momentum_acc_ax.set_ylabel(\"Accuracy (%)\")\n",
        "    momentum_acc_ax.set_yticks(numpy.arange(0, 110, 10))\n",
        "    momentum_acc_ax.set_title(f\"{'Training' if _is_training else 'Validation'} Epoch vs. Accuracy for ELECTRA EN\")\n",
        "    momentum_acc_ax.grid()\n",
        "\n",
        "    plt.show()"
      ],
      "metadata": {
        "id": "RexxjF97I9ju"
      },
      "execution_count": 24,
      "outputs": []
    },
    {
      "cell_type": "code",
      "source": [
        "VALIDATION_SPLIT = 0.2\n",
        "TRAIN_SIZE = int(electra_en_dataset.shape[0] * (1-VALIDATION_SPLIT))\n",
        "\n",
        "training_dataset = (\n",
        "    tensorflow.data.Dataset.from_tensor_slices(\n",
        "        (\n",
        "            electra_en_dataset[[\"hypothesis\", \"premise\"]].values,\n",
        "            electra_en_dataset[\"label\"].values\n",
        "        )\n",
        "    )\n",
        ")\n",
        "\n",
        "train_dataset = training_dataset.take(TRAIN_SIZE)\n",
        "\n",
        "val_dataset = training_dataset.skip(TRAIN_SIZE)\n",
        "\n",
        "batch_size = 32\n",
        "\n",
        "num_epochs = 5\n",
        "\n",
        "train_preprocessed = train_dataset.map(split_labels, tensorflow.data.AUTOTUNE).shuffle(buffer_size=batch_size).repeat(num_epochs).batch(batch_size, drop_remainder=True).cache().prefetch(tensorflow.data.AUTOTUNE)\n",
        "val_preprocessed = val_dataset.map(split_labels, tensorflow.data.AUTOTUNE).shuffle(buffer_size=batch_size).repeat(num_epochs).batch(batch_size, drop_remainder=True).cache().prefetch(tensorflow.data.AUTOTUNE)"
      ],
      "metadata": {
        "id": "N-SIkmx3JBgA"
      },
      "execution_count": 25,
      "outputs": []
    },
    {
      "cell_type": "code",
      "execution_count": 26,
      "metadata": {
        "colab": {
          "base_uri": "https://localhost:8080/",
          "height": 1000
        },
        "id": "Ca3la4J9IKPj",
        "outputId": "99766d63-78f7-4737-8a8c-518d20c2ceff"
      },
      "outputs": [
        {
          "output_type": "stream",
          "name": "stdout",
          "text": [
            "Epoch 1/5\n",
            "\u001b[1m429/429\u001b[0m \u001b[32m━━━━━━━━━━━━━━━━━━━━\u001b[0m\u001b[37m\u001b[0m \u001b[1m150s\u001b[0m 125ms/step - loss: 0.9534 - sparse_categorical_accuracy: 0.5130 - val_loss: 0.9898 - val_sparse_categorical_accuracy: 0.6446\n",
            "Epoch 2/5\n",
            "\u001b[1m429/429\u001b[0m \u001b[32m━━━━━━━━━━━━━━━━━━━━\u001b[0m\u001b[37m\u001b[0m \u001b[1m42s\u001b[0m 98ms/step - loss: 0.2637 - sparse_categorical_accuracy: 0.9176 - val_loss: 1.3874 - val_sparse_categorical_accuracy: 0.6346\n",
            "Epoch 3/5\n",
            "\u001b[1m429/429\u001b[0m \u001b[32m━━━━━━━━━━━━━━━━━━━━\u001b[0m\u001b[37m\u001b[0m \u001b[1m82s\u001b[0m 99ms/step - loss: 0.1122 - sparse_categorical_accuracy: 0.9666 - val_loss: 1.6665 - val_sparse_categorical_accuracy: 0.6244\n",
            "Epoch 4/5\n",
            "\u001b[1m429/429\u001b[0m \u001b[32m━━━━━━━━━━━━━━━━━━━━\u001b[0m\u001b[37m\u001b[0m \u001b[1m42s\u001b[0m 98ms/step - loss: 0.0657 - sparse_categorical_accuracy: 0.9794 - val_loss: 1.6453 - val_sparse_categorical_accuracy: 0.6384\n",
            "Epoch 5/5\n",
            "\u001b[1m429/429\u001b[0m \u001b[32m━━━━━━━━━━━━━━━━━━━━\u001b[0m\u001b[37m\u001b[0m \u001b[1m42s\u001b[0m 98ms/step - loss: 0.0336 - sparse_categorical_accuracy: 0.9910 - val_loss: 2.0602 - val_sparse_categorical_accuracy: 0.6142\n"
          ]
        },
        {
          "output_type": "display_data",
          "data": {
            "text/plain": [
              "<Figure size 1600x600 with 2 Axes>"
            ],
            "image/png": "[encoded data removed]"
          },
          "metadata": {}
        },
        {
          "output_type": "display_data",
          "data": {
            "text/plain": [
              "<Figure size 1600x600 with 2 Axes>"
            ],
            "image/png": "[encoded data removed]"
          },
          "metadata": {}
        }
      ],
      "source": [
        "# electra_ganerator_token = keras_nlp.models.Tokenizer.from_preset(\"electra_small_generator_uncased_en\")\n",
        "electra_discriminator_token = keras_nlp.models.Tokenizer.from_preset(\"electra_small_discriminator_uncased_en\")\n",
        "\n",
        "bert_preprocessor = keras_nlp.models.BertTextClassifierPreprocessor(electra_discriminator_token, sequence_length=240)\n",
        "# max_token_length = get_max_token_length(electra_en_dataset, bert_preprocessor)\n",
        "# bert_preprocessor.sequence_length = max_token_length\n",
        "\n",
        "train_set = (\n",
        "    train_preprocessed.map(bert_preprocessor, tensorflow.data.AUTOTUNE).cache().prefetch(tensorflow.data.AUTOTUNE)\n",
        ")\n",
        "\n",
        "val_set = (\n",
        "    val_preprocessed.map(bert_preprocessor, tensorflow.data.AUTOTUNE).cache().prefetch(tensorflow.data.AUTOTUNE)\n",
        ")\n",
        "\n",
        "# electra_generator_back = keras_nlp.models.Backbone.from_preset(\"electra_small_generator_uncased_en\")\n",
        "electra_discriminator_back = keras_nlp.models.Backbone.from_preset(\"electra_small_discriminator_uncased_en\")\n",
        "\n",
        "bert_classifier = keras_nlp.models.BertClassifier(electra_discriminator_back, 3, preprocessor=None)\n",
        "\n",
        "classifier_history = bert_classifier.fit(train_set, epochs=5, validation_data=val_set)\n",
        "training_losses = classifier_history.history[\"loss\"]\n",
        "\n",
        "training_accuracies = classifier_history.history[\"sparse_categorical_accuracy\"]\n",
        "\n",
        "validation_losses = classifier_history.history[\"val_loss\"]\n",
        "\n",
        "validation_accuracies = classifier_history.history[\"val_sparse_categorical_accuracy\"]\n",
        "\n",
        "plot_model_result(training_losses, training_accuracies)\n",
        "\n",
        "plot_model_result(validation_losses, validation_accuracies, False)"
      ]
    }
  ],
  "metadata": {
    "kernelspec": {
      "display_name": "Python 3",
      "name": "python3"
    },
    "language_info": {
      "codemirror_mode": {
        "name": "ipython",
        "version": 3
      },
      "file_extension": ".py",
      "mimetype": "text/x-python",
      "name": "python",
      "nbconvert_exporter": "python",
      "pygments_lexer": "ipython3",
      "version": "3.11.5"
    },
    "colab": {
      "provenance": [],
      "gpuType": "T4"
    },
    "accelerator": "GPU"
  },
  "nbformat": 4,
  "nbformat_minor": 0
}