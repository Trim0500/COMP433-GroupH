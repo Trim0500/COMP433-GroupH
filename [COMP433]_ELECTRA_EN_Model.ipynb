{
  "cells": [
    {
      "cell_type": "markdown",
      "metadata": {
        "id": "1g_OwCTIIKPQ"
      },
      "source": [
        "# ELECTRA EN Model"
      ]
    },
    {
      "cell_type": "markdown",
      "metadata": {
        "id": "YSWMTMDdIKPT"
      },
      "source": [
        "### This notebook contains the implementation of the ELECTRA model pre-trained on the english language set coming from `Datasets/ELECTRA/train_en.csv`\n",
        "\n",
        "### The following steps are taken to establish the model\n",
        "- **Data exploration and visualization**\n",
        "- **Model definition**\n",
        "- **Optimizer algorithm selection**\n",
        "- **Loss function selection**\n",
        "- **Training loop**\n",
        "- **Model saving**"
      ]
    },
    {
      "cell_type": "code",
      "execution_count": 2,
      "metadata": {
        "id": "WmwCkAf1IKPU"
      },
      "outputs": [],
      "source": [
        "!pip install -q keras-nlp --upgrade"
      ]
    },
    {
      "cell_type": "code",
      "execution_count": 4,
      "metadata": {
        "id": "xhJdc5KbIKPW"
      },
      "outputs": [],
      "source": [
        "import matplotlib.pyplot as plt\n",
        "import pandas\n",
        "import numpy\n",
        "import keras_nlp\n",
        "import keras\n",
        "import tensorflow\n",
        "\n",
        "keras.mixed_precision.set_global_policy(\"mixed_float16\")"
      ]
    },
    {
      "cell_type": "markdown",
      "metadata": {
        "id": "2yQ1kM-ZIKPX"
      },
      "source": [
        "#### Data Exploration and Visualization"
      ]
    },
    {
      "cell_type": "code",
      "execution_count": 5,
      "metadata": {
        "colab": {
          "base_uri": "https://localhost:8080/",
          "height": 293
        },
        "id": "Wk43lLagIKPX",
        "outputId": "ada3b6c5-7153-4260-a5d8-e85ea95d0f8d"
      },
      "outputs": [
        {
          "output_type": "execute_result",
          "data": {
            "text/plain": [
              "   Unnamed: 0          id                                            premise  \\\n",
              "0           0  5130fd2cb5  and these comments were considered in formulat...   \n",
              "1           1  5b72532a0b  These are issues that we wrestle with in pract...   \n",
              "2           2  5622f0c60b  you know they can't really defend themselves l...   \n",
              "3           3  fdcd1bd867              From Cockpit Country to St. Ann's Bay   \n",
              "4           4  7cfb3d272c  Look, it's your skin, but you're going to be i...   \n",
              "\n",
              "                                          hypothesis lang_abv language  label  \\\n",
              "0  The rules developed in the interim were put to...       en  English      0   \n",
              "1  Practice groups are not permitted to work on t...       en  English      2   \n",
              "2  They can't defend themselves because of their ...       en  English      0   \n",
              "3             From St. Ann's Bay to Cockpit Country.       en  English      2   \n",
              "4  The boss will fire you if he sees you slacking...       en  English      1   \n",
              "\n",
              "      label_name  \n",
              "0     entailment  \n",
              "1  contradiction  \n",
              "2     entailment  \n",
              "3  contradiction  \n",
              "4        neutral  "
            ],
            "text/html": [
              "\n",
              "  <div id=\"df-ce6d528f-b1ae-4871-ad76-f6ff4992cdc6\" class=\"colab-df-container\">\n",
              "    <div>\n",
              "<style scoped>\n",
              "    .dataframe tbody tr th:only-of-type {\n",
              "        vertical-align: middle;\n",
              "    }\n",
              "\n",
              "    .dataframe tbody tr th {\n",
              "        vertical-align: top;\n",
              "    }\n",
              "\n",
              "    .dataframe thead th {\n",
              "        text-align: right;\n",
              "    }\n",
              "</style>\n",
              "<table border=\"1\" class=\"dataframe\">\n",
              "  <thead>\n",
              "    <tr style=\"text-align: right;\">\n",
              "      <th></th>\n",
              "      <th>Unnamed: 0</th>\n",
              "      <th>id</th>\n",
              "      <th>premise</th>\n",
              "      <th>hypothesis</th>\n",
              "      <th>lang_abv</th>\n",
              "      <th>language</th>\n",
              "      <th>label</th>\n",
              "      <th>label_name</th>\n",
              "    </tr>\n",
              "  </thead>\n",
              "  <tbody>\n",
              "    <tr>\n",
              "      <th>0</th>\n",
              "      <td>0</td>\n",
              "      <td>5130fd2cb5</td>\n",
              "      <td>and these comments were considered in formulat...</td>\n",
              "      <td>The rules developed in the interim were put to...</td>\n",
              "      <td>en</td>\n",
              "      <td>English</td>\n",
              "      <td>0</td>\n",
              "      <td>entailment</td>\n",
              "    </tr>\n",
              "    <tr>\n",
              "      <th>1</th>\n",
              "      <td>1</td>\n",
              "      <td>5b72532a0b</td>\n",
              "      <td>These are issues that we wrestle with in pract...</td>\n",
              "      <td>Practice groups are not permitted to work on t...</td>\n",
              "      <td>en</td>\n",
              "      <td>English</td>\n",
              "      <td>2</td>\n",
              "      <td>contradiction</td>\n",
              "    </tr>\n",
              "    <tr>\n",
              "      <th>2</th>\n",
              "      <td>2</td>\n",
              "      <td>5622f0c60b</td>\n",
              "      <td>you know they can't really defend themselves l...</td>\n",
              "      <td>They can't defend themselves because of their ...</td>\n",
              "      <td>en</td>\n",
              "      <td>English</td>\n",
              "      <td>0</td>\n",
              "      <td>entailment</td>\n",
              "    </tr>\n",
              "    <tr>\n",
              "      <th>3</th>\n",
              "      <td>3</td>\n",
              "      <td>fdcd1bd867</td>\n",
              "      <td>From Cockpit Country to St. Ann's Bay</td>\n",
              "      <td>From St. Ann's Bay to Cockpit Country.</td>\n",
              "      <td>en</td>\n",
              "      <td>English</td>\n",
              "      <td>2</td>\n",
              "      <td>contradiction</td>\n",
              "    </tr>\n",
              "    <tr>\n",
              "      <th>4</th>\n",
              "      <td>4</td>\n",
              "      <td>7cfb3d272c</td>\n",
              "      <td>Look, it's your skin, but you're going to be i...</td>\n",
              "      <td>The boss will fire you if he sees you slacking...</td>\n",
              "      <td>en</td>\n",
              "      <td>English</td>\n",
              "      <td>1</td>\n",
              "      <td>neutral</td>\n",
              "    </tr>\n",
              "  </tbody>\n",
              "</table>\n",
              "</div>\n",
              "    <div class=\"colab-df-buttons\">\n",
              "\n",
              "  <div class=\"colab-df-container\">\n",
              "    <button class=\"colab-df-convert\" onclick=\"convertToInteractive('df-ce6d528f-b1ae-4871-ad76-f6ff4992cdc6')\"\n",
              "            title=\"Convert this dataframe to an interactive table.\"\n",
              "            style=\"display:none;\">\n",
              "\n",
              "  <svg xmlns=\"http://www.w3.org/2000/svg\" height=\"24px\" viewBox=\"0 -960 960 960\">\n",
              "    <path d=\"M120-120v-720h720v720H120Zm60-500h600v-160H180v160Zm220 220h160v-160H400v160Zm0 220h160v-160H400v160ZM180-400h160v-160H180v160Zm440 0h160v-160H620v160ZM180-180h160v-160H180v160Zm440 0h160v-160H620v160Z\"/>\n",
              "  </svg>\n",
              "    </button>\n",
              "\n",
              "  <style>\n",
              "    .colab-df-container {\n",
              "      display:flex;\n",
              "      gap: 12px;\n",
              "    }\n",
              "\n",
              "    .colab-df-convert {\n",
              "      background-color: #E8F0FE;\n",
              "      border: none;\n",
              "      border-radius: 50%;\n",
              "      cursor: pointer;\n",
              "      display: none;\n",
              "      fill: #1967D2;\n",
              "      height: 32px;\n",
              "      padding: 0 0 0 0;\n",
              "      width: 32px;\n",
              "    }\n",
              "\n",
              "    .colab-df-convert:hover {\n",
              "      background-color: #E2EBFA;\n",
              "      box-shadow: 0px 1px 2px rgba(60, 64, 67, 0.3), 0px 1px 3px 1px rgba(60, 64, 67, 0.15);\n",
              "      fill: #174EA6;\n",
              "    }\n",
              "\n",
              "    .colab-df-buttons div {\n",
              "      margin-bottom: 4px;\n",
              "    }\n",
              "\n",
              "    [theme=dark] .colab-df-convert {\n",
              "      background-color: #3B4455;\n",
              "      fill: #D2E3FC;\n",
              "    }\n",
              "\n",
              "    [theme=dark] .colab-df-convert:hover {\n",
              "      background-color: #434B5C;\n",
              "      box-shadow: 0px 1px 3px 1px rgba(0, 0, 0, 0.15);\n",
              "      filter: drop-shadow(0px 1px 2px rgba(0, 0, 0, 0.3));\n",
              "      fill: #FFFFFF;\n",
              "    }\n",
              "  </style>\n",
              "\n",
              "    <script>\n",
              "      const buttonEl =\n",
              "        document.querySelector('#df-ce6d528f-b1ae-4871-ad76-f6ff4992cdc6 button.colab-df-convert');\n",
              "      buttonEl.style.display =\n",
              "        google.colab.kernel.accessAllowed ? 'block' : 'none';\n",
              "\n",
              "      async function convertToInteractive(key) {\n",
              "        const element = document.querySelector('#df-ce6d528f-b1ae-4871-ad76-f6ff4992cdc6');\n",
              "        const dataTable =\n",
              "          await google.colab.kernel.invokeFunction('convertToInteractive',\n",
              "                                                    [key], {});\n",
              "        if (!dataTable) return;\n",
              "\n",
              "        const docLinkHtml = 'Like what you see? Visit the ' +\n",
              "          '<a target=\"_blank\" href=https://colab.research.google.com/notebooks/data_table.ipynb>data table notebook</a>'\n",
              "          + ' to learn more about interactive tables.';\n",
              "        element.innerHTML = '';\n",
              "        dataTable['output_type'] = 'display_data';\n",
              "        await google.colab.output.renderOutput(dataTable, element);\n",
              "        const docLink = document.createElement('div');\n",
              "        docLink.innerHTML = docLinkHtml;\n",
              "        element.appendChild(docLink);\n",
              "      }\n",
              "    </script>\n",
              "  </div>\n",
              "\n",
              "\n",
              "<div id=\"df-8a521703-f88f-4016-b8ec-06673008b06f\">\n",
              "  <button class=\"colab-df-quickchart\" onclick=\"quickchart('df-8a521703-f88f-4016-b8ec-06673008b06f')\"\n",
              "            title=\"Suggest charts\"\n",
              "            style=\"display:none;\">\n",
              "\n",
              "<svg xmlns=\"http://www.w3.org/2000/svg\" height=\"24px\"viewBox=\"0 0 24 24\"\n",
              "     width=\"24px\">\n",
              "    <g>\n",
              "        <path d=\"M19 3H5c-1.1 0-2 .9-2 2v14c0 1.1.9 2 2 2h14c1.1 0 2-.9 2-2V5c0-1.1-.9-2-2-2zM9 17H7v-7h2v7zm4 0h-2V7h2v10zm4 0h-2v-4h2v4z\"/>\n",
              "    </g>\n",
              "</svg>\n",
              "  </button>\n",
              "\n",
              "<style>\n",
              "  .colab-df-quickchart {\n",
              "      --bg-color: #E8F0FE;\n",
              "      --fill-color: #1967D2;\n",
              "      --hover-bg-color: #E2EBFA;\n",
              "      --hover-fill-color: #174EA6;\n",
              "      --disabled-fill-color: #AAA;\n",
              "      --disabled-bg-color: #DDD;\n",
              "  }\n",
              "\n",
              "  [theme=dark] .colab-df-quickchart {\n",
              "      --bg-color: #3B4455;\n",
              "      --fill-color: #D2E3FC;\n",
              "      --hover-bg-color: #434B5C;\n",
              "      --hover-fill-color: #FFFFFF;\n",
              "      --disabled-bg-color: #3B4455;\n",
              "      --disabled-fill-color: #666;\n",
              "  }\n",
              "\n",
              "  .colab-df-quickchart {\n",
              "    background-color: var(--bg-color);\n",
              "    border: none;\n",
              "    border-radius: 50%;\n",
              "    cursor: pointer;\n",
              "    display: none;\n",
              "    fill: var(--fill-color);\n",
              "    height: 32px;\n",
              "    padding: 0;\n",
              "    width: 32px;\n",
              "  }\n",
              "\n",
              "  .colab-df-quickchart:hover {\n",
              "    background-color: var(--hover-bg-color);\n",
              "    box-shadow: 0 1px 2px rgba(60, 64, 67, 0.3), 0 1px 3px 1px rgba(60, 64, 67, 0.15);\n",
              "    fill: var(--button-hover-fill-color);\n",
              "  }\n",
              "\n",
              "  .colab-df-quickchart-complete:disabled,\n",
              "  .colab-df-quickchart-complete:disabled:hover {\n",
              "    background-color: var(--disabled-bg-color);\n",
              "    fill: var(--disabled-fill-color);\n",
              "    box-shadow: none;\n",
              "  }\n",
              "\n",
              "  .colab-df-spinner {\n",
              "    border: 2px solid var(--fill-color);\n",
              "    border-color: transparent;\n",
              "    border-bottom-color: var(--fill-color);\n",
              "    animation:\n",
              "      spin 1s steps(1) infinite;\n",
              "  }\n",
              "\n",
              "  @keyframes spin {\n",
              "    0% {\n",
              "      border-color: transparent;\n",
              "      border-bottom-color: var(--fill-color);\n",
              "      border-left-color: var(--fill-color);\n",
              "    }\n",
              "    20% {\n",
              "      border-color: transparent;\n",
              "      border-left-color: var(--fill-color);\n",
              "      border-top-color: var(--fill-color);\n",
              "    }\n",
              "    30% {\n",
              "      border-color: transparent;\n",
              "      border-left-color: var(--fill-color);\n",
              "      border-top-color: var(--fill-color);\n",
              "      border-right-color: var(--fill-color);\n",
              "    }\n",
              "    40% {\n",
              "      border-color: transparent;\n",
              "      border-right-color: var(--fill-color);\n",
              "      border-top-color: var(--fill-color);\n",
              "    }\n",
              "    60% {\n",
              "      border-color: transparent;\n",
              "      border-right-color: var(--fill-color);\n",
              "    }\n",
              "    80% {\n",
              "      border-color: transparent;\n",
              "      border-right-color: var(--fill-color);\n",
              "      border-bottom-color: var(--fill-color);\n",
              "    }\n",
              "    90% {\n",
              "      border-color: transparent;\n",
              "      border-bottom-color: var(--fill-color);\n",
              "    }\n",
              "  }\n",
              "</style>\n",
              "\n",
              "  <script>\n",
              "    async function quickchart(key) {\n",
              "      const quickchartButtonEl =\n",
              "        document.querySelector('#' + key + ' button');\n",
              "      quickchartButtonEl.disabled = true;  // To prevent multiple clicks.\n",
              "      quickchartButtonEl.classList.add('colab-df-spinner');\n",
              "      try {\n",
              "        const charts = await google.colab.kernel.invokeFunction(\n",
              "            'suggestCharts', [key], {});\n",
              "      } catch (error) {\n",
              "        console.error('Error during call to suggestCharts:', error);\n",
              "      }\n",
              "      quickchartButtonEl.classList.remove('colab-df-spinner');\n",
              "      quickchartButtonEl.classList.add('colab-df-quickchart-complete');\n",
              "    }\n",
              "    (() => {\n",
              "      let quickchartButtonEl =\n",
              "        document.querySelector('#df-8a521703-f88f-4016-b8ec-06673008b06f button');\n",
              "      quickchartButtonEl.style.display =\n",
              "        google.colab.kernel.accessAllowed ? 'block' : 'none';\n",
              "    })();\n",
              "  </script>\n",
              "</div>\n",
              "\n",
              "    </div>\n",
              "  </div>\n"
            ],
            "application/vnd.google.colaboratory.intrinsic+json": {
              "type": "dataframe",
              "variable_name": "electra_en_dataset",
              "summary": "{\n  \"name\": \"electra_en_dataset\",\n  \"rows\": 3435,\n  \"fields\": [\n    {\n      \"column\": \"Unnamed: 0\",\n      \"properties\": {\n        \"dtype\": \"number\",\n        \"std\": 991,\n        \"min\": 0,\n        \"max\": 3434,\n        \"num_unique_values\": 3435,\n        \"samples\": [\n          1713,\n          1637,\n          929\n        ],\n        \"semantic_type\": \"\",\n        \"description\": \"\"\n      }\n    },\n    {\n      \"column\": \"id\",\n      \"properties\": {\n        \"dtype\": \"string\",\n        \"num_unique_values\": 3435,\n        \"samples\": [\n          \"5006b9fe7b\",\n          \"896d332c5a\",\n          \"f4d21ee33b\"\n        ],\n        \"semantic_type\": \"\",\n        \"description\": \"\"\n      }\n    },\n    {\n      \"column\": \"premise\",\n      \"properties\": {\n        \"dtype\": \"string\",\n        \"num_unique_values\": 2374,\n        \"samples\": [\n          \"She's a crutch.\",\n          \"Jon replaced Susan's cloak with a white robe and a head scarf, also quite dirty.\",\n          \"His grandson Akbar chose Agra for his capital over Delhi.\"\n        ],\n        \"semantic_type\": \"\",\n        \"description\": \"\"\n      }\n    },\n    {\n      \"column\": \"hypothesis\",\n      \"properties\": {\n        \"dtype\": \"string\",\n        \"num_unique_values\": 3434,\n        \"samples\": [\n          \"This instance stinks. \",\n          \"Because of his lax ruling, many other political institutions and and future leaders have emerged.\",\n          \"That's their sign.\"\n        ],\n        \"semantic_type\": \"\",\n        \"description\": \"\"\n      }\n    },\n    {\n      \"column\": \"lang_abv\",\n      \"properties\": {\n        \"dtype\": \"category\",\n        \"num_unique_values\": 1,\n        \"samples\": [\n          \"en\"\n        ],\n        \"semantic_type\": \"\",\n        \"description\": \"\"\n      }\n    },\n    {\n      \"column\": \"language\",\n      \"properties\": {\n        \"dtype\": \"category\",\n        \"num_unique_values\": 1,\n        \"samples\": [\n          \"English\"\n        ],\n        \"semantic_type\": \"\",\n        \"description\": \"\"\n      }\n    },\n    {\n      \"column\": \"label\",\n      \"properties\": {\n        \"dtype\": \"number\",\n        \"std\": 0,\n        \"min\": 0,\n        \"max\": 2,\n        \"num_unique_values\": 3,\n        \"samples\": [\n          0\n        ],\n        \"semantic_type\": \"\",\n        \"description\": \"\"\n      }\n    },\n    {\n      \"column\": \"label_name\",\n      \"properties\": {\n        \"dtype\": \"category\",\n        \"num_unique_values\": 3,\n        \"samples\": [\n          \"entailment\"\n        ],\n        \"semantic_type\": \"\",\n        \"description\": \"\"\n      }\n    }\n  ]\n}"
            }
          },
          "metadata": {},
          "execution_count": 5
        }
      ],
      "source": [
        "electra_en_dataset = pandas.read_csv(\"train_en.csv\")\n",
        "electra_en_dataset.head()"
      ]
    },
    {
      "cell_type": "markdown",
      "metadata": {
        "id": "ZgAbvKj2IKPZ"
      },
      "source": [
        "##### Validation to ensure the data is clean when being passed to the model"
      ]
    },
    {
      "cell_type": "code",
      "execution_count": 6,
      "metadata": {
        "colab": {
          "base_uri": "https://localhost:8080/",
          "height": 335
        },
        "id": "cPdx4lvOIKPZ",
        "outputId": "414d1584-293a-4981-bdf2-8dd2a73e5626"
      },
      "outputs": [
        {
          "output_type": "execute_result",
          "data": {
            "text/plain": [
              "Unnamed: 0    0\n",
              "id            0\n",
              "premise       0\n",
              "hypothesis    0\n",
              "lang_abv      0\n",
              "language      0\n",
              "label         0\n",
              "label_name    0\n",
              "dtype: int64"
            ],
            "text/html": [
              "<div>\n",
              "<style scoped>\n",
              "    .dataframe tbody tr th:only-of-type {\n",
              "        vertical-align: middle;\n",
              "    }\n",
              "\n",
              "    .dataframe tbody tr th {\n",
              "        vertical-align: top;\n",
              "    }\n",
              "\n",
              "    .dataframe thead th {\n",
              "        text-align: right;\n",
              "    }\n",
              "</style>\n",
              "<table border=\"1\" class=\"dataframe\">\n",
              "  <thead>\n",
              "    <tr style=\"text-align: right;\">\n",
              "      <th></th>\n",
              "      <th>0</th>\n",
              "    </tr>\n",
              "  </thead>\n",
              "  <tbody>\n",
              "    <tr>\n",
              "      <th>Unnamed: 0</th>\n",
              "      <td>0</td>\n",
              "    </tr>\n",
              "    <tr>\n",
              "      <th>id</th>\n",
              "      <td>0</td>\n",
              "    </tr>\n",
              "    <tr>\n",
              "      <th>premise</th>\n",
              "      <td>0</td>\n",
              "    </tr>\n",
              "    <tr>\n",
              "      <th>hypothesis</th>\n",
              "      <td>0</td>\n",
              "    </tr>\n",
              "    <tr>\n",
              "      <th>lang_abv</th>\n",
              "      <td>0</td>\n",
              "    </tr>\n",
              "    <tr>\n",
              "      <th>language</th>\n",
              "      <td>0</td>\n",
              "    </tr>\n",
              "    <tr>\n",
              "      <th>label</th>\n",
              "      <td>0</td>\n",
              "    </tr>\n",
              "    <tr>\n",
              "      <th>label_name</th>\n",
              "      <td>0</td>\n",
              "    </tr>\n",
              "  </tbody>\n",
              "</table>\n",
              "</div><br><label><b>dtype:</b> int64</label>"
            ]
          },
          "metadata": {},
          "execution_count": 6
        }
      ],
      "source": [
        "electra_en_dataset.isna().sum()"
      ]
    },
    {
      "cell_type": "code",
      "execution_count": 7,
      "metadata": {
        "colab": {
          "base_uri": "https://localhost:8080/"
        },
        "id": "vzjN2y3qIKPa",
        "outputId": "3dd671b6-2592-4c9a-f582-5dd8e2d0521c"
      },
      "outputs": [
        {
          "output_type": "execute_result",
          "data": {
            "text/plain": [
              "0"
            ]
          },
          "metadata": {},
          "execution_count": 7
        }
      ],
      "source": [
        "(electra_en_dataset.lang_abv != \"en\").sum()"
      ]
    },
    {
      "cell_type": "code",
      "execution_count": 8,
      "metadata": {
        "colab": {
          "base_uri": "https://localhost:8080/"
        },
        "id": "Tn3PCzYzIKPb",
        "outputId": "9cd7acae-30d2-4fa7-8792-b27dc026a7c7"
      },
      "outputs": [
        {
          "output_type": "execute_result",
          "data": {
            "text/plain": [
              "False"
            ]
          },
          "metadata": {},
          "execution_count": 8
        }
      ],
      "source": [
        "electra_en_dataset.label[~electra_en_dataset.label.isin([0, 1, 2])].any()"
      ]
    },
    {
      "cell_type": "markdown",
      "metadata": {
        "id": "vciy7vPpIKPb"
      },
      "source": [
        "##### Descriptions and summaries of data"
      ]
    },
    {
      "cell_type": "code",
      "execution_count": 10,
      "metadata": {
        "colab": {
          "base_uri": "https://localhost:8080/"
        },
        "id": "zxNKXs9-IKPc",
        "outputId": "52ca8672-953f-47fb-92b4-7337ae3309c5"
      },
      "outputs": [
        {
          "output_type": "execute_result",
          "data": {
            "text/plain": [
              "3435"
            ]
          },
          "metadata": {},
          "execution_count": 10
        }
      ],
      "source": [
        "electra_en_dataset.id.count()"
      ]
    },
    {
      "cell_type": "markdown",
      "metadata": {
        "id": "DGAUX6ZkIKPc"
      },
      "source": [
        "- A fairly small dataset relatively speaking to other sources."
      ]
    },
    {
      "cell_type": "code",
      "execution_count": 11,
      "metadata": {
        "colab": {
          "base_uri": "https://localhost:8080/",
          "height": 209
        },
        "id": "TjuLp0cbIKPd",
        "outputId": "fe6441ab-c142-4dde-f75a-1b6d7615f7a8"
      },
      "outputs": [
        {
          "output_type": "execute_result",
          "data": {
            "text/plain": [
              "count               3435\n",
              "unique              3434\n",
              "top       I am not sure.\n",
              "freq                   2\n",
              "Name: hypothesis, dtype: object"
            ],
            "text/html": [
              "<div>\n",
              "<style scoped>\n",
              "    .dataframe tbody tr th:only-of-type {\n",
              "        vertical-align: middle;\n",
              "    }\n",
              "\n",
              "    .dataframe tbody tr th {\n",
              "        vertical-align: top;\n",
              "    }\n",
              "\n",
              "    .dataframe thead th {\n",
              "        text-align: right;\n",
              "    }\n",
              "</style>\n",
              "<table border=\"1\" class=\"dataframe\">\n",
              "  <thead>\n",
              "    <tr style=\"text-align: right;\">\n",
              "      <th></th>\n",
              "      <th>hypothesis</th>\n",
              "    </tr>\n",
              "  </thead>\n",
              "  <tbody>\n",
              "    <tr>\n",
              "      <th>count</th>\n",
              "      <td>3435</td>\n",
              "    </tr>\n",
              "    <tr>\n",
              "      <th>unique</th>\n",
              "      <td>3434</td>\n",
              "    </tr>\n",
              "    <tr>\n",
              "      <th>top</th>\n",
              "      <td>I am not sure.</td>\n",
              "    </tr>\n",
              "    <tr>\n",
              "      <th>freq</th>\n",
              "      <td>2</td>\n",
              "    </tr>\n",
              "  </tbody>\n",
              "</table>\n",
              "</div><br><label><b>dtype:</b> object</label>"
            ]
          },
          "metadata": {},
          "execution_count": 11
        }
      ],
      "source": [
        "electra_en_dataset.hypothesis.describe()"
      ]
    },
    {
      "cell_type": "code",
      "execution_count": 12,
      "metadata": {
        "colab": {
          "base_uri": "https://localhost:8080/"
        },
        "id": "0iO9cKCEIKPd",
        "outputId": "a22b3404-3280-4731-d445-5ebf033da2f8"
      },
      "outputs": [
        {
          "output_type": "stream",
          "name": "stdout",
          "text": [
            "The rules developed in the interim were put together with these comments in mind.\n",
            "Practice groups are not permitted to work on these issues.\n",
            "They can't defend themselves because of their age.\n",
            "From St. Ann's Bay to Cockpit Country.\n",
            "The boss will fire you if he sees you slacking off.\n",
            "Many people have poisoned someone by mistake.\n",
            "An example is policy wonking.\n",
            "The system is corrupt because he won't be able to get parole if it's life and a day.\n",
            "There is nothing special to see in the village of Moria.\n",
            "Current generations' increased saving would expand the nation's capital stock, allowing future generations to more easily afford the nation's retirement costs while also enjoying higher standards of living.\n"
          ]
        }
      ],
      "source": [
        "for i in range(10):\n",
        "    print(electra_en_dataset.hypothesis[i])"
      ]
    },
    {
      "cell_type": "markdown",
      "metadata": {
        "id": "VOrv7GyVIKPd"
      },
      "source": [
        "- All hypothesis are unique and follow the structure shown above. The premises that follow may either directly follow from the hypothesis, contradict it or not contain enough information to make a proper conclusion."
      ]
    },
    {
      "cell_type": "code",
      "execution_count": 13,
      "metadata": {
        "colab": {
          "base_uri": "https://localhost:8080/",
          "height": 209
        },
        "id": "2r1R-fGwIKPe",
        "outputId": "5578fdd3-ddb0-470c-b39c-7a28cbe8e8fd"
      },
      "outputs": [
        {
          "output_type": "execute_result",
          "data": {
            "text/plain": [
              "count                                                  3435\n",
              "unique                                                 2374\n",
              "top       guess it didn't last too long at the box offic...\n",
              "freq                                                      3\n",
              "Name: premise, dtype: object"
            ],
            "text/html": [
              "<div>\n",
              "<style scoped>\n",
              "    .dataframe tbody tr th:only-of-type {\n",
              "        vertical-align: middle;\n",
              "    }\n",
              "\n",
              "    .dataframe tbody tr th {\n",
              "        vertical-align: top;\n",
              "    }\n",
              "\n",
              "    .dataframe thead th {\n",
              "        text-align: right;\n",
              "    }\n",
              "</style>\n",
              "<table border=\"1\" class=\"dataframe\">\n",
              "  <thead>\n",
              "    <tr style=\"text-align: right;\">\n",
              "      <th></th>\n",
              "      <th>premise</th>\n",
              "    </tr>\n",
              "  </thead>\n",
              "  <tbody>\n",
              "    <tr>\n",
              "      <th>count</th>\n",
              "      <td>3435</td>\n",
              "    </tr>\n",
              "    <tr>\n",
              "      <th>unique</th>\n",
              "      <td>2374</td>\n",
              "    </tr>\n",
              "    <tr>\n",
              "      <th>top</th>\n",
              "      <td>guess it didn't last too long at the box offic...</td>\n",
              "    </tr>\n",
              "    <tr>\n",
              "      <th>freq</th>\n",
              "      <td>3</td>\n",
              "    </tr>\n",
              "  </tbody>\n",
              "</table>\n",
              "</div><br><label><b>dtype:</b> object</label>"
            ]
          },
          "metadata": {},
          "execution_count": 13
        }
      ],
      "source": [
        "electra_en_dataset.premise.describe()"
      ]
    },
    {
      "cell_type": "code",
      "execution_count": 14,
      "metadata": {
        "colab": {
          "base_uri": "https://localhost:8080/"
        },
        "id": "pmS8AYmmIKPe",
        "outputId": "03fe24c8-9e11-41de-abb1-258bc459617e"
      },
      "outputs": [
        {
          "output_type": "stream",
          "name": "stdout",
          "text": [
            "and these comments were considered in formulating the interim rules.\n",
            "These are issues that we wrestle with in practice groups of law firms, she said. \n",
            "you know they can't really defend themselves like somebody grown uh say my age you know yeah\n",
            "From Cockpit Country to St. Ann's Bay\n",
            "Look, it's your skin, but you're going to be in trouble if you don't get busy.\n",
            "\"If you people only knew how fatally easy it is to poison some one by mistake, you wouldn't joke about it. \n",
            "My own little corner of the world, policy wonking, is an example.\n",
            "life in prison then he's available for parole if it's if it's life and a day then he's not eligible for parole so what you know let's quit BSing with the system\n",
            "North of Mytilini, stop at the village of Moria, where you will find the remains of a huge Roman aqueduct surrounded by grazing goats.\n",
            "Increased saving by current generations would expand the nation's capital stock, allowing future generations to better afford the nation's retirement costs while also enjoying higher standards of living.\n"
          ]
        }
      ],
      "source": [
        "for i in range(10):\n",
        "    print(electra_en_dataset.premise[i])"
      ]
    },
    {
      "cell_type": "markdown",
      "metadata": {
        "id": "oRk11B00IKPf"
      },
      "source": [
        "- **Note:** Not all the premises that follow **are necessarily unique.** This is done to have the model be able to **recognize several conclusions that may be drawn from a hypothesis.**"
      ]
    },
    {
      "cell_type": "code",
      "execution_count": 15,
      "metadata": {
        "colab": {
          "base_uri": "https://localhost:8080/",
          "height": 335
        },
        "id": "3-9nMF0HIKPf",
        "outputId": "6582477f-86af-4a8b-8265-56963508b23d"
      },
      "outputs": [
        {
          "output_type": "execute_result",
          "data": {
            "text/plain": [
              "count    3435.000000\n",
              "mean        0.971470\n",
              "std         0.830968\n",
              "min         0.000000\n",
              "25%         0.000000\n",
              "50%         1.000000\n",
              "75%         2.000000\n",
              "max         2.000000\n",
              "Name: label, dtype: float64"
            ],
            "text/html": [
              "<div>\n",
              "<style scoped>\n",
              "    .dataframe tbody tr th:only-of-type {\n",
              "        vertical-align: middle;\n",
              "    }\n",
              "\n",
              "    .dataframe tbody tr th {\n",
              "        vertical-align: top;\n",
              "    }\n",
              "\n",
              "    .dataframe thead th {\n",
              "        text-align: right;\n",
              "    }\n",
              "</style>\n",
              "<table border=\"1\" class=\"dataframe\">\n",
              "  <thead>\n",
              "    <tr style=\"text-align: right;\">\n",
              "      <th></th>\n",
              "      <th>label</th>\n",
              "    </tr>\n",
              "  </thead>\n",
              "  <tbody>\n",
              "    <tr>\n",
              "      <th>count</th>\n",
              "      <td>3435.000000</td>\n",
              "    </tr>\n",
              "    <tr>\n",
              "      <th>mean</th>\n",
              "      <td>0.971470</td>\n",
              "    </tr>\n",
              "    <tr>\n",
              "      <th>std</th>\n",
              "      <td>0.830968</td>\n",
              "    </tr>\n",
              "    <tr>\n",
              "      <th>min</th>\n",
              "      <td>0.000000</td>\n",
              "    </tr>\n",
              "    <tr>\n",
              "      <th>25%</th>\n",
              "      <td>0.000000</td>\n",
              "    </tr>\n",
              "    <tr>\n",
              "      <th>50%</th>\n",
              "      <td>1.000000</td>\n",
              "    </tr>\n",
              "    <tr>\n",
              "      <th>75%</th>\n",
              "      <td>2.000000</td>\n",
              "    </tr>\n",
              "    <tr>\n",
              "      <th>max</th>\n",
              "      <td>2.000000</td>\n",
              "    </tr>\n",
              "  </tbody>\n",
              "</table>\n",
              "</div><br><label><b>dtype:</b> float64</label>"
            ]
          },
          "metadata": {},
          "execution_count": 15
        }
      ],
      "source": [
        "electra_en_dataset.label.describe()"
      ]
    },
    {
      "cell_type": "markdown",
      "metadata": {
        "id": "sYSPwvDwIKPg"
      },
      "source": [
        "- From the five-number summary, it can be surmised that most of the data seems to contain neutral conclusions in the premises. This likely suggests that the model will need to learn and encode finer details in the premises to draw accurate conclusions and predictions."
      ]
    },
    {
      "cell_type": "code",
      "execution_count": 16,
      "metadata": {
        "colab": {
          "base_uri": "https://localhost:8080/",
          "height": 718
        },
        "id": "tY_2G6heIKPg",
        "outputId": "3ee84276-9303-423e-8346-0966a6138fb6"
      },
      "outputs": [
        {
          "output_type": "display_data",
          "data": {
            "text/plain": [
              "<Figure size 1200x800 with 1 Axes>"
            ],
            "image/png": "[encoded data removed]"
          },
          "metadata": {}
        }
      ],
      "source": [
        "labels = electra_en_dataset.label.to_numpy()\n",
        "\n",
        "plt.figure(figsize=(12, 8))\n",
        "\n",
        "plt.hist(labels, bins=range(4), align=\"left\", rwidth=0.75, edgecolor=\"black\")\n",
        "\n",
        "plt.xticks(numpy.arange(3))\n",
        "\n",
        "for pos in [\"top\", \"right\"]:\n",
        "    plt.gca().spines[pos].set_visible(False)\n",
        "\n",
        "plt.grid(axis=\"y\", alpha=0.33, color=\"black\")\n",
        "\n",
        "plt.xlabel(\"Label (entailment (0), neutral (1), contradiction (2))\")\n",
        "\n",
        "plt.ylabel(\"Frequency\")\n",
        "\n",
        "plt.title(\"Label Frequency in the Training Dataset\")\n",
        "\n",
        "plt.show()"
      ]
    },
    {
      "cell_type": "markdown",
      "metadata": {
        "id": "xFV8311PIKPg"
      },
      "source": [
        "- From the historgram above, it seams that the most frequent premise is an entailment, while a neutral conclusion happens the least."
      ]
    },
    {
      "cell_type": "code",
      "execution_count": 17,
      "metadata": {
        "id": "WkHQwd8jIKPh"
      },
      "outputs": [],
      "source": [
        "def get_length_of_text(_text):\n",
        "    return len(_text)\n",
        "\n",
        "\n",
        "length_of_hypothesis_texts = electra_en_dataset.hypothesis.apply(get_length_of_text)\n",
        "\n",
        "length_of_premise_texts = electra_en_dataset.premise.apply(get_length_of_text)"
      ]
    },
    {
      "cell_type": "code",
      "execution_count": 18,
      "metadata": {
        "colab": {
          "base_uri": "https://localhost:8080/",
          "height": 718
        },
        "id": "wTMXwWrRIKPh",
        "outputId": "426e8785-e3ae-4529-aca0-fd611b4e421a"
      },
      "outputs": [
        {
          "output_type": "display_data",
          "data": {
            "text/plain": [
              "<Figure size 1200x800 with 1 Axes>"
            ],
            "image/png": "[encoded data removed]"
          },
          "metadata": {}
        }
      ],
      "source": [
        "plt.figure(figsize=(12, 8))\n",
        "\n",
        "plt.boxplot(length_of_hypothesis_texts, vert=False)\n",
        "\n",
        "for pos in [\"top\", \"right\", \"left\"]:\n",
        "    plt.gca().spines[pos].set_visible(False)\n",
        "\n",
        "plt.gca().get_yaxis().set_visible(False)\n",
        "\n",
        "plt.grid(axis=\"x\", alpha=0.33, color=\"black\")\n",
        "\n",
        "plt.xlabel(\"Character Count\")\n",
        "\n",
        "plt.title(\"Box-Whisker Plot Summary for Hypothesis Character Count\")\n",
        "\n",
        "plt.show()"
      ]
    },
    {
      "cell_type": "code",
      "execution_count": 19,
      "metadata": {
        "colab": {
          "base_uri": "https://localhost:8080/",
          "height": 718
        },
        "id": "S8x6OMyLIKPi",
        "outputId": "58679914-5214-4613-aae9-4e86f7a61742"
      },
      "outputs": [
        {
          "output_type": "display_data",
          "data": {
            "text/plain": [
              "<Figure size 1200x800 with 1 Axes>"
            ],
            "image/png": "[encoded data removed]"
          },
          "metadata": {}
        }
      ],
      "source": [
        "plt.figure(figsize=(12, 8))\n",
        "\n",
        "plt.boxplot(length_of_premise_texts, vert=False)\n",
        "\n",
        "for pos in [\"top\", \"right\", \"left\"]:\n",
        "    plt.gca().spines[pos].set_visible(False)\n",
        "\n",
        "plt.gca().get_yaxis().set_visible(False)\n",
        "\n",
        "plt.grid(axis=\"x\", alpha=0.33, color=\"black\")\n",
        "\n",
        "plt.xlabel(\"Character Count\")\n",
        "\n",
        "plt.title(\"Box-Whisker Plot Summary for Premise Character Count\")\n",
        "\n",
        "plt.show()"
      ]
    },
    {
      "cell_type": "markdown",
      "metadata": {
        "id": "FL7_z5BVIKPi"
      },
      "source": [
        "- From the summary plots of the character counts in the texts, it can be seen that there appear to be many outliers in the distribution. This means that there exists several text elements that are much longer than upper limits of the distribution. This may affect the encoding of the textual embeddings in the model.\n",
        "\n",
        "- Otherwise, it would seem on average that the premises are longer than the hypotheses."
      ]
    },
    {
      "cell_type": "markdown",
      "metadata": {
        "id": "tFwGQCv7IKPj"
      },
      "source": [
        "#### Model Definition"
      ]
    },
    {
      "cell_type": "code",
      "source": [
        "def split_labels(x, y):\n",
        "    return (x[0], x[1]), y"
      ],
      "metadata": {
        "id": "RexxjF97I9ju"
      },
      "execution_count": 25,
      "outputs": []
    },
    {
      "cell_type": "code",
      "source": [
        "batch_size = 32\n",
        "\n",
        "VALIDATION_SPLIT = 0.2\n",
        "TRAIN_SIZE = int(electra_en_dataset.shape[0] * (1-VALIDATION_SPLIT))\n",
        "\n",
        "training_dataset = (\n",
        "    tensorflow.data.Dataset.from_tensor_slices(\n",
        "        (\n",
        "            electra_en_dataset[[\"hypothesis\", \"premise\"]].values,\n",
        "            electra_en_dataset[\"label\"].values\n",
        "        )\n",
        "    )\n",
        ")\n",
        "\n",
        "train_dataset = training_dataset.take(TRAIN_SIZE)\n",
        "val_dataset = training_dataset.skip(TRAIN_SIZE)\n",
        "\n",
        "train_preprocessed = train_dataset.map(split_labels, tensorflow.data.AUTOTUNE).batch(batch_size, drop_remainder=True).cache().prefetch(tensorflow.data.AUTOTUNE)\n",
        "val_preprocessed = val_dataset.map(split_labels, tensorflow.data.AUTOTUNE).batch(batch_size, drop_remainder=True).cache().prefetch(tensorflow.data.AUTOTUNE)"
      ],
      "metadata": {
        "id": "N-SIkmx3JBgA"
      },
      "execution_count": 26,
      "outputs": []
    },
    {
      "cell_type": "code",
      "source": [
        "electra_discriminator_token = keras_nlp.models.Tokenizer.from_preset(\"electra_small_discriminator_uncased_en\")\n",
        "bert_preprocessor = keras_nlp.models.BertTextClassifierPreprocessor(electra_discriminator_token, sequence_length=512)\n",
        "\n",
        "\n",
        "def get_max_token_length(dataset, preprocessor):\n",
        "  token_lengths = []\n",
        "\n",
        "  for hypothesis, premise in dataset[[\"hypothesis\", \"premise\"]].values:\n",
        "\n",
        "    encoded = preprocessor([hypothesis, premise])\n",
        "    encoded_np = encoded[\"padding_mask\" ]. numpy()\n",
        "    non_padding_count = encoded_np.sum()\n",
        "    token_lengths.append(non_padding_count)\n",
        "\n",
        "  return max(token_lengths)\n",
        "\n",
        "max_token_length = get_max_token_length(electra_en_dataset, bert_preprocessor)\n",
        "\n",
        "print(f\"Maximum token length in the dataset: {max_token_length}\")"
      ],
      "metadata": {
        "id": "eXX8oUM2MqxM"
      },
      "execution_count": null,
      "outputs": []
    },
    {
      "cell_type": "code",
      "execution_count": 24,
      "metadata": {
        "colab": {
          "base_uri": "https://localhost:8080/"
        },
        "id": "Ca3la4J9IKPj",
        "outputId": "3e0f5a89-fa21-4941-daef-7573a9ec310f"
      },
      "outputs": [
        {
          "output_type": "stream",
          "name": "stdout",
          "text": [
            "Epoch 1/3\n",
            "\u001b[1m85/85\u001b[0m \u001b[32m━━━━━━━━━━━━━━━━━━━━\u001b[0m\u001b[37m\u001b[0m \u001b[1m155s\u001b[0m 375ms/step - loss: 1.0879 - sparse_categorical_accuracy: 0.3712 - val_loss: 0.9979 - val_sparse_categorical_accuracy: 0.4955\n",
            "Epoch 2/3\n",
            "\u001b[1m85/85\u001b[0m \u001b[32m━━━━━━━━━━━━━━━━━━━━\u001b[0m\u001b[37m\u001b[0m \u001b[1m45s\u001b[0m 528ms/step - loss: 0.9525 - sparse_categorical_accuracy: 0.5665 - val_loss: 0.9071 - val_sparse_categorical_accuracy: 0.5982\n",
            "Epoch 3/3\n",
            "\u001b[1m85/85\u001b[0m \u001b[32m━━━━━━━━━━━━━━━━━━━━\u001b[0m\u001b[37m\u001b[0m \u001b[1m39s\u001b[0m 462ms/step - loss: 0.7336 - sparse_categorical_accuracy: 0.7017 - val_loss: 0.9144 - val_sparse_categorical_accuracy: 0.6310\n"
          ]
        },
        {
          "output_type": "execute_result",
          "data": {
            "text/plain": [
              "<keras.src.callbacks.history.History at 0x7ccc1fb2e980>"
            ]
          },
          "metadata": {},
          "execution_count": 24
        }
      ],
      "source": [
        "electra_discriminator_token = keras_nlp.models.Tokenizer.from_preset(\"electra_small_discriminator_uncased_en\")\n",
        "# electra_ganerator_token = keras_nlp.models.Tokenizer.from_preset(\"electra_small_generator_uncased_en\")\n",
        "\n",
        "bert_preprocessor = keras_nlp.models.BertTextClassifierPreprocessor(electra_discriminator_token, sequence_length=512)\n",
        "\n",
        "train_set = (\n",
        "    train_preprocessed.map(bert_preprocessor, tensorflow.data.AUTOTUNE).cache().prefetch(tensorflow.data.AUTOTUNE)\n",
        ")\n",
        "\n",
        "val_set = (\n",
        "    val_preprocessed.map(bert_preprocessor, tensorflow.data.AUTOTUNE).cache().prefetch(tensorflow.data.AUTOTUNE)\n",
        ")\n",
        "\n",
        "electra_discriminator_back = keras_nlp.models.Backbone.from_preset(\"electra_small_discriminator_uncased_en\")\n",
        "# electra_generator_back = keras_nlp.models.Backbone.from_preset(\"electra_small_generator_uncased_en\")\n",
        "\n",
        "bert_classifier = keras_nlp.models.BertClassifier(electra_discriminator_back, 3, preprocessor=None)\n",
        "bert_classifier.fit(train_set, epochs=3, validation_data=val_set)"
      ]
    }
  ],
  "metadata": {
    "kernelspec": {
      "display_name": "Python 3",
      "language": "python",
      "name": "python3"
    },
    "language_info": {
      "codemirror_mode": {
        "name": "ipython",
        "version": 3
      },
      "file_extension": ".py",
      "mimetype": "text/x-python",
      "name": "python",
      "nbconvert_exporter": "python",
      "pygments_lexer": "ipython3",
      "version": "3.11.5"
    },
    "colab": {
      "provenance": []
    }
  },
  "nbformat": 4,
  "nbformat_minor": 0
}